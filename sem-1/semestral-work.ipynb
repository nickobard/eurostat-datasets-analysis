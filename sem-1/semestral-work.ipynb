{
 "cells": [
  {
   "cell_type": "markdown",
   "id": "2208ef4c-54cc-4368-bc41-3d5bde37fe93",
   "metadata": {
    "collapsed": false,
    "jupyter": {
     "outputs_hidden": false
    }
   },
   "source": [
    "# BI-PRS - Semestral Work 1"
   ]
  },
  {
   "cell_type": "markdown",
   "id": "a20934a8-8722-4f84-9de3-26b7ed5b2fc8",
   "metadata": {
    "collapsed": false,
    "jupyter": {
     "outputs_hidden": false
    }
   },
   "source": [
    "### Country selection according to the representant's data"
   ]
  },
  {
   "cell_type": "code",
   "execution_count": 1,
   "id": "6db1cc594dc88b1c",
   "metadata": {
    "ExecuteTime": {
     "end_time": "2024-02-26T11:54:29.338493Z",
     "start_time": "2024-02-26T11:54:29.324249Z"
    },
    "collapsed": false,
    "jupyter": {
     "outputs_hidden": false
    }
   },
   "outputs": [
    {
     "name": "stdout",
     "output_type": "stream",
     "text": [
      "Parameter M = 2 => Norsko, K.Dedecius"
     ]
    }
   ],
   "source": [
    "K <- 27\n",
    "L <- nchar('bardatskii')\n",
    "M <- ((K + L) * 47) %% 11 + 1\n",
    "\n",
    "cat('Parameter M =', M, '=> Norsko, K.Dedecius')"
   ]
  },
  {
   "cell_type": "markdown",
   "id": "b1528caf-c9ef-4483-8a6f-acb46f4cb14c",
   "metadata": {},
   "source": [
    "### Neccessary imports"
   ]
  },
  {
   "cell_type": "code",
   "execution_count": 2,
   "id": "c5dc4eda-f8e7-481d-afd5-9652a97b320f",
   "metadata": {
    "ExecuteTime": {
     "end_time": "2024-03-30T17:06:14.017512Z",
     "start_time": "2024-03-30T17:06:13.089023Z"
    }
   },
   "outputs": [
    {
     "name": "stderr",
     "output_type": "stream",
     "text": [
      "Warning message in system(\"timedatectl\", intern = TRUE):\n",
      "“running command 'timedatectl' had status 1”\n",
      "Loading required package: kableExtra\n",
      "\n"
     ]
    }
   ],
   "source": [
    "library(cowplot)\n",
    "library(eurostat)\n",
    "library(ggplot2)\n",
    "library(gridExtra)\n",
    "library(repr)\n",
    "library(tibble)\n",
    "library(tidyr)\n",
    "library(vtable)"
   ]
  },
  {
   "cell_type": "markdown",
   "id": "b53eb7ed-b672-4354-826e-fd17477df7f8",
   "metadata": {},
   "source": [
    "## Dataset preparation\n",
    "\n",
    "- Download the dataset\n",
    "- Describe the columns\n",
    "- Extract relevant data"
   ]
  },
  {
   "cell_type": "code",
   "execution_count": 3,
   "id": "ef795396-c1ac-4af6-9d23-7b01ca08d8b3",
   "metadata": {
    "ExecuteTime": {
     "end_time": "2024-03-30T17:06:38.802880Z",
     "start_time": "2024-03-30T17:06:36.551031Z"
    }
   },
   "outputs": [
    {
     "name": "stderr",
     "output_type": "stream",
     "text": [
      "Table crim_gen_reg cached at /tmp/Rtmp2RFge5/eurostat/807d30683b11502696f1bedc206d143e.rds\n",
      "\n"
     ]
    }
   ],
   "source": [
    "# Downloading the dataset\n",
    "dataset <- get_eurostat(id='crim_gen_reg')"
   ]
  },
  {
   "cell_type": "code",
   "execution_count": 4,
   "id": "7e69faca-a125-4db9-aec1-0bbf2cb46024",
   "metadata": {
    "ExecuteTime": {
     "end_time": "2024-03-30T17:06:39.318919Z",
     "start_time": "2024-03-30T17:06:39.294064Z"
    }
   },
   "outputs": [
    {
     "data": {
      "text/html": [
       "<table class=\"dataframe\">\n",
       "<caption>A tibble: 2 × 6</caption>\n",
       "<thead>\n",
       "\t<tr><th scope=col>freq</th><th scope=col>unit</th><th scope=col>iccs</th><th scope=col>geo</th><th scope=col>TIME_PERIOD</th><th scope=col>values</th></tr>\n",
       "\t<tr><th scope=col>&lt;chr&gt;</th><th scope=col>&lt;chr&gt;</th><th scope=col>&lt;chr&gt;</th><th scope=col>&lt;chr&gt;</th><th scope=col>&lt;date&gt;</th><th scope=col>&lt;dbl&gt;</th></tr>\n",
       "</thead>\n",
       "<tbody>\n",
       "\t<tr><td>A</td><td>NR</td><td>ICCS0101</td><td>AL</td><td>2008-01-01</td><td>88</td></tr>\n",
       "\t<tr><td>A</td><td>NR</td><td>ICCS0101</td><td>AL</td><td>2009-01-01</td><td>82</td></tr>\n",
       "</tbody>\n",
       "</table>\n"
      ],
      "text/latex": [
       "A tibble: 2 × 6\n",
       "\\begin{tabular}{llllll}\n",
       " freq & unit & iccs & geo & TIME\\_PERIOD & values\\\\\n",
       " <chr> & <chr> & <chr> & <chr> & <date> & <dbl>\\\\\n",
       "\\hline\n",
       "\t A & NR & ICCS0101 & AL & 2008-01-01 & 88\\\\\n",
       "\t A & NR & ICCS0101 & AL & 2009-01-01 & 82\\\\\n",
       "\\end{tabular}\n"
      ],
      "text/markdown": [
       "\n",
       "A tibble: 2 × 6\n",
       "\n",
       "| freq &lt;chr&gt; | unit &lt;chr&gt; | iccs &lt;chr&gt; | geo &lt;chr&gt; | TIME_PERIOD &lt;date&gt; | values &lt;dbl&gt; |\n",
       "|---|---|---|---|---|---|\n",
       "| A | NR | ICCS0101 | AL | 2008-01-01 | 88 |\n",
       "| A | NR | ICCS0101 | AL | 2009-01-01 | 82 |\n",
       "\n"
      ],
      "text/plain": [
       "  freq unit iccs     geo TIME_PERIOD values\n",
       "1 A    NR   ICCS0101 AL  2008-01-01  88    \n",
       "2 A    NR   ICCS0101 AL  2009-01-01  82    "
      ]
     },
     "metadata": {},
     "output_type": "display_data"
    }
   ],
   "source": [
    "# First glance at the data we've received\n",
    "head(dataset, 2)"
   ]
  },
  {
   "cell_type": "markdown",
   "id": "8b038c79-59b7-4014-823d-72b6ba1760a3",
   "metadata": {},
   "source": [
    "#### Column description:\n",
    "\n",
    "- **freq**: Frequency\n",
    "- **unit**: Unit of measure\n",
    "- **iccs**: International classification of crime for statistical purposes\n",
    "- **geo**: Geopolitical entity (reporting)\n",
    "- **TIME_PERIOD**: Time\n",
    " \n",
    "[1]"
   ]
  },
  {
   "cell_type": "markdown",
   "id": "e8124eea-5967-44a1-8c1e-74c827965c45",
   "metadata": {},
   "source": [
    "#### Dataset completeness\n",
    "\n",
    "There are no problems with the completeness of the data for the year $2021$ from Norway.\n",
    "\n",
    "![completeness](src/images/completeness.png)\n",
    "[2]"
   ]
  },
  {
   "cell_type": "markdown",
   "id": "98b6b476-f65b-473e-a8f5-b9c5ad4497ed",
   "metadata": {},
   "source": [
    "#### Data units of measure explanation\n",
    "\n",
    "We have multiple units of measure in this dataset. Let's clarify which ones we have here.\n",
    "\n",
    "![units](src/images/units.png)\n",
    "[3]"
   ]
  },
  {
   "cell_type": "markdown",
   "id": "d38d5e34-a5a3-4268-87a4-fd3e6c331111",
   "metadata": {},
   "source": [
    "#### Relevant data selection and dataset transformations\n",
    "- Norway NUTS3 regions\n",
    "- Records for the year $2021$\n",
    "- Make separate columns for relative and absolute values\n",
    "- Make columns iccs and geo factors"
   ]
  },
  {
   "cell_type": "code",
   "execution_count": 5,
   "id": "ff651077-1fb0-402c-8be5-217cc444ef5e",
   "metadata": {
    "ExecuteTime": {
     "end_time": "2024-03-30T17:08:47.451840Z",
     "start_time": "2024-03-30T17:08:47.429621Z"
    }
   },
   "outputs": [],
   "source": [
    "# Relative data selection\n",
    "data <- subset(dataset, \n",
    "               startsWith(geo, 'NO') &\n",
    "               nchar(geo) == 5 &\n",
    "               TIME_PERIOD == '2021-01-01', \n",
    "               c(unit, iccs, geo, values))"
   ]
  },
  {
   "cell_type": "markdown",
   "id": "0ce75ff6-19d1-4f73-993c-a5bb7f637cb1",
   "metadata": {},
   "source": [
    "#### Rename factor categories\n",
    "![iccs_codes](src/images/iccs_codes.png)\n",
    "\n",
    "[4] \n",
    "\n",
    "**Not provided in the dataset**:\n",
    "- Assault (ICCS02011)\n",
    "- Burglary (ICCS0501)\n",
    "- Burglary of private residential premises (ICCS05012)\n",
    "\n",
    "[2]"
   ]
  },
  {
   "cell_type": "code",
   "execution_count": 6,
   "id": "db44da7d-07b3-445e-b027-55ef0bd8f004",
   "metadata": {
    "ExecuteTime": {
     "end_time": "2024-03-30T17:08:54.404794Z",
     "start_time": "2024-03-30T17:08:54.390053Z"
    }
   },
   "outputs": [],
   "source": [
    "prev_labels <- c('ICCS0101', 'ICCS0401', 'ICCS0502', 'ICCS050211')\n",
    "new_labels <- c('Int. homicide', 'Robbery', 'Other theft', 'Vehicle theft')\n",
    "data$iccs <- factor(data$iccs, levels=prev_labels, labels=new_labels)\n",
    "prev_labels <- c(\"NO020\", \"NO060\", \"NO071\", \"NO074\", \"NO081\", \"NO082\", \"NO091\", \"NO092\", \"NO0A1\", \"NO0A2\", \"NO0A3\", \"NO0B1\", \"NO0B2\")\n",
    "new_labels <- c(\"Innlandet\", \"Trøndelag\", \"Nordland\", \"Troms og Finnmark\", \"Oslo\", \"Viken\", \"Vestfold og Telemark\", \"Agder\", \"Rogaland\", \"Vestland\", \"Møre og Romsdal\", \"Jan Mayen\", \"Svalbard\")\n",
    "data$geo <- factor(data$geo, levels=prev_labels, labels=new_labels)"
   ]
  },
  {
   "cell_type": "code",
   "execution_count": 7,
   "id": "73d42fc0-a8e2-4652-a387-d097f2f6e276",
   "metadata": {
    "ExecuteTime": {
     "end_time": "2024-03-30T17:09:08.131177Z",
     "start_time": "2024-03-30T17:09:08.101037Z"
    }
   },
   "outputs": [
    {
     "data": {
      "text/html": [
       "TRUE"
      ],
      "text/latex": [
       "TRUE"
      ],
      "text/markdown": [
       "TRUE"
      ],
      "text/plain": [
       "[1] TRUE"
      ]
     },
     "metadata": {},
     "output_type": "display_data"
    }
   ],
   "source": [
    "# Dataset transformation\n",
    "data_by_unit <- split(data[, -1], data$unit)\n",
    "all.equal(data_by_unit$P_HTHAB[, 1:2], data_by_unit$NR[, 1:2])"
   ]
  },
  {
   "cell_type": "code",
   "execution_count": 8,
   "id": "fb35c3ed-443d-45ee-910c-6228f9728fb2",
   "metadata": {
    "ExecuteTime": {
     "end_time": "2024-03-30T17:09:17.998220Z",
     "start_time": "2024-03-30T17:09:17.969515Z"
    }
   },
   "outputs": [],
   "source": [
    "data <- merge(x=data_by_unit$P_HTHAB, y=data_by_unit$NR, by=c('iccs', 'geo'), all=T)  # outer join\n",
    "colnames(data)[3] <- 'rel'\n",
    "colnames(data)[4] <- 'abs'"
   ]
  },
  {
   "cell_type": "code",
   "execution_count": 9,
   "id": "4aec6080-36a4-41ab-b475-1d48d27a9432",
   "metadata": {
    "ExecuteTime": {
     "end_time": "2024-03-30T17:09:19.511600Z",
     "start_time": "2024-03-30T17:09:19.492985Z"
    }
   },
   "outputs": [
    {
     "data": {
      "text/html": [
       "FALSE"
      ],
      "text/latex": [
       "FALSE"
      ],
      "text/markdown": [
       "FALSE"
      ],
      "text/plain": [
       "[1] FALSE"
      ]
     },
     "metadata": {},
     "output_type": "display_data"
    }
   ],
   "source": [
    "any(is.na(data))  # no NA values"
   ]
  },
  {
   "cell_type": "code",
   "execution_count": 10,
   "id": "5331d71e-f927-4d1d-aed8-2548acb3a845",
   "metadata": {
    "ExecuteTime": {
     "end_time": "2024-03-30T17:34:02.736040Z",
     "start_time": "2024-03-30T17:34:02.702561Z"
    }
   },
   "outputs": [
    {
     "data": {
      "text/html": [
       "<table class=\"dataframe\">\n",
       "<caption>A data.frame: 10 × 4</caption>\n",
       "<thead>\n",
       "\t<tr><th></th><th scope=col>iccs</th><th scope=col>geo</th><th scope=col>rel</th><th scope=col>abs</th></tr>\n",
       "\t<tr><th></th><th scope=col>&lt;fct&gt;</th><th scope=col>&lt;fct&gt;</th><th scope=col>&lt;dbl&gt;</th><th scope=col>&lt;dbl&gt;</th></tr>\n",
       "</thead>\n",
       "<tbody>\n",
       "\t<tr><th scope=row>1</th><td>Int. homicide</td><td>Agder               </td><td>0.32</td><td>1</td></tr>\n",
       "\t<tr><th scope=row>2</th><td>Int. homicide</td><td>Innlandet           </td><td>0.00</td><td>0</td></tr>\n",
       "\t<tr><th scope=row>3</th><td>Int. homicide</td><td>Møre og Romsdal     </td><td>0.75</td><td>2</td></tr>\n",
       "\t<tr><th scope=row>4</th><td>Int. homicide</td><td>Nordland            </td><td>0.00</td><td>0</td></tr>\n",
       "\t<tr><th scope=row>5</th><td>Int. homicide</td><td>Oslo                </td><td>1.00</td><td>7</td></tr>\n",
       "\t<tr><th scope=row>6</th><td>Int. homicide</td><td>Rogaland            </td><td>0.00</td><td>0</td></tr>\n",
       "\t<tr><th scope=row>7</th><td>Int. homicide</td><td>Troms og Finnmark   </td><td>0.00</td><td>0</td></tr>\n",
       "\t<tr><th scope=row>8</th><td>Int. homicide</td><td>Trøndelag           </td><td>0.21</td><td>1</td></tr>\n",
       "\t<tr><th scope=row>9</th><td>Int. homicide</td><td>Vestfold og Telemark</td><td>0.47</td><td>2</td></tr>\n",
       "\t<tr><th scope=row>10</th><td>Int. homicide</td><td>Vestland            </td><td>0.47</td><td>3</td></tr>\n",
       "</tbody>\n",
       "</table>\n"
      ],
      "text/latex": [
       "A data.frame: 10 × 4\n",
       "\\begin{tabular}{r|llll}\n",
       "  & iccs & geo & rel & abs\\\\\n",
       "  & <fct> & <fct> & <dbl> & <dbl>\\\\\n",
       "\\hline\n",
       "\t1 & Int. homicide & Agder                & 0.32 & 1\\\\\n",
       "\t2 & Int. homicide & Innlandet            & 0.00 & 0\\\\\n",
       "\t3 & Int. homicide & Møre og Romsdal      & 0.75 & 2\\\\\n",
       "\t4 & Int. homicide & Nordland             & 0.00 & 0\\\\\n",
       "\t5 & Int. homicide & Oslo                 & 1.00 & 7\\\\\n",
       "\t6 & Int. homicide & Rogaland             & 0.00 & 0\\\\\n",
       "\t7 & Int. homicide & Troms og Finnmark    & 0.00 & 0\\\\\n",
       "\t8 & Int. homicide & Trøndelag            & 0.21 & 1\\\\\n",
       "\t9 & Int. homicide & Vestfold og Telemark & 0.47 & 2\\\\\n",
       "\t10 & Int. homicide & Vestland             & 0.47 & 3\\\\\n",
       "\\end{tabular}\n"
      ],
      "text/markdown": [
       "\n",
       "A data.frame: 10 × 4\n",
       "\n",
       "| <!--/--> | iccs &lt;fct&gt; | geo &lt;fct&gt; | rel &lt;dbl&gt; | abs &lt;dbl&gt; |\n",
       "|---|---|---|---|---|\n",
       "| 1 | Int. homicide | Agder                | 0.32 | 1 |\n",
       "| 2 | Int. homicide | Innlandet            | 0.00 | 0 |\n",
       "| 3 | Int. homicide | Møre og Romsdal      | 0.75 | 2 |\n",
       "| 4 | Int. homicide | Nordland             | 0.00 | 0 |\n",
       "| 5 | Int. homicide | Oslo                 | 1.00 | 7 |\n",
       "| 6 | Int. homicide | Rogaland             | 0.00 | 0 |\n",
       "| 7 | Int. homicide | Troms og Finnmark    | 0.00 | 0 |\n",
       "| 8 | Int. homicide | Trøndelag            | 0.21 | 1 |\n",
       "| 9 | Int. homicide | Vestfold og Telemark | 0.47 | 2 |\n",
       "| 10 | Int. homicide | Vestland             | 0.47 | 3 |\n",
       "\n"
      ],
      "text/plain": [
       "   iccs          geo                  rel  abs\n",
       "1  Int. homicide Agder                0.32 1  \n",
       "2  Int. homicide Innlandet            0.00 0  \n",
       "3  Int. homicide Møre og Romsdal      0.75 2  \n",
       "4  Int. homicide Nordland             0.00 0  \n",
       "5  Int. homicide Oslo                 1.00 7  \n",
       "6  Int. homicide Rogaland             0.00 0  \n",
       "7  Int. homicide Troms og Finnmark    0.00 0  \n",
       "8  Int. homicide Trøndelag            0.21 1  \n",
       "9  Int. homicide Vestfold og Telemark 0.47 2  \n",
       "10 Int. homicide Vestland             0.47 3  "
      ]
     },
     "metadata": {},
     "output_type": "display_data"
    }
   ],
   "source": [
    "head(data, 10)"
   ]
  },
  {
   "cell_type": "markdown",
   "id": "a6e8442d-24a3-4f2f-8759-78185082e4a3",
   "metadata": {},
   "source": [
    "In addition to the data processing performed, it is important to note that the values of ICCS050211 are already contained in ICCS0502. We will resolve this from below depending on what the specific test requires.\n",
    "[6]"
   ]
  },
  {
   "cell_type": "markdown",
   "id": "73c8f02a-62e9-4d3f-a84c-f1147a4c4082",
   "metadata": {},
   "source": [
    "## Exploratory data analysis & descriptive statistics\n",
    "\n",
    "The data we have represent a number of crimes of each specific type for each NUTS3 Norway region represented in P_HTHAB (Per hundred thousand inhabitants) units. To analyse the following data, statistical measures and graphs will be used. As a result, we want to get insights about the criminality in different NUTS3 regions of Norway."
   ]
  },
  {
   "cell_type": "code",
   "execution_count": 11,
   "id": "33dd137c-d584-498e-a750-a774c2901ee8",
   "metadata": {
    "ExecuteTime": {
     "end_time": "2024-03-30T17:34:27.424174Z",
     "start_time": "2024-03-30T17:34:27.364339Z"
    }
   },
   "outputs": [],
   "source": [
    "freq_df <- pivot_wider(data[, -4], names_from=iccs, values_from=rel)\n",
    "freq_df[, 'Other theft'] <- freq_df[, 'Other theft'] - freq_df[, 'Vehicle theft']\n",
    "freq_table <- (freq_df %>% column_to_rownames('geo') %>% as.matrix() %>% as.table())\n",
    "names(dimnames(freq_table)) <- c('geo', 'iccs')\n",
    "prob_table.row_cond <- prop.table(freq_table, margin=1)\n",
    "prob_table.col_cond <- prop.table(freq_table, margin=2)"
   ]
  },
  {
   "cell_type": "code",
   "execution_count": 12,
   "id": "a19624c4-6cdd-4a5c-9590-407030b4bf44",
   "metadata": {},
   "outputs": [
    {
     "data": {
      "image/png": "[encoded data removed]",
      "text/plain": [
       "plot without title"
      ]
     },
     "metadata": {
      "image/png": {
       "height": 360,
       "width": 1020
      }
     },
     "output_type": "display_data"
    }
   ],
   "source": [
    "options(repr.plot.width=17, repr.plot.height=6) # Regulates the size of a plot [5]\n",
    "ggplot(as.data.frame(prob_table.row_cond), aes(x=geo, y=Freq, fill=iccs)) +\n",
    "    geom_bar(stat='identity', position='dodge') +\n",
    "    labs( title='Relative probabilities of crimes in Norway by regions', x='', y='NUTS3 codes of regions', # Changes a title & axes of a plot\n",
    "         fill=\"Crimes by type\" ) + # Changes a title of a legend\n",
    "    theme(plot.title = element_text(hjust=0.5)) # Centers a title of a plot"
   ]
  },
  {
   "cell_type": "markdown",
   "id": "1609264c-6f9b-44d4-9706-83b2f5871aa4",
   "metadata": {},
   "source": [
    "What we see from the plot upwards is that **without taking into account the criminality** of a particular NUTS3 region in Norway,\n",
    "the **distribution of crimes by types** in all regions is **very similar**. That gives us an intuition (tests weren't conducted yet) that\n",
    "**all crime types** are similarly distributed **in all regions.** We can see that **theft is the most likely-to-happen crime in all regions and an int. homicide is the most rare crime**."
   ]
  },
  {
   "cell_type": "code",
   "execution_count": 13,
   "id": "104e41cf-1e0c-46d5-a5d2-e13fb5a7277f",
   "metadata": {},
   "outputs": [
    {
     "data": {
      "image/png": "[encoded data removed]",
      "text/plain": [
       "plot without title"
      ]
     },
     "metadata": {
      "image/png": {
       "height": 780,
       "width": 720
      }
     },
     "output_type": "display_data"
    }
   ],
   "source": [
    "options(repr.plot.width=12, repr.plot.height=13) # Regulates the size of a plot [5]\n",
    "ggplot(as.data.frame(prob_table.col_cond), aes(x=iccs, y=Freq, fill=geo)) +\n",
    "    geom_bar(stat='identity', position='dodge') +\n",
    "    labs( title='Relative probabilities of crimes in Norway by types', y='', x = 'Crime types', # Changes a title & axes of a plot\n",
    "         fill=\"Regions\" ) + # Changes a title of a legend\n",
    "    theme(plot.title=element_text(hjust=0.5)) # Centers a title of a plot"
   ]
  },
  {
   "cell_type": "markdown",
   "id": "140c611b-4928-466b-8c75-04fc56662423",
   "metadata": {},
   "source": [
    "This plot depicts a **distribution of probability** of crimes by types in regions of Norway. Looking at the probabilities of each crime happening in a specific region, we can highlight these facts which immediately catch the eye:\n",
    "\n",
    "- **A robbery, a theft** is most likely to happen in **Oslo**\n",
    "- **An int. homicide** is most likely to happen in **Viken**\n",
    "- **A theft of a vehicle** is most likely to happen in **Adger**\n",
    "- **Nordland** is the region with the least relative number of crimes.\n",
    "- At the same time **Oslo** looks like the region which **dominates with its relative amount of crimes** throughout **almost all** categories.\n",
    "\n",
    "\\* all statements are related to the year of $2021$"
   ]
  },
  {
   "cell_type": "markdown",
   "id": "2e041256-306d-4821-9a40-f870ab985671",
   "metadata": {},
   "source": [
    "## Contingency table"
   ]
  },
  {
   "cell_type": "markdown",
   "id": "c83fc3ed-590f-4587-bed3-6ecb4c828537",
   "metadata": {},
   "source": [
    "### Visual analysis of tables\n",
    "\n",
    "Let's create contingency table - matrix of probabilities or frequencies - to see joined distribution or joint frequencies of two random variables across each category of each variable.\n",
    "\n",
    "Now we will create contingency table across **iccs** and **geo** variables using absolute number of crime cases. But later we will use relative values, because they represent rate of particular crime taking also in consideration population size."
   ]
  },
  {
   "cell_type": "code",
   "execution_count": 14,
   "id": "08e4bf76-ac00-4a85-925c-684d273f44ea",
   "metadata": {},
   "outputs": [
    {
     "data": {
      "text/plain": [
       "               geo\n",
       "iccs            Østfold Akershus Oslo og Akershus Hedmark Oppland Buskerud\n",
       "  Int. homicide       0        1                0       0       7       13\n",
       "  Robbery            19       42                4      14     327      131\n",
       "  Other theft      3046     6515             1491    1878   21030    16214\n",
       "  Vehicle theft     122      294               89     106     518      684\n",
       "               geo\n",
       "iccs            Vestfold Telemark Aust-Agder Vest-Agder Rogaland\n",
       "  Int. homicide        2        1          0          3        2\n",
       "  Robbery             44       40         55         50        7\n",
       "  Other theft       6125     5538       6973       7256     1580\n",
       "  Vehicle theft      388      347        268        205       67"
      ]
     },
     "metadata": {},
     "output_type": "display_data"
    }
   ],
   "source": [
    "ct_abs <- xtabs(formula = abs ~ iccs + geo, data=data)\n",
    "ct_abs"
   ]
  },
  {
   "cell_type": "markdown",
   "id": "9d6df3ab-36c5-4fc8-aa52-d79d04526bf2",
   "metadata": {},
   "source": [
    "In each cell we can observe absolute number of crime cases of particular crime type in particular NUTS3 region in year $2021$.\n",
    "\n",
    "In our data we have one problem - Theft crime type contains also all thefts of vehicle, because theft of vehicle is a subtype. Therefore, we will subtract surplus thefts from Theft type.\n"
   ]
  },
  {
   "cell_type": "code",
   "execution_count": 15,
   "id": "66de9f04-42dc-410c-8fa4-e615c1f22449",
   "metadata": {},
   "outputs": [],
   "source": [
    "ct_abs['Other theft',] <- ct_abs['Other theft',] - ct_abs['Vehicle theft',]"
   ]
  },
  {
   "cell_type": "code",
   "execution_count": 16,
   "id": "88ac87c0-c49f-4160-bbc4-4312912680b3",
   "metadata": {},
   "outputs": [
    {
     "data": {
      "text/plain": [
       "               geo\n",
       "iccs            Østfold Akershus Oslo og Akershus Hedmark Oppland Buskerud\n",
       "  Int. homicide       0        1                0       0       7       13\n",
       "  Robbery            19       42                4      14     327      131\n",
       "  Other theft      2924     6221             1402    1772   20512    15530\n",
       "  Vehicle theft     122      294               89     106     518      684\n",
       "               geo\n",
       "iccs            Vestfold Telemark Aust-Agder Vest-Agder Rogaland\n",
       "  Int. homicide        2        1          0          3        2\n",
       "  Robbery             44       40         55         50        7\n",
       "  Other theft       5737     5191       6705       7051     1513\n",
       "  Vehicle theft      388      347        268        205       67"
      ]
     },
     "metadata": {},
     "output_type": "display_data"
    }
   ],
   "source": [
    "ct_abs"
   ]
  },
  {
   "cell_type": "markdown",
   "id": "b24078f5-9cec-4d7d-8103-39390fac898c",
   "metadata": {},
   "source": [
    "We will add margins to see also total crime cases for each crime type and for each region."
   ]
  },
  {
   "cell_type": "code",
   "execution_count": 17,
   "id": "5448424e-2ed9-4f1d-94e0-b4c1a73d6ea3",
   "metadata": {},
   "outputs": [
    {
     "data": {
      "text/html": [
       "<table class=\"dataframe\">\n",
       "<caption>A table: 5 × 12 of type dbl</caption>\n",
       "<thead>\n",
       "\t<tr><th></th><th scope=col>Østfold</th><th scope=col>Akershus</th><th scope=col>Oslo og Akershus</th><th scope=col>Hedmark</th><th scope=col>Oppland</th><th scope=col>Buskerud</th><th scope=col>Vestfold</th><th scope=col>Telemark</th><th scope=col>Aust-Agder</th><th scope=col>Vest-Agder</th><th scope=col>Rogaland</th><th scope=col>Sum</th></tr>\n",
       "</thead>\n",
       "<tbody>\n",
       "\t<tr><th scope=row>Int. homicide</th><td>   0</td><td>   1</td><td>   0</td><td>   0</td><td>    7</td><td>   13</td><td>   2</td><td>   1</td><td>   0</td><td>   3</td><td>   2</td><td>   29</td></tr>\n",
       "\t<tr><th scope=row>Robbery</th><td>  19</td><td>  42</td><td>   4</td><td>  14</td><td>  327</td><td>  131</td><td>  44</td><td>  40</td><td>  55</td><td>  50</td><td>   7</td><td>  733</td></tr>\n",
       "\t<tr><th scope=row>Other theft</th><td>2924</td><td>6221</td><td>1402</td><td>1772</td><td>20512</td><td>15530</td><td>5737</td><td>5191</td><td>6705</td><td>7051</td><td>1513</td><td>74558</td></tr>\n",
       "\t<tr><th scope=row>Vehicle theft</th><td> 122</td><td> 294</td><td>  89</td><td> 106</td><td>  518</td><td>  684</td><td> 388</td><td> 347</td><td> 268</td><td> 205</td><td>  67</td><td> 3088</td></tr>\n",
       "\t<tr><th scope=row>Sum</th><td>3065</td><td>6558</td><td>1495</td><td>1892</td><td>21364</td><td>16358</td><td>6171</td><td>5579</td><td>7028</td><td>7309</td><td>1589</td><td>78408</td></tr>\n",
       "</tbody>\n",
       "</table>\n"
      ],
      "text/latex": [
       "A table: 5 × 12 of type dbl\n",
       "\\begin{tabular}{r|llllllllllll}\n",
       "  & Østfold & Akershus & Oslo og Akershus & Hedmark & Oppland & Buskerud & Vestfold & Telemark & Aust-Agder & Vest-Agder & Rogaland & Sum\\\\\n",
       "\\hline\n",
       "\tInt. homicide &    0 &    1 &    0 &    0 &     7 &    13 &    2 &    1 &    0 &    3 &    2 &    29\\\\\n",
       "\tRobbery &   19 &   42 &    4 &   14 &   327 &   131 &   44 &   40 &   55 &   50 &    7 &   733\\\\\n",
       "\tOther theft & 2924 & 6221 & 1402 & 1772 & 20512 & 15530 & 5737 & 5191 & 6705 & 7051 & 1513 & 74558\\\\\n",
       "\tVehicle theft &  122 &  294 &   89 &  106 &   518 &   684 &  388 &  347 &  268 &  205 &   67 &  3088\\\\\n",
       "\tSum & 3065 & 6558 & 1495 & 1892 & 21364 & 16358 & 6171 & 5579 & 7028 & 7309 & 1589 & 78408\\\\\n",
       "\\end{tabular}\n"
      ],
      "text/markdown": [
       "\n",
       "A table: 5 × 12 of type dbl\n",
       "\n",
       "| <!--/--> | Østfold | Akershus | Oslo og Akershus | Hedmark | Oppland | Buskerud | Vestfold | Telemark | Aust-Agder | Vest-Agder | Rogaland | Sum |\n",
       "|---|---|---|---|---|---|---|---|---|---|---|---|---|\n",
       "| Int. homicide |    0 |    1 |    0 |    0 |     7 |    13 |    2 |    1 |    0 |    3 |    2 |    29 |\n",
       "| Robbery |   19 |   42 |    4 |   14 |   327 |   131 |   44 |   40 |   55 |   50 |    7 |   733 |\n",
       "| Other theft | 2924 | 6221 | 1402 | 1772 | 20512 | 15530 | 5737 | 5191 | 6705 | 7051 | 1513 | 74558 |\n",
       "| Vehicle theft |  122 |  294 |   89 |  106 |   518 |   684 |  388 |  347 |  268 |  205 |   67 |  3088 |\n",
       "| Sum | 3065 | 6558 | 1495 | 1892 | 21364 | 16358 | 6171 | 5579 | 7028 | 7309 | 1589 | 78408 |\n",
       "\n"
      ],
      "text/plain": [
       "               geo\n",
       "iccs            Østfold Akershus Oslo og Akershus Hedmark Oppland Buskerud\n",
       "  Int. homicide    0       1        0                0        7      13   \n",
       "  Robbery         19      42        4               14      327     131   \n",
       "  Other theft   2924    6221     1402             1772    20512   15530   \n",
       "  Vehicle theft  122     294       89              106      518     684   \n",
       "  Sum           3065    6558     1495             1892    21364   16358   \n",
       "               geo\n",
       "iccs            Vestfold Telemark Aust-Agder Vest-Agder Rogaland Sum  \n",
       "  Int. homicide    2        1        0          3          2        29\n",
       "  Robbery         44       40       55         50          7       733\n",
       "  Other theft   5737     5191     6705       7051       1513     74558\n",
       "  Vehicle theft  388      347      268        205         67      3088\n",
       "  Sum           6171     5579     7028       7309       1589     78408"
      ]
     },
     "metadata": {},
     "output_type": "display_data"
    }
   ],
   "source": [
    "addmargins(ct_abs)"
   ]
  },
  {
   "cell_type": "markdown",
   "id": "ff0a70c1-8890-4fb6-8853-fe7b80f5bc31",
   "metadata": {},
   "source": [
    "For example, we can observe, that in total there were $78408$ crime cases for all given crime types across all regions for year $2021$, most of them - $74558$ were thefts. The biggest number of thefts were in NO081 (Oslo, capital city of Norway) - $20512$ cases.\n",
    "\n",
    "Let's now create contingency table with empirical probabilities:"
   ]
  },
  {
   "cell_type": "code",
   "execution_count": 18,
   "id": "b65509dd-f449-42bc-b4dd-575618b18594",
   "metadata": {},
   "outputs": [
    {
     "data": {
      "text/html": [
       "<table class=\"dataframe\">\n",
       "<caption>A table: 5 × 12 of type dbl</caption>\n",
       "<thead>\n",
       "\t<tr><th></th><th scope=col>Østfold</th><th scope=col>Akershus</th><th scope=col>Oslo og Akershus</th><th scope=col>Hedmark</th><th scope=col>Oppland</th><th scope=col>Buskerud</th><th scope=col>Vestfold</th><th scope=col>Telemark</th><th scope=col>Aust-Agder</th><th scope=col>Vest-Agder</th><th scope=col>Rogaland</th><th scope=col>Sum</th></tr>\n",
       "</thead>\n",
       "<tbody>\n",
       "\t<tr><th scope=row>Int. homicide</th><td>0.00000</td><td>0.00001</td><td>0.00000</td><td>0.00000</td><td>0.00009</td><td>0.00017</td><td>0.00003</td><td>0.00001</td><td>0.00000</td><td>0.00004</td><td>0.00003</td><td>0.00037</td></tr>\n",
       "\t<tr><th scope=row>Robbery</th><td>0.00024</td><td>0.00054</td><td>0.00005</td><td>0.00018</td><td>0.00417</td><td>0.00167</td><td>0.00056</td><td>0.00051</td><td>0.00070</td><td>0.00064</td><td>0.00009</td><td>0.00935</td></tr>\n",
       "\t<tr><th scope=row>Other theft</th><td>0.03729</td><td>0.07934</td><td>0.01788</td><td>0.02260</td><td>0.26161</td><td>0.19807</td><td>0.07317</td><td>0.06620</td><td>0.08551</td><td>0.08993</td><td>0.01930</td><td>0.95090</td></tr>\n",
       "\t<tr><th scope=row>Vehicle theft</th><td>0.00156</td><td>0.00375</td><td>0.00114</td><td>0.00135</td><td>0.00661</td><td>0.00872</td><td>0.00495</td><td>0.00443</td><td>0.00342</td><td>0.00261</td><td>0.00085</td><td>0.03938</td></tr>\n",
       "\t<tr><th scope=row>Sum</th><td>0.03909</td><td>0.08364</td><td>0.01907</td><td>0.02413</td><td>0.27247</td><td>0.20863</td><td>0.07870</td><td>0.07115</td><td>0.08963</td><td>0.09322</td><td>0.02027</td><td>1.00000</td></tr>\n",
       "</tbody>\n",
       "</table>\n"
      ],
      "text/latex": [
       "A table: 5 × 12 of type dbl\n",
       "\\begin{tabular}{r|llllllllllll}\n",
       "  & Østfold & Akershus & Oslo og Akershus & Hedmark & Oppland & Buskerud & Vestfold & Telemark & Aust-Agder & Vest-Agder & Rogaland & Sum\\\\\n",
       "\\hline\n",
       "\tInt. homicide & 0.00000 & 0.00001 & 0.00000 & 0.00000 & 0.00009 & 0.00017 & 0.00003 & 0.00001 & 0.00000 & 0.00004 & 0.00003 & 0.00037\\\\\n",
       "\tRobbery & 0.00024 & 0.00054 & 0.00005 & 0.00018 & 0.00417 & 0.00167 & 0.00056 & 0.00051 & 0.00070 & 0.00064 & 0.00009 & 0.00935\\\\\n",
       "\tOther theft & 0.03729 & 0.07934 & 0.01788 & 0.02260 & 0.26161 & 0.19807 & 0.07317 & 0.06620 & 0.08551 & 0.08993 & 0.01930 & 0.95090\\\\\n",
       "\tVehicle theft & 0.00156 & 0.00375 & 0.00114 & 0.00135 & 0.00661 & 0.00872 & 0.00495 & 0.00443 & 0.00342 & 0.00261 & 0.00085 & 0.03938\\\\\n",
       "\tSum & 0.03909 & 0.08364 & 0.01907 & 0.02413 & 0.27247 & 0.20863 & 0.07870 & 0.07115 & 0.08963 & 0.09322 & 0.02027 & 1.00000\\\\\n",
       "\\end{tabular}\n"
      ],
      "text/markdown": [
       "\n",
       "A table: 5 × 12 of type dbl\n",
       "\n",
       "| <!--/--> | Østfold | Akershus | Oslo og Akershus | Hedmark | Oppland | Buskerud | Vestfold | Telemark | Aust-Agder | Vest-Agder | Rogaland | Sum |\n",
       "|---|---|---|---|---|---|---|---|---|---|---|---|---|\n",
       "| Int. homicide | 0.00000 | 0.00001 | 0.00000 | 0.00000 | 0.00009 | 0.00017 | 0.00003 | 0.00001 | 0.00000 | 0.00004 | 0.00003 | 0.00037 |\n",
       "| Robbery | 0.00024 | 0.00054 | 0.00005 | 0.00018 | 0.00417 | 0.00167 | 0.00056 | 0.00051 | 0.00070 | 0.00064 | 0.00009 | 0.00935 |\n",
       "| Other theft | 0.03729 | 0.07934 | 0.01788 | 0.02260 | 0.26161 | 0.19807 | 0.07317 | 0.06620 | 0.08551 | 0.08993 | 0.01930 | 0.95090 |\n",
       "| Vehicle theft | 0.00156 | 0.00375 | 0.00114 | 0.00135 | 0.00661 | 0.00872 | 0.00495 | 0.00443 | 0.00342 | 0.00261 | 0.00085 | 0.03938 |\n",
       "| Sum | 0.03909 | 0.08364 | 0.01907 | 0.02413 | 0.27247 | 0.20863 | 0.07870 | 0.07115 | 0.08963 | 0.09322 | 0.02027 | 1.00000 |\n",
       "\n"
      ],
      "text/plain": [
       "               geo\n",
       "iccs            Østfold Akershus Oslo og Akershus Hedmark Oppland Buskerud\n",
       "  Int. homicide 0.00000 0.00001  0.00000          0.00000 0.00009 0.00017 \n",
       "  Robbery       0.00024 0.00054  0.00005          0.00018 0.00417 0.00167 \n",
       "  Other theft   0.03729 0.07934  0.01788          0.02260 0.26161 0.19807 \n",
       "  Vehicle theft 0.00156 0.00375  0.00114          0.00135 0.00661 0.00872 \n",
       "  Sum           0.03909 0.08364  0.01907          0.02413 0.27247 0.20863 \n",
       "               geo\n",
       "iccs            Vestfold Telemark Aust-Agder Vest-Agder Rogaland Sum    \n",
       "  Int. homicide 0.00003  0.00001  0.00000    0.00004    0.00003  0.00037\n",
       "  Robbery       0.00056  0.00051  0.00070    0.00064    0.00009  0.00935\n",
       "  Other theft   0.07317  0.06620  0.08551    0.08993    0.01930  0.95090\n",
       "  Vehicle theft 0.00495  0.00443  0.00342    0.00261    0.00085  0.03938\n",
       "  Sum           0.07870  0.07115  0.08963    0.09322    0.02027  1.00000"
      ]
     },
     "metadata": {},
     "output_type": "display_data"
    }
   ],
   "source": [
    "round(addmargins(prop.table(ct_abs)), digits=5)"
   ]
  },
  {
   "cell_type": "markdown",
   "id": "e10f2838-6a8d-436b-852a-b07a01439ae4",
   "metadata": {},
   "source": [
    "We rounded table with $5$ digits precision after floating point, because for this precision non-zero probabilities for Intentional homicide are not $0$ in the table, and it is more readable.\n",
    "\n",
    "Each cell represents empirical probability $P(Crime\\ type, Region)$, except margins, which represent empirical probability $P(Crime\\ type)$ or $P(Region)$.\n",
    "\n",
    "We can observe, that the most criminal region is NO081 (Oslo) with probability $\\approx 0.272$ of crime occurrence in this region.\n",
    "\n",
    "Now we can see the main problem of absolute values - it makes sense that in Oslo, which has very high population, there will be the highest probability of theft. Therefore, we will now create contingency tables for relative values and will use them for further analysis."
   ]
  },
  {
   "cell_type": "code",
   "execution_count": 19,
   "id": "d90546ad-aec2-4449-b5ec-ac98b7ff9354",
   "metadata": {},
   "outputs": [
    {
     "data": {
      "text/html": [
       "<table class=\"dataframe\">\n",
       "<caption>A table: 5 × 12 of type dbl</caption>\n",
       "<thead>\n",
       "\t<tr><th></th><th scope=col>Østfold</th><th scope=col>Akershus</th><th scope=col>Oslo og Akershus</th><th scope=col>Hedmark</th><th scope=col>Oppland</th><th scope=col>Buskerud</th><th scope=col>Vestfold</th><th scope=col>Telemark</th><th scope=col>Aust-Agder</th><th scope=col>Vest-Agder</th><th scope=col>Rogaland</th><th scope=col>Sum</th></tr>\n",
       "</thead>\n",
       "<tbody>\n",
       "\t<tr><th scope=row>Int. homicide</th><td>  0.00</td><td>   0.21</td><td>  0.00</td><td>  0.00</td><td>   1.00</td><td>   1.04</td><td>   0.47</td><td>   0.32</td><td>   0.00</td><td>   0.47</td><td>  0.75</td><td>    4.26</td></tr>\n",
       "\t<tr><th scope=row>Robbery</th><td>  5.13</td><td>   8.91</td><td>  1.66</td><td>  5.78</td><td>  46.91</td><td>  10.46</td><td>  10.43</td><td>  12.95</td><td>  11.40</td><td>   7.83</td><td>  2.64</td><td>  124.10</td></tr>\n",
       "\t<tr><th scope=row>Other theft</th><td>788.98</td><td>1320.46</td><td>583.33</td><td>731.72</td><td>2942.85</td><td>1240.03</td><td>1359.86</td><td>1680.79</td><td>1389.22</td><td>1103.75</td><td>569.77</td><td>13710.76</td></tr>\n",
       "\t<tr><th scope=row>Vehicle theft</th><td> 32.92</td><td>  62.40</td><td> 37.03</td><td> 43.77</td><td>  74.32</td><td>  54.62</td><td>  91.97</td><td> 112.35</td><td>  55.53</td><td>  32.09</td><td> 25.23</td><td>  622.23</td></tr>\n",
       "\t<tr><th scope=row>Sum</th><td>827.03</td><td>1391.98</td><td>622.02</td><td>781.27</td><td>3065.08</td><td>1306.15</td><td>1462.73</td><td>1806.41</td><td>1456.15</td><td>1144.14</td><td>598.39</td><td>14461.35</td></tr>\n",
       "</tbody>\n",
       "</table>\n"
      ],
      "text/latex": [
       "A table: 5 × 12 of type dbl\n",
       "\\begin{tabular}{r|llllllllllll}\n",
       "  & Østfold & Akershus & Oslo og Akershus & Hedmark & Oppland & Buskerud & Vestfold & Telemark & Aust-Agder & Vest-Agder & Rogaland & Sum\\\\\n",
       "\\hline\n",
       "\tInt. homicide &   0.00 &    0.21 &   0.00 &   0.00 &    1.00 &    1.04 &    0.47 &    0.32 &    0.00 &    0.47 &   0.75 &     4.26\\\\\n",
       "\tRobbery &   5.13 &    8.91 &   1.66 &   5.78 &   46.91 &   10.46 &   10.43 &   12.95 &   11.40 &    7.83 &   2.64 &   124.10\\\\\n",
       "\tOther theft & 788.98 & 1320.46 & 583.33 & 731.72 & 2942.85 & 1240.03 & 1359.86 & 1680.79 & 1389.22 & 1103.75 & 569.77 & 13710.76\\\\\n",
       "\tVehicle theft &  32.92 &   62.40 &  37.03 &  43.77 &   74.32 &   54.62 &   91.97 &  112.35 &   55.53 &   32.09 &  25.23 &   622.23\\\\\n",
       "\tSum & 827.03 & 1391.98 & 622.02 & 781.27 & 3065.08 & 1306.15 & 1462.73 & 1806.41 & 1456.15 & 1144.14 & 598.39 & 14461.35\\\\\n",
       "\\end{tabular}\n"
      ],
      "text/markdown": [
       "\n",
       "A table: 5 × 12 of type dbl\n",
       "\n",
       "| <!--/--> | Østfold | Akershus | Oslo og Akershus | Hedmark | Oppland | Buskerud | Vestfold | Telemark | Aust-Agder | Vest-Agder | Rogaland | Sum |\n",
       "|---|---|---|---|---|---|---|---|---|---|---|---|---|\n",
       "| Int. homicide |   0.00 |    0.21 |   0.00 |   0.00 |    1.00 |    1.04 |    0.47 |    0.32 |    0.00 |    0.47 |   0.75 |     4.26 |\n",
       "| Robbery |   5.13 |    8.91 |   1.66 |   5.78 |   46.91 |   10.46 |   10.43 |   12.95 |   11.40 |    7.83 |   2.64 |   124.10 |\n",
       "| Other theft | 788.98 | 1320.46 | 583.33 | 731.72 | 2942.85 | 1240.03 | 1359.86 | 1680.79 | 1389.22 | 1103.75 | 569.77 | 13710.76 |\n",
       "| Vehicle theft |  32.92 |   62.40 |  37.03 |  43.77 |   74.32 |   54.62 |   91.97 |  112.35 |   55.53 |   32.09 |  25.23 |   622.23 |\n",
       "| Sum | 827.03 | 1391.98 | 622.02 | 781.27 | 3065.08 | 1306.15 | 1462.73 | 1806.41 | 1456.15 | 1144.14 | 598.39 | 14461.35 |\n",
       "\n"
      ],
      "text/plain": [
       "               geo\n",
       "iccs            Østfold Akershus Oslo og Akershus Hedmark Oppland Buskerud\n",
       "  Int. homicide   0.00     0.21    0.00             0.00     1.00    1.04 \n",
       "  Robbery         5.13     8.91    1.66             5.78    46.91   10.46 \n",
       "  Other theft   788.98  1320.46  583.33           731.72  2942.85 1240.03 \n",
       "  Vehicle theft  32.92    62.40   37.03            43.77    74.32   54.62 \n",
       "  Sum           827.03  1391.98  622.02           781.27  3065.08 1306.15 \n",
       "               geo\n",
       "iccs            Vestfold Telemark Aust-Agder Vest-Agder Rogaland Sum     \n",
       "  Int. homicide    0.47     0.32     0.00       0.47      0.75       4.26\n",
       "  Robbery         10.43    12.95    11.40       7.83      2.64     124.10\n",
       "  Other theft   1359.86  1680.79  1389.22    1103.75    569.77   13710.76\n",
       "  Vehicle theft   91.97   112.35    55.53      32.09     25.23     622.23\n",
       "  Sum           1462.73  1806.41  1456.15    1144.14    598.39   14461.35"
      ]
     },
     "metadata": {},
     "output_type": "display_data"
    }
   ],
   "source": [
    "ct_rel <- xtabs(formula=rel ~ iccs + geo, data=data)\n",
    "ct_rel['Other theft',] <- ct_rel['Other theft',] - ct_rel['Vehicle theft',]\n",
    "addmargins(ct_rel)"
   ]
  },
  {
   "cell_type": "markdown",
   "id": "645185d0-4097-4f9d-bdf4-dacf5ddc1780",
   "metadata": {},
   "source": [
    "From dataset description, we know that relative values represent the rate by $100,000$ population size. This means that the absolute cases number should be divided by factor of $100,000$ for whole population size in the region. For population size $420,000$ the factor will be $4.2$.\n",
    "\n",
    "This means that relative values take into consideration the population size."
   ]
  },
  {
   "cell_type": "code",
   "execution_count": 20,
   "id": "0789e280-f057-4221-81ec-5f675190680a",
   "metadata": {},
   "outputs": [
    {
     "data": {
      "text/html": [
       "<table class=\"dataframe\">\n",
       "<caption>A table: 5 × 12 of type dbl</caption>\n",
       "<thead>\n",
       "\t<tr><th></th><th scope=col>Østfold</th><th scope=col>Akershus</th><th scope=col>Oslo og Akershus</th><th scope=col>Hedmark</th><th scope=col>Oppland</th><th scope=col>Buskerud</th><th scope=col>Vestfold</th><th scope=col>Telemark</th><th scope=col>Aust-Agder</th><th scope=col>Vest-Agder</th><th scope=col>Rogaland</th><th scope=col>Sum</th></tr>\n",
       "</thead>\n",
       "<tbody>\n",
       "\t<tr><th scope=row>Int. homicide</th><td>0.00000</td><td>0.00001</td><td>0.00000</td><td>0.00000</td><td>0.00007</td><td>0.00007</td><td>0.00003</td><td>0.00002</td><td>0.00000</td><td>0.00003</td><td>0.00005</td><td>0.00029</td></tr>\n",
       "\t<tr><th scope=row>Robbery</th><td>0.00035</td><td>0.00062</td><td>0.00011</td><td>0.00040</td><td>0.00324</td><td>0.00072</td><td>0.00072</td><td>0.00090</td><td>0.00079</td><td>0.00054</td><td>0.00018</td><td>0.00858</td></tr>\n",
       "\t<tr><th scope=row>Other theft</th><td>0.05456</td><td>0.09131</td><td>0.04034</td><td>0.05060</td><td>0.20350</td><td>0.08575</td><td>0.09403</td><td>0.11623</td><td>0.09606</td><td>0.07632</td><td>0.03940</td><td>0.94810</td></tr>\n",
       "\t<tr><th scope=row>Vehicle theft</th><td>0.00228</td><td>0.00431</td><td>0.00256</td><td>0.00303</td><td>0.00514</td><td>0.00378</td><td>0.00636</td><td>0.00777</td><td>0.00384</td><td>0.00222</td><td>0.00174</td><td>0.04303</td></tr>\n",
       "\t<tr><th scope=row>Sum</th><td>0.05719</td><td>0.09626</td><td>0.04301</td><td>0.05402</td><td>0.21195</td><td>0.09032</td><td>0.10115</td><td>0.12491</td><td>0.10069</td><td>0.07912</td><td>0.04138</td><td>1.00000</td></tr>\n",
       "</tbody>\n",
       "</table>\n"
      ],
      "text/latex": [
       "A table: 5 × 12 of type dbl\n",
       "\\begin{tabular}{r|llllllllllll}\n",
       "  & Østfold & Akershus & Oslo og Akershus & Hedmark & Oppland & Buskerud & Vestfold & Telemark & Aust-Agder & Vest-Agder & Rogaland & Sum\\\\\n",
       "\\hline\n",
       "\tInt. homicide & 0.00000 & 0.00001 & 0.00000 & 0.00000 & 0.00007 & 0.00007 & 0.00003 & 0.00002 & 0.00000 & 0.00003 & 0.00005 & 0.00029\\\\\n",
       "\tRobbery & 0.00035 & 0.00062 & 0.00011 & 0.00040 & 0.00324 & 0.00072 & 0.00072 & 0.00090 & 0.00079 & 0.00054 & 0.00018 & 0.00858\\\\\n",
       "\tOther theft & 0.05456 & 0.09131 & 0.04034 & 0.05060 & 0.20350 & 0.08575 & 0.09403 & 0.11623 & 0.09606 & 0.07632 & 0.03940 & 0.94810\\\\\n",
       "\tVehicle theft & 0.00228 & 0.00431 & 0.00256 & 0.00303 & 0.00514 & 0.00378 & 0.00636 & 0.00777 & 0.00384 & 0.00222 & 0.00174 & 0.04303\\\\\n",
       "\tSum & 0.05719 & 0.09626 & 0.04301 & 0.05402 & 0.21195 & 0.09032 & 0.10115 & 0.12491 & 0.10069 & 0.07912 & 0.04138 & 1.00000\\\\\n",
       "\\end{tabular}\n"
      ],
      "text/markdown": [
       "\n",
       "A table: 5 × 12 of type dbl\n",
       "\n",
       "| <!--/--> | Østfold | Akershus | Oslo og Akershus | Hedmark | Oppland | Buskerud | Vestfold | Telemark | Aust-Agder | Vest-Agder | Rogaland | Sum |\n",
       "|---|---|---|---|---|---|---|---|---|---|---|---|---|\n",
       "| Int. homicide | 0.00000 | 0.00001 | 0.00000 | 0.00000 | 0.00007 | 0.00007 | 0.00003 | 0.00002 | 0.00000 | 0.00003 | 0.00005 | 0.00029 |\n",
       "| Robbery | 0.00035 | 0.00062 | 0.00011 | 0.00040 | 0.00324 | 0.00072 | 0.00072 | 0.00090 | 0.00079 | 0.00054 | 0.00018 | 0.00858 |\n",
       "| Other theft | 0.05456 | 0.09131 | 0.04034 | 0.05060 | 0.20350 | 0.08575 | 0.09403 | 0.11623 | 0.09606 | 0.07632 | 0.03940 | 0.94810 |\n",
       "| Vehicle theft | 0.00228 | 0.00431 | 0.00256 | 0.00303 | 0.00514 | 0.00378 | 0.00636 | 0.00777 | 0.00384 | 0.00222 | 0.00174 | 0.04303 |\n",
       "| Sum | 0.05719 | 0.09626 | 0.04301 | 0.05402 | 0.21195 | 0.09032 | 0.10115 | 0.12491 | 0.10069 | 0.07912 | 0.04138 | 1.00000 |\n",
       "\n"
      ],
      "text/plain": [
       "               geo\n",
       "iccs            Østfold Akershus Oslo og Akershus Hedmark Oppland Buskerud\n",
       "  Int. homicide 0.00000 0.00001  0.00000          0.00000 0.00007 0.00007 \n",
       "  Robbery       0.00035 0.00062  0.00011          0.00040 0.00324 0.00072 \n",
       "  Other theft   0.05456 0.09131  0.04034          0.05060 0.20350 0.08575 \n",
       "  Vehicle theft 0.00228 0.00431  0.00256          0.00303 0.00514 0.00378 \n",
       "  Sum           0.05719 0.09626  0.04301          0.05402 0.21195 0.09032 \n",
       "               geo\n",
       "iccs            Vestfold Telemark Aust-Agder Vest-Agder Rogaland Sum    \n",
       "  Int. homicide 0.00003  0.00002  0.00000    0.00003    0.00005  0.00029\n",
       "  Robbery       0.00072  0.00090  0.00079    0.00054    0.00018  0.00858\n",
       "  Other theft   0.09403  0.11623  0.09606    0.07632    0.03940  0.94810\n",
       "  Vehicle theft 0.00636  0.00777  0.00384    0.00222    0.00174  0.04303\n",
       "  Sum           0.10115  0.12491  0.10069    0.07912    0.04138  1.00000"
      ]
     },
     "metadata": {},
     "output_type": "display_data"
    }
   ],
   "source": [
    "round(addmargins(proportions(ct_rel)), digits=5)"
   ]
  },
  {
   "cell_type": "markdown",
   "id": "60c475ef-05df-4a82-9bd9-28d918d5d6a1",
   "metadata": {},
   "source": [
    "Again, we see that $P(Region = \\text{NO081}) \\approx 0.212$ - still Oslo has the highest probability for some crime to occur.\n",
    "\n",
    "Analyzing further probabilities, we can observe interesting details:\n",
    "- NO081 (Oslo) has the highest crime probability $(\\approx 0.212)$ and rate $(3065.08)$.\n",
    "- NO0A3 (Møre og Romsdal) has the least crime probability $(\\approx 0.041)$ and rate $(598.39)$, just a little bit ahead from NO071 (Nordland) with prob. $\\approx 0.043$ and rate $=\t622.02$.\n",
    "- Theft is the most frequent crime (prob. $\\approx 0.95$ and rate $= 13710.76$).\n",
    "- Intentional homicide is the least frequent crime (prob. $\\approx 0.0003$ and rate $= 4.26$)."
   ]
  },
  {
   "cell_type": "code",
   "execution_count": 21,
   "id": "39a22a8c-8d88-4631-b89b-edf1d95cb307",
   "metadata": {},
   "outputs": [
    {
     "data": {
      "image/png": "[encoded data removed]",
      "text/plain": [
       "Plot with title “Contingency table (relative values)”"
      ]
     },
     "metadata": {
      "image/png": {
       "height": 780,
       "width": 780
      }
     },
     "output_type": "display_data"
    }
   ],
   "source": [
    "options(repr.plot.width=13, repr.plot.height=13) # Regulates the size of a plot\n",
    "mosaicplot(ct_rel, color=T, main='Contingency table (relative values)', las=2, cex.axis=1.15)"
   ]
  },
  {
   "cell_type": "markdown",
   "id": "8262e00a-b940-4e6e-9e3b-aacba341c856",
   "metadata": {},
   "source": [
    "On the plot we can observe more visually the empirical joint distribution. Along $x$-axis we have crime types, starting with intentional homicide, then robbery and then the rest."
   ]
  },
  {
   "cell_type": "markdown",
   "id": "480f0e07-faf5-4ed4-83d9-5408c1e49c66",
   "metadata": {},
   "source": [
    "### Hypotheses for tables\n",
    "\n",
    "Now lets accomplish test of independence - what we want to test is whether random variables **iccs** and **geo** are independent.\n",
    "\n",
    "For this let's use Pearson's $\\chi^2$ test:"
   ]
  },
  {
   "cell_type": "markdown",
   "id": "a47b026f-5c17-4a73-acf0-ba21dc97ac78",
   "metadata": {},
   "source": [
    "#### Pearson's $\\chi^2$ test\n",
    "\n",
    "- $H_0$: $p_{ij} = p_{i\\cdot} p_{\\cdot j}, \\qquad i=1,\\ldots,r; j=1,\\ldots, c$\n",
    "- $H_A$: the $H_0$ does not hold"
   ]
  },
  {
   "cell_type": "code",
   "execution_count": 22,
   "id": "22e01c37-9c7c-4f8e-ab2c-b10aaf56babf",
   "metadata": {},
   "outputs": [
    {
     "name": "stderr",
     "output_type": "stream",
     "text": [
      "Warning message in chisq.test(ct_rel):\n",
      "“Chi-squared approximation may be incorrect”\n"
     ]
    },
    {
     "data": {
      "text/plain": [
       "\n",
       "\tPearson's Chi-squared test\n",
       "\n",
       "data:  ct_rel\n",
       "X-squared = 97.257, df = 30, p-value = 5.009e-09\n"
      ]
     },
     "metadata": {},
     "output_type": "display_data"
    }
   ],
   "source": [
    "out <- chisq.test(ct_rel)\n",
    "out"
   ]
  },
  {
   "cell_type": "code",
   "execution_count": 23,
   "id": "dc83c431-69d7-4238-9d74-df92a6c1a969",
   "metadata": {},
   "outputs": [
    {
     "data": {
      "text/html": [
       "<table class=\"dataframe\">\n",
       "<caption>A table: 5 × 12 of type dbl</caption>\n",
       "<thead>\n",
       "\t<tr><th></th><th scope=col>Østfold</th><th scope=col>Akershus</th><th scope=col>Oslo og Akershus</th><th scope=col>Hedmark</th><th scope=col>Oppland</th><th scope=col>Buskerud</th><th scope=col>Vestfold</th><th scope=col>Telemark</th><th scope=col>Aust-Agder</th><th scope=col>Vest-Agder</th><th scope=col>Rogaland</th><th scope=col>Sum</th></tr>\n",
       "</thead>\n",
       "<tbody>\n",
       "\t<tr><th scope=row>Int. homicide</th><td>  0.00</td><td>   0.21</td><td>  0.00</td><td>  0.00</td><td>   1.00</td><td>   1.04</td><td>   0.47</td><td>   0.32</td><td>   0.00</td><td>   0.47</td><td>  0.75</td><td>    4.26</td></tr>\n",
       "\t<tr><th scope=row>Robbery</th><td>  5.13</td><td>   8.91</td><td>  1.66</td><td>  5.78</td><td>  46.91</td><td>  10.46</td><td>  10.43</td><td>  12.95</td><td>  11.40</td><td>   7.83</td><td>  2.64</td><td>  124.10</td></tr>\n",
       "\t<tr><th scope=row>Other theft</th><td>788.98</td><td>1320.46</td><td>583.33</td><td>731.72</td><td>2942.85</td><td>1240.03</td><td>1359.86</td><td>1680.79</td><td>1389.22</td><td>1103.75</td><td>569.77</td><td>13710.76</td></tr>\n",
       "\t<tr><th scope=row>Vehicle theft</th><td> 32.92</td><td>  62.40</td><td> 37.03</td><td> 43.77</td><td>  74.32</td><td>  54.62</td><td>  91.97</td><td> 112.35</td><td>  55.53</td><td>  32.09</td><td> 25.23</td><td>  622.23</td></tr>\n",
       "\t<tr><th scope=row>Sum</th><td>827.03</td><td>1391.98</td><td>622.02</td><td>781.27</td><td>3065.08</td><td>1306.15</td><td>1462.73</td><td>1806.41</td><td>1456.15</td><td>1144.14</td><td>598.39</td><td>14461.35</td></tr>\n",
       "</tbody>\n",
       "</table>\n"
      ],
      "text/latex": [
       "A table: 5 × 12 of type dbl\n",
       "\\begin{tabular}{r|llllllllllll}\n",
       "  & Østfold & Akershus & Oslo og Akershus & Hedmark & Oppland & Buskerud & Vestfold & Telemark & Aust-Agder & Vest-Agder & Rogaland & Sum\\\\\n",
       "\\hline\n",
       "\tInt. homicide &   0.00 &    0.21 &   0.00 &   0.00 &    1.00 &    1.04 &    0.47 &    0.32 &    0.00 &    0.47 &   0.75 &     4.26\\\\\n",
       "\tRobbery &   5.13 &    8.91 &   1.66 &   5.78 &   46.91 &   10.46 &   10.43 &   12.95 &   11.40 &    7.83 &   2.64 &   124.10\\\\\n",
       "\tOther theft & 788.98 & 1320.46 & 583.33 & 731.72 & 2942.85 & 1240.03 & 1359.86 & 1680.79 & 1389.22 & 1103.75 & 569.77 & 13710.76\\\\\n",
       "\tVehicle theft &  32.92 &   62.40 &  37.03 &  43.77 &   74.32 &   54.62 &   91.97 &  112.35 &   55.53 &   32.09 &  25.23 &   622.23\\\\\n",
       "\tSum & 827.03 & 1391.98 & 622.02 & 781.27 & 3065.08 & 1306.15 & 1462.73 & 1806.41 & 1456.15 & 1144.14 & 598.39 & 14461.35\\\\\n",
       "\\end{tabular}\n"
      ],
      "text/markdown": [
       "\n",
       "A table: 5 × 12 of type dbl\n",
       "\n",
       "| <!--/--> | Østfold | Akershus | Oslo og Akershus | Hedmark | Oppland | Buskerud | Vestfold | Telemark | Aust-Agder | Vest-Agder | Rogaland | Sum |\n",
       "|---|---|---|---|---|---|---|---|---|---|---|---|---|\n",
       "| Int. homicide |   0.00 |    0.21 |   0.00 |   0.00 |    1.00 |    1.04 |    0.47 |    0.32 |    0.00 |    0.47 |   0.75 |     4.26 |\n",
       "| Robbery |   5.13 |    8.91 |   1.66 |   5.78 |   46.91 |   10.46 |   10.43 |   12.95 |   11.40 |    7.83 |   2.64 |   124.10 |\n",
       "| Other theft | 788.98 | 1320.46 | 583.33 | 731.72 | 2942.85 | 1240.03 | 1359.86 | 1680.79 | 1389.22 | 1103.75 | 569.77 | 13710.76 |\n",
       "| Vehicle theft |  32.92 |   62.40 |  37.03 |  43.77 |   74.32 |   54.62 |   91.97 |  112.35 |   55.53 |   32.09 |  25.23 |   622.23 |\n",
       "| Sum | 827.03 | 1391.98 | 622.02 | 781.27 | 3065.08 | 1306.15 | 1462.73 | 1806.41 | 1456.15 | 1144.14 | 598.39 | 14461.35 |\n",
       "\n"
      ],
      "text/plain": [
       "               geo\n",
       "iccs            Østfold Akershus Oslo og Akershus Hedmark Oppland Buskerud\n",
       "  Int. homicide   0.00     0.21    0.00             0.00     1.00    1.04 \n",
       "  Robbery         5.13     8.91    1.66             5.78    46.91   10.46 \n",
       "  Other theft   788.98  1320.46  583.33           731.72  2942.85 1240.03 \n",
       "  Vehicle theft  32.92    62.40   37.03            43.77    74.32   54.62 \n",
       "  Sum           827.03  1391.98  622.02           781.27  3065.08 1306.15 \n",
       "               geo\n",
       "iccs            Vestfold Telemark Aust-Agder Vest-Agder Rogaland Sum     \n",
       "  Int. homicide    0.47     0.32     0.00       0.47      0.75       4.26\n",
       "  Robbery         10.43    12.95    11.40       7.83      2.64     124.10\n",
       "  Other theft   1359.86  1680.79  1389.22    1103.75    569.77   13710.76\n",
       "  Vehicle theft   91.97   112.35    55.53      32.09     25.23     622.23\n",
       "  Sum           1462.73  1806.41  1456.15    1144.14    598.39   14461.35"
      ]
     },
     "metadata": {},
     "output_type": "display_data"
    }
   ],
   "source": [
    "addmargins(out$observed)"
   ]
  },
  {
   "cell_type": "code",
   "execution_count": 24,
   "id": "79504cf8-585a-4ee4-8803-f69d788f2e04",
   "metadata": {},
   "outputs": [
    {
     "data": {
      "text/html": [
       "<table class=\"dataframe\">\n",
       "<caption>A matrix: 5 × 12 of type dbl</caption>\n",
       "<thead>\n",
       "\t<tr><th></th><th scope=col>Østfold</th><th scope=col>Akershus</th><th scope=col>Oslo og Akershus</th><th scope=col>Hedmark</th><th scope=col>Oppland</th><th scope=col>Buskerud</th><th scope=col>Vestfold</th><th scope=col>Telemark</th><th scope=col>Aust-Agder</th><th scope=col>Vest-Agder</th><th scope=col>Rogaland</th><th scope=col>Sum</th></tr>\n",
       "</thead>\n",
       "<tbody>\n",
       "\t<tr><th scope=row>Int. homicide</th><td>  0.244</td><td>   0.410</td><td>  0.183</td><td>  0.230</td><td>   0.903</td><td>   0.385</td><td>   0.431</td><td>   0.532</td><td>   0.429</td><td>   0.337</td><td>  0.176</td><td>    4.26</td></tr>\n",
       "\t<tr><th scope=row>Robbery</th><td>  7.097</td><td>  11.945</td><td>  5.338</td><td>  6.704</td><td>  26.303</td><td>  11.209</td><td>  12.552</td><td>  15.502</td><td>  12.496</td><td>   9.818</td><td>  5.135</td><td>  124.10</td></tr>\n",
       "\t<tr><th scope=row>Other theft</th><td>784.105</td><td>1319.732</td><td>589.735</td><td>740.720</td><td>2905.993</td><td>1238.357</td><td>1386.810</td><td>1712.652</td><td>1380.571</td><td>1084.755</td><td>567.332</td><td>13710.76</td></tr>\n",
       "\t<tr><th scope=row>Vehicle theft</th><td> 35.585</td><td>  59.893</td><td> 26.764</td><td> 33.616</td><td> 131.882</td><td>  56.200</td><td>  62.937</td><td>  77.725</td><td>  62.654</td><td>  49.229</td><td> 25.747</td><td>  622.23</td></tr>\n",
       "\t<tr><th scope=row>Sum</th><td>827.030</td><td>1391.980</td><td>622.020</td><td>781.270</td><td>3065.080</td><td>1306.150</td><td>1462.730</td><td>1806.410</td><td>1456.150</td><td>1144.140</td><td>598.390</td><td>14461.35</td></tr>\n",
       "</tbody>\n",
       "</table>\n"
      ],
      "text/latex": [
       "A matrix: 5 × 12 of type dbl\n",
       "\\begin{tabular}{r|llllllllllll}\n",
       "  & Østfold & Akershus & Oslo og Akershus & Hedmark & Oppland & Buskerud & Vestfold & Telemark & Aust-Agder & Vest-Agder & Rogaland & Sum\\\\\n",
       "\\hline\n",
       "\tInt. homicide &   0.244 &    0.410 &   0.183 &   0.230 &    0.903 &    0.385 &    0.431 &    0.532 &    0.429 &    0.337 &   0.176 &     4.26\\\\\n",
       "\tRobbery &   7.097 &   11.945 &   5.338 &   6.704 &   26.303 &   11.209 &   12.552 &   15.502 &   12.496 &    9.818 &   5.135 &   124.10\\\\\n",
       "\tOther theft & 784.105 & 1319.732 & 589.735 & 740.720 & 2905.993 & 1238.357 & 1386.810 & 1712.652 & 1380.571 & 1084.755 & 567.332 & 13710.76\\\\\n",
       "\tVehicle theft &  35.585 &   59.893 &  26.764 &  33.616 &  131.882 &   56.200 &   62.937 &   77.725 &   62.654 &   49.229 &  25.747 &   622.23\\\\\n",
       "\tSum & 827.030 & 1391.980 & 622.020 & 781.270 & 3065.080 & 1306.150 & 1462.730 & 1806.410 & 1456.150 & 1144.140 & 598.390 & 14461.35\\\\\n",
       "\\end{tabular}\n"
      ],
      "text/markdown": [
       "\n",
       "A matrix: 5 × 12 of type dbl\n",
       "\n",
       "| <!--/--> | Østfold | Akershus | Oslo og Akershus | Hedmark | Oppland | Buskerud | Vestfold | Telemark | Aust-Agder | Vest-Agder | Rogaland | Sum |\n",
       "|---|---|---|---|---|---|---|---|---|---|---|---|---|\n",
       "| Int. homicide |   0.244 |    0.410 |   0.183 |   0.230 |    0.903 |    0.385 |    0.431 |    0.532 |    0.429 |    0.337 |   0.176 |     4.26 |\n",
       "| Robbery |   7.097 |   11.945 |   5.338 |   6.704 |   26.303 |   11.209 |   12.552 |   15.502 |   12.496 |    9.818 |   5.135 |   124.10 |\n",
       "| Other theft | 784.105 | 1319.732 | 589.735 | 740.720 | 2905.993 | 1238.357 | 1386.810 | 1712.652 | 1380.571 | 1084.755 | 567.332 | 13710.76 |\n",
       "| Vehicle theft |  35.585 |   59.893 |  26.764 |  33.616 |  131.882 |   56.200 |   62.937 |   77.725 |   62.654 |   49.229 |  25.747 |   622.23 |\n",
       "| Sum | 827.030 | 1391.980 | 622.020 | 781.270 | 3065.080 | 1306.150 | 1462.730 | 1806.410 | 1456.150 | 1144.140 | 598.390 | 14461.35 |\n",
       "\n"
      ],
      "text/plain": [
       "               geo\n",
       "iccs            Østfold Akershus Oslo og Akershus Hedmark Oppland  Buskerud\n",
       "  Int. homicide   0.244    0.410   0.183            0.230    0.903    0.385\n",
       "  Robbery         7.097   11.945   5.338            6.704   26.303   11.209\n",
       "  Other theft   784.105 1319.732 589.735          740.720 2905.993 1238.357\n",
       "  Vehicle theft  35.585   59.893  26.764           33.616  131.882   56.200\n",
       "  Sum           827.030 1391.980 622.020          781.270 3065.080 1306.150\n",
       "               geo\n",
       "iccs            Vestfold Telemark Aust-Agder Vest-Agder Rogaland Sum     \n",
       "  Int. homicide    0.431    0.532    0.429      0.337     0.176      4.26\n",
       "  Robbery         12.552   15.502   12.496      9.818     5.135    124.10\n",
       "  Other theft   1386.810 1712.652 1380.571   1084.755   567.332  13710.76\n",
       "  Vehicle theft   62.937   77.725   62.654     49.229    25.747    622.23\n",
       "  Sum           1462.730 1806.410 1456.150   1144.140   598.390  14461.35"
      ]
     },
     "metadata": {},
     "output_type": "display_data"
    }
   ],
   "source": [
    "round((addmargins(out$expected)), digits=3)"
   ]
  },
  {
   "cell_type": "markdown",
   "id": "796515e8-a2a7-4798-8e07-11fc9c29eb39",
   "metadata": {},
   "source": [
    "From expected frequencies we can observe, that not all cells have values $\\geq 5$, for example $n_{11} = 0.244 \\lt 5 $. This is an important premise to use the Pearson $\\chi^2$ test, even when running the test we had a warning that approximation of the test may be incorrect, because values are two low.\n",
    "\n",
    "Also, in table not all values are integers, this test would work better with absolute values, but in this situation we won't take into consideration population density."
   ]
  },
  {
   "cell_type": "markdown",
   "id": "49f01936-7d8b-4076-9620-e7cd25a590f5",
   "metadata": {},
   "source": [
    "#### Homogenity of multinomial distributions test\n",
    "\n",
    "Now let's test homogenity of multinomial distributions:\n",
    "- $H_0$: row probabilities $p_{i1}, \\ldots, p_{i\\cdot}$ are not dependent on $i$\n",
    "- $H_A$: $H_0$ does not hold\n",
    "\n",
    "For this test we already have test statistics from the previous test:$$\\chi^2 = n \\sum_{i=1}^r \\sum_{j=1}^c \\frac{n_{ij}^2}{n_{i\\cdot} n_{\\cdot j}} -n = 97.257.$$\n",
    "\n",
    "If $\\chi^2 \\geq \\chi_{(r-1)(c-1)}^2(\\alpha)$, $H_0$ is rejected."
   ]
  },
  {
   "cell_type": "code",
   "execution_count": 25,
   "id": "7380d486-2f15-442d-9373-1d5925fe0dba",
   "metadata": {},
   "outputs": [
    {
     "data": {
      "text/html": [
       "43.773"
      ],
      "text/latex": [
       "43.773"
      ],
      "text/markdown": [
       "43.773"
      ],
      "text/plain": [
       "[1] 43.773"
      ]
     },
     "metadata": {},
     "output_type": "display_data"
    }
   ],
   "source": [
    "alpha <- 0.05\n",
    "rows <- nrow(ct_rel)\n",
    "cols <- ncol(ct_rel)\n",
    "\n",
    "df <- (rows - 1) * (cols - 1)\n",
    "\n",
    "critical_value <- qchisq(1 - alpha, df)\n",
    "round(critical_value, digits=3)"
   ]
  },
  {
   "cell_type": "markdown",
   "id": "e950a36b-23a7-4259-8892-03516c52b8dc",
   "metadata": {},
   "source": [
    "We see that:  $\\chi^2 = 97.257 \\geq  43.773 = \\chi_{(r-1)(c-1)}^2(\\alpha)$.\n",
    "So the $H_0$ is rejected in preference for the alternative $H_A$, that row distributions are dependent on crime type - in other words - distributions of each crime type across every region are not the same, distribution of Theft crime type across all regions is not the same as distribution of Intentional homicide across all regions."
   ]
  },
  {
   "cell_type": "markdown",
   "id": "0973c8ea-4eed-4c21-b9d7-2b816851d4fa",
   "metadata": {},
   "source": [
    "#### Fisher exact test\n",
    "\n",
    "Because Pearson's $\\chi^2$ test doesn't have fulfilled its premise, to test independence of the random variables we will also use the Fisher exact test:\n",
    "\n",
    "- $H_0$: $p_{ij} = p_{i\\cdot} p_{\\cdot j}, \\qquad i=1,\\ldots,r; j=1,\\ldots, c$\n",
    "- $H_A$: the $H_0$ does not hold"
   ]
  },
  {
   "cell_type": "code",
   "execution_count": 26,
   "id": "78a88689-bbad-4fb5-9f50-1da8e315d8df",
   "metadata": {},
   "outputs": [
    {
     "name": "stderr",
     "output_type": "stream",
     "text": [
      "Warning message in fisher.test(ct_rel, simulate.p.value = T):\n",
      "“'x' has been rounded to integer: Mean relative difference: 0.0006521281”\n"
     ]
    },
    {
     "data": {
      "text/plain": [
       "\n",
       "\tFisher's Exact Test for Count Data with simulated p-value (based on\n",
       "\t2000 replicates)\n",
       "\n",
       "data:  ct_rel\n",
       "p-value = 0.0004998\n",
       "alternative hypothesis: two.sided\n"
      ]
     },
     "metadata": {},
     "output_type": "display_data"
    }
   ],
   "source": [
    "fisher.test(ct_rel, simulate.p.value=T)"
   ]
  },
  {
   "cell_type": "markdown",
   "id": "3a0d87aa-04ed-470c-abac-bfdd99104881",
   "metadata": {},
   "source": [
    "We have a warning here, because the test works with integers, so it will round automatically all values in the table. We think that still it is better to analyze the relative data, though for example for Intentional homicide the rounding can be quite proportionally high.\n",
    "\n",
    "We see that the p-value is much less than the standard $\\alpha$ - $0.0004998 \\lt 0.05$ - so we reject $H_0$ in preference for the alternative $H_A$, that given random variables are not independent."
   ]
  },
  {
   "cell_type": "markdown",
   "id": "63ba1dec-3593-48da-ae0c-3d78ed0d6664",
   "metadata": {},
   "source": [
    "## Hypotheses and tests"
   ]
  },
  {
   "cell_type": "markdown",
   "id": "a1ad50ee-653d-45ac-a69c-80875cd90068",
   "metadata": {},
   "source": [
    "### Test #1 (Total criminality comparison - 2020 vs 2021)\n",
    "\n",
    "In this test we will use **Mann-Whitney U test** and **Kolmogorov-Smirnov two-sample test** to test whether criminality distribution is same or significantly different between years $2020$ and $2021$."
   ]
  },
  {
   "cell_type": "markdown",
   "id": "af7c0c5d-43f3-4223-bacb-b05d8360ab6a",
   "metadata": {},
   "source": [
    "#### Data preparation\n",
    "\n",
    "We will use absolute values - first of all, lets gather some data and look at it for the test."
   ]
  },
  {
   "cell_type": "code",
   "execution_count": 27,
   "id": "d2f3fddc-e469-4e43-afcd-1363c2478079",
   "metadata": {},
   "outputs": [
    {
     "data": {
      "text/html": [
       "<table class=\"dataframe\">\n",
       "<caption>A tibble: 3 × 3</caption>\n",
       "<thead>\n",
       "\t<tr><th scope=col>iccs</th><th scope=col>geo</th><th scope=col>values</th></tr>\n",
       "\t<tr><th scope=col>&lt;fct&gt;</th><th scope=col>&lt;chr&gt;</th><th scope=col>&lt;dbl&gt;</th></tr>\n",
       "</thead>\n",
       "<tbody>\n",
       "\t<tr><td>Int. homicide</td><td>NO020</td><td>3</td></tr>\n",
       "\t<tr><td>Int. homicide</td><td>NO060</td><td>2</td></tr>\n",
       "\t<tr><td>Int. homicide</td><td>NO071</td><td>0</td></tr>\n",
       "</tbody>\n",
       "</table>\n"
      ],
      "text/latex": [
       "A tibble: 3 × 3\n",
       "\\begin{tabular}{lll}\n",
       " iccs & geo & values\\\\\n",
       " <fct> & <chr> & <dbl>\\\\\n",
       "\\hline\n",
       "\t Int. homicide & NO020 & 3\\\\\n",
       "\t Int. homicide & NO060 & 2\\\\\n",
       "\t Int. homicide & NO071 & 0\\\\\n",
       "\\end{tabular}\n"
      ],
      "text/markdown": [
       "\n",
       "A tibble: 3 × 3\n",
       "\n",
       "| iccs &lt;fct&gt; | geo &lt;chr&gt; | values &lt;dbl&gt; |\n",
       "|---|---|---|\n",
       "| Int. homicide | NO020 | 3 |\n",
       "| Int. homicide | NO060 | 2 |\n",
       "| Int. homicide | NO071 | 0 |\n",
       "\n"
      ],
      "text/plain": [
       "  iccs          geo   values\n",
       "1 Int. homicide NO020 3     \n",
       "2 Int. homicide NO060 2     \n",
       "3 Int. homicide NO071 0     "
      ]
     },
     "metadata": {},
     "output_type": "display_data"
    },
    {
     "data": {
      "text/html": [
       "<table class=\"dataframe\">\n",
       "<caption>A tibble: 3 × 3</caption>\n",
       "<thead>\n",
       "\t<tr><th scope=col>iccs</th><th scope=col>geo</th><th scope=col>values</th></tr>\n",
       "\t<tr><th scope=col>&lt;fct&gt;</th><th scope=col>&lt;chr&gt;</th><th scope=col>&lt;dbl&gt;</th></tr>\n",
       "</thead>\n",
       "<tbody>\n",
       "\t<tr><td>Int. homicide</td><td>NO020</td><td>0</td></tr>\n",
       "\t<tr><td>Int. homicide</td><td>NO060</td><td>1</td></tr>\n",
       "\t<tr><td>Int. homicide</td><td>NO071</td><td>0</td></tr>\n",
       "</tbody>\n",
       "</table>\n"
      ],
      "text/latex": [
       "A tibble: 3 × 3\n",
       "\\begin{tabular}{lll}\n",
       " iccs & geo & values\\\\\n",
       " <fct> & <chr> & <dbl>\\\\\n",
       "\\hline\n",
       "\t Int. homicide & NO020 & 0\\\\\n",
       "\t Int. homicide & NO060 & 1\\\\\n",
       "\t Int. homicide & NO071 & 0\\\\\n",
       "\\end{tabular}\n"
      ],
      "text/markdown": [
       "\n",
       "A tibble: 3 × 3\n",
       "\n",
       "| iccs &lt;fct&gt; | geo &lt;chr&gt; | values &lt;dbl&gt; |\n",
       "|---|---|---|\n",
       "| Int. homicide | NO020 | 0 |\n",
       "| Int. homicide | NO060 | 1 |\n",
       "| Int. homicide | NO071 | 0 |\n",
       "\n"
      ],
      "text/plain": [
       "  iccs          geo   values\n",
       "1 Int. homicide NO020 0     \n",
       "2 Int. homicide NO060 1     \n",
       "3 Int. homicide NO071 0     "
      ]
     },
     "metadata": {},
     "output_type": "display_data"
    }
   ],
   "source": [
    "data.2021 <- subset(dataset,\n",
    "                    startsWith(geo, 'NO') &\n",
    "                    nchar(geo) == 5 &\n",
    "                    TIME_PERIOD == '2021-01-01' &\n",
    "                    unit == 'NR',\n",
    "                    c(iccs, geo, values))\n",
    "\n",
    "data.2020 <- subset(dataset,\n",
    "                    startsWith(geo, 'NO') &\n",
    "                    nchar(geo) == 5 &\n",
    "                    TIME_PERIOD == '2020-01-01' &\n",
    "                    unit == 'NR',\n",
    "                    c(iccs, geo, values))\n",
    "\n",
    "prev_labels <- c('ICCS0101', 'ICCS0401', 'ICCS0502', 'ICCS050211')\n",
    "new_labels <- c('Int. homicide', 'Robbery', 'Other theft', 'Vehicle theft')\n",
    "\n",
    "data.2021$iccs <- factor(data.2021$iccs, levels=prev_labels, labels=new_labels)\n",
    "data.2020$iccs <- factor(data.2020$iccs, levels=prev_labels, labels=new_labels)\n",
    "head(data.2020, 3)\n",
    "head(data.2021, 3)"
   ]
  },
  {
   "cell_type": "markdown",
   "id": "9993adad-fa1f-498f-b3d7-5e9c3b0823ac",
   "metadata": {},
   "source": [
    "Now we need to subtract Vehicle theft from Other theft, because we now that Vehicle theft is a subtype of Other theft, and Other theft contains crimes duplicated from Vehicle theft."
   ]
  },
  {
   "cell_type": "code",
   "execution_count": 28,
   "id": "cf3a7a2f-5af7-4ce7-b8f3-515baaeb031c",
   "metadata": {},
   "outputs": [
    {
     "name": "stderr",
     "output_type": "stream",
     "text": [
      "Warning message:\n",
      "“\u001b[1m\u001b[22mUsing an external vector in selections was deprecated in tidyselect 1.1.0.\n",
      "\u001b[36mℹ\u001b[39m Please use `all_of()` or `any_of()` instead.\n",
      "  # Was:\n",
      "  data %>% select(cols)\n",
      "\n",
      "  # Now:\n",
      "  data %>% select(all_of(cols))\n",
      "\n",
      "See <https://tidyselect.r-lib.org/reference/faq-external-vector.html>.”\n"
     ]
    }
   ],
   "source": [
    "wide_data.2020 <- pivot_wider(data.2020, names_from=geo, values_from=values)\n",
    "wide_data.2020[3,-1] <- wide_data.2020[3, -1] - wide_data.2020[4,-1]\n",
    "cols = colnames(wide_data.2020)[-1]\n",
    "prepared_data.2020 <- pivot_longer(wide_data.2020, cols=cols, names_to='geo', values_to='values')\n",
    "prepared_data.2020$year = '2020'"
   ]
  },
  {
   "cell_type": "code",
   "execution_count": 29,
   "id": "be4d82ae-a9a4-47a9-b963-cb942c82982b",
   "metadata": {},
   "outputs": [],
   "source": [
    "wide_data.2021 <- pivot_wider(data.2021, names_from=geo, values_from=values)\n",
    "wide_data.2021[3,-1] <- wide_data.2021[3, -1] - wide_data.2021[4,-1]\n",
    "cols = colnames(wide_data.2021)[-1]\n",
    "prepared_data.2021 <- pivot_longer(wide_data.2021, cols=cols, names_to='geo', values_to='values')\n",
    "prepared_data.2021$year = '2021'"
   ]
  },
  {
   "cell_type": "code",
   "execution_count": 30,
   "id": "9420c3c6-4ded-40e2-8f10-dc859c825d08",
   "metadata": {},
   "outputs": [],
   "source": [
    "# convert year to factor, because we have only two values as categories - 2020 and 2021\n",
    "prepared_data.2021$year <- factor(prepared_data.2021$year)\n",
    "prepared_data.2020$year <- factor(prepared_data.2020$year)\n",
    "\n",
    "data_total_crimes <- rbind(prepared_data.2020, prepared_data.2021)"
   ]
  },
  {
   "cell_type": "code",
   "execution_count": 31,
   "id": "b90a7486-8305-4455-b549-c67cb70ed71d",
   "metadata": {},
   "outputs": [
    {
     "data": {
      "text/html": [
       "<table class=\"dataframe\">\n",
       "<caption>A tibble: 6 × 4</caption>\n",
       "<thead>\n",
       "\t<tr><th scope=col>iccs</th><th scope=col>geo</th><th scope=col>values</th><th scope=col>year</th></tr>\n",
       "\t<tr><th scope=col>&lt;fct&gt;</th><th scope=col>&lt;chr&gt;</th><th scope=col>&lt;dbl&gt;</th><th scope=col>&lt;fct&gt;</th></tr>\n",
       "</thead>\n",
       "<tbody>\n",
       "\t<tr><td>Int. homicide</td><td>NO020</td><td> 3</td><td>2020</td></tr>\n",
       "\t<tr><td>Int. homicide</td><td>NO060</td><td> 2</td><td>2020</td></tr>\n",
       "\t<tr><td>Int. homicide</td><td>NO071</td><td> 0</td><td>2020</td></tr>\n",
       "\t<tr><td>Int. homicide</td><td>NO074</td><td> 0</td><td>2020</td></tr>\n",
       "\t<tr><td>Int. homicide</td><td>NO081</td><td> 2</td><td>2020</td></tr>\n",
       "\t<tr><td>Int. homicide</td><td>NO082</td><td>10</td><td>2020</td></tr>\n",
       "</tbody>\n",
       "</table>\n"
      ],
      "text/latex": [
       "A tibble: 6 × 4\n",
       "\\begin{tabular}{llll}\n",
       " iccs & geo & values & year\\\\\n",
       " <fct> & <chr> & <dbl> & <fct>\\\\\n",
       "\\hline\n",
       "\t Int. homicide & NO020 &  3 & 2020\\\\\n",
       "\t Int. homicide & NO060 &  2 & 2020\\\\\n",
       "\t Int. homicide & NO071 &  0 & 2020\\\\\n",
       "\t Int. homicide & NO074 &  0 & 2020\\\\\n",
       "\t Int. homicide & NO081 &  2 & 2020\\\\\n",
       "\t Int. homicide & NO082 & 10 & 2020\\\\\n",
       "\\end{tabular}\n"
      ],
      "text/markdown": [
       "\n",
       "A tibble: 6 × 4\n",
       "\n",
       "| iccs &lt;fct&gt; | geo &lt;chr&gt; | values &lt;dbl&gt; | year &lt;fct&gt; |\n",
       "|---|---|---|---|\n",
       "| Int. homicide | NO020 |  3 | 2020 |\n",
       "| Int. homicide | NO060 |  2 | 2020 |\n",
       "| Int. homicide | NO071 |  0 | 2020 |\n",
       "| Int. homicide | NO074 |  0 | 2020 |\n",
       "| Int. homicide | NO081 |  2 | 2020 |\n",
       "| Int. homicide | NO082 | 10 | 2020 |\n",
       "\n"
      ],
      "text/plain": [
       "  iccs          geo   values year\n",
       "1 Int. homicide NO020  3     2020\n",
       "2 Int. homicide NO060  2     2020\n",
       "3 Int. homicide NO071  0     2020\n",
       "4 Int. homicide NO074  0     2020\n",
       "5 Int. homicide NO081  2     2020\n",
       "6 Int. homicide NO082 10     2020"
      ]
     },
     "metadata": {},
     "output_type": "display_data"
    },
    {
     "data": {
      "text/html": [
       "<table class=\"dataframe\">\n",
       "<caption>A tibble: 6 × 4</caption>\n",
       "<thead>\n",
       "\t<tr><th scope=col>iccs</th><th scope=col>geo</th><th scope=col>values</th><th scope=col>year</th></tr>\n",
       "\t<tr><th scope=col>&lt;fct&gt;</th><th scope=col>&lt;chr&gt;</th><th scope=col>&lt;dbl&gt;</th><th scope=col>&lt;fct&gt;</th></tr>\n",
       "</thead>\n",
       "<tbody>\n",
       "\t<tr><td>Vehicle theft</td><td>NO082</td><td>684</td><td>2021</td></tr>\n",
       "\t<tr><td>Vehicle theft</td><td>NO091</td><td>388</td><td>2021</td></tr>\n",
       "\t<tr><td>Vehicle theft</td><td>NO092</td><td>347</td><td>2021</td></tr>\n",
       "\t<tr><td>Vehicle theft</td><td>NO0A1</td><td>268</td><td>2021</td></tr>\n",
       "\t<tr><td>Vehicle theft</td><td>NO0A2</td><td>205</td><td>2021</td></tr>\n",
       "\t<tr><td>Vehicle theft</td><td>NO0A3</td><td> 67</td><td>2021</td></tr>\n",
       "</tbody>\n",
       "</table>\n"
      ],
      "text/latex": [
       "A tibble: 6 × 4\n",
       "\\begin{tabular}{llll}\n",
       " iccs & geo & values & year\\\\\n",
       " <fct> & <chr> & <dbl> & <fct>\\\\\n",
       "\\hline\n",
       "\t Vehicle theft & NO082 & 684 & 2021\\\\\n",
       "\t Vehicle theft & NO091 & 388 & 2021\\\\\n",
       "\t Vehicle theft & NO092 & 347 & 2021\\\\\n",
       "\t Vehicle theft & NO0A1 & 268 & 2021\\\\\n",
       "\t Vehicle theft & NO0A2 & 205 & 2021\\\\\n",
       "\t Vehicle theft & NO0A3 &  67 & 2021\\\\\n",
       "\\end{tabular}\n"
      ],
      "text/markdown": [
       "\n",
       "A tibble: 6 × 4\n",
       "\n",
       "| iccs &lt;fct&gt; | geo &lt;chr&gt; | values &lt;dbl&gt; | year &lt;fct&gt; |\n",
       "|---|---|---|---|\n",
       "| Vehicle theft | NO082 | 684 | 2021 |\n",
       "| Vehicle theft | NO091 | 388 | 2021 |\n",
       "| Vehicle theft | NO092 | 347 | 2021 |\n",
       "| Vehicle theft | NO0A1 | 268 | 2021 |\n",
       "| Vehicle theft | NO0A2 | 205 | 2021 |\n",
       "| Vehicle theft | NO0A3 |  67 | 2021 |\n",
       "\n"
      ],
      "text/plain": [
       "  iccs          geo   values year\n",
       "1 Vehicle theft NO082 684    2021\n",
       "2 Vehicle theft NO091 388    2021\n",
       "3 Vehicle theft NO092 347    2021\n",
       "4 Vehicle theft NO0A1 268    2021\n",
       "5 Vehicle theft NO0A2 205    2021\n",
       "6 Vehicle theft NO0A3  67    2021"
      ]
     },
     "metadata": {},
     "output_type": "display_data"
    }
   ],
   "source": [
    "head(data_total_crimes)\n",
    "tail(data_total_crimes)"
   ]
  },
  {
   "cell_type": "markdown",
   "id": "812b2620-fb9f-42b8-91b2-6697d39ff94d",
   "metadata": {},
   "source": [
    "#### Mann-Whitney U test\n",
    "\n",
    "In Mann-Whitney U test we assume that we have two distribution functions:\n",
    "- $F_{2021}$ - for crimes across all types and regions by year 2021.\n",
    "- $F_{2020}$ - for crimes across all types and regions by year 2020.\n",
    "\n",
    "We test:\n",
    "- $H_0: F_{2021} = F_{2020}$\n",
    "- $H_A: F_{2021} \\neq F_{2020}$\n",
    "\n",
    "In other words - we test if crime situation in Norway didn't change significantly between year $2020$ and $2021$.\n",
    "\n",
    "Man-Whitney U test is sensitive to data translation, that is $G(x) = F(x-\\delta), \\delta>0$, so we will assume that crime cases are not shifted (no bias in measuring of data).\n"
   ]
  },
  {
   "cell_type": "code",
   "execution_count": 32,
   "id": "b5f52d42-7ce4-472c-b4bb-a14bd01cd08c",
   "metadata": {},
   "outputs": [
    {
     "name": "stderr",
     "output_type": "stream",
     "text": [
      "Warning message in wilcox.test.default(x = c(3, 2, 0, 0, 2, 10, 1, 3, 5, 5, 0, 12, :\n",
      "“cannot compute exact p-value with ties”\n"
     ]
    },
    {
     "data": {
      "text/plain": [
       "\n",
       "\tWilcoxon rank sum test with continuity correction\n",
       "\n",
       "data:  values by year\n",
       "W = 999.5, p-value = 0.7958\n",
       "alternative hypothesis: true location shift is not equal to 0\n"
      ]
     },
     "metadata": {},
     "output_type": "display_data"
    }
   ],
   "source": [
    "wilcox.test(values ~ year, data=data_total_crimes)"
   ]
  },
  {
   "cell_type": "markdown",
   "id": "7f5a2281-2d2e-470f-bff9-c37ebee98081",
   "metadata": {},
   "source": [
    "We can se the warning - \"cannot compute exact p-value with ties\". This situation occurs because some values, or ranks, are same in the data. Though R will use approximation for the p-value, still we should be careful, because we don't have now exact the p-value.\n",
    "\n",
    "Nonetheless, the p-value is much higher than $\\alpha$, thus we cannot reject the null hypothesis in favor of alternative that distributions are significantly different."
   ]
  },
  {
   "cell_type": "markdown",
   "id": "81fd7357-bcad-4659-8d4a-9d60adb14427",
   "metadata": {},
   "source": [
    "#### Kolmogorov-Smirnov two-sample test\n",
    "\n",
    "Let's check same test using Kolmogorov-Smirnov two-sample test:\n",
    "- $H_0: F_{2021} = F_{2020}$\n",
    "- $H_A: F_{2021} \\neq F_{2020}$\n",
    "\n",
    "Kolmogorov-Smirnov two-sample test compares empiric distribution functions from both distributions.\n",
    "Lets create those empiric distribution functions, so we can compare what we see visually with what the test states:"
   ]
  },
  {
   "cell_type": "code",
   "execution_count": 33,
   "id": "490768bc-b148-4a2a-b0ab-c48e1b0d0f8d",
   "metadata": {},
   "outputs": [
    {
     "data": {
      "image/png": "[encoded data removed]",
      "text/plain": [
       "Plot with title “ECDF for year 2020”"
      ]
     },
     "metadata": {
      "image/png": {
       "height": 480,
       "width": 780
      }
     },
     "output_type": "display_data"
    },
    {
     "data": {
      "image/png": "[encoded data removed]",
      "text/plain": [
       "Plot with title “ECDF for year 2021”"
      ]
     },
     "metadata": {
      "image/png": {
       "height": 480,
       "width": 780
      }
     },
     "output_type": "display_data"
    }
   ],
   "source": [
    "options(repr.plot.width=13, repr.plot.height=8) # Regulates the size of a plot\n",
    "plot(ecdf(prepared_data.2020$values), main='ECDF for year 2020', xlab='crimes number', ylab='ECDF', col='orange')\n",
    "plot(ecdf(prepared_data.2021$values), main='ECDF for year 2021', xlab='crimes number', ylab='ECDF', col='blue')"
   ]
  },
  {
   "cell_type": "markdown",
   "id": "d3a0388e-cfdc-4e8a-b49a-bc402082a271",
   "metadata": {},
   "source": [
    "For better comparison of both distribution functions, we will plot them together on one plot. **Note, that technically following plots are not distribution functions, because of vertical lines.** But for visual comparison it is much better."
   ]
  },
  {
   "cell_type": "code",
   "execution_count": 34,
   "id": "2aee83ed-2ec1-42bf-818e-f023267599fa",
   "metadata": {},
   "outputs": [
    {
     "data": {
      "image/png": "[encoded data removed]",
      "text/plain": [
       "plot without title"
      ]
     },
     "metadata": {
      "image/png": {
       "height": 480,
       "width": 780
      }
     },
     "output_type": "display_data"
    }
   ],
   "source": [
    "options(repr.plot.width=13, repr.plot.height=8) # Regulates the size of a plot\n",
    "ggplot(data_total_crimes, aes(x=values, group=year, color=year)) +\n",
    "  stat_ecdf(geom='step') +\n",
    "  labs(title='Visualization of cumulative distributions for 2020 and 2021',\n",
    "       x='Crimes number',\n",
    "       y='Cumulative probability',\n",
    "       color='Year') +\n",
    "  scale_color_manual(values=c('2020'='orange', '2021'='blue'))"
   ]
  },
  {
   "cell_type": "code",
   "execution_count": 35,
   "id": "7bee0049-003f-40d1-8a8a-b4f840087159",
   "metadata": {},
   "outputs": [
    {
     "name": "stderr",
     "output_type": "stream",
     "text": [
      "Warning message in is.na(x):\n",
      "“is.na() applied to non-(list or vector) of type 'language'”\n"
     ]
    },
    {
     "ename": "ERROR",
     "evalue": "Error in ks.test(values ~ year, data = data_total_crimes): argument \"y\" is missing, with no default\n",
     "output_type": "error",
     "traceback": [
      "Error in ks.test(values ~ year, data = data_total_crimes): argument \"y\" is missing, with no default\nTraceback:\n",
      "1. ks.test(values ~ year, data = data_total_crimes)"
     ]
    }
   ],
   "source": [
    "ks.test(values ~ year, data=data_total_crimes)"
   ]
  },
  {
   "cell_type": "markdown",
   "id": "daebded0-5162-4c46-97a8-cd3d545e5916",
   "metadata": {
    "jp-MarkdownHeadingCollapsed": true
   },
   "source": [
    "P-value is much higher that the $\\alpha$, thus we cannot reject null hypothesis.\n",
    "\n",
    "Visually we see, that both empirical distribution functions are almost identical, which supports the conclusion that we cannot reject that distributions are significantly different.\n",
    "\n",
    "To conclude - we cannot say that criminality distribution between $2020$ and $2021$ years is significantly different."
   ]
  },
  {
   "cell_type": "markdown",
   "id": "17c44fb8-a5ea-478f-a768-6e3757cd778b",
   "metadata": {},
   "source": [
    "### Test #2 (2008 vs 2019)"
   ]
  },
  {
   "cell_type": "markdown",
   "id": "4671b0bb-5fd7-4223-9da9-c578c93008d9",
   "metadata": {},
   "source": [
    "#### Intuition\n",
    "\n",
    "This part will examine whether there is a relationship between the number of crimes and time. First, let us consider the intuition why such a test might have meaning.\n",
    "\n",
    "For this task, we will choose capital region data between $2008$ and $2019$. The regional division was changed after $2019$, so we cannot consider the more recent data along with the older ones, which is simply a larger number. Additionally, in this case, it makes sense to consider absolute values, since this is the same region and its population has not changed much over this period of time."
   ]
  },
  {
   "cell_type": "code",
   "execution_count": null,
   "id": "51fac60e-5ace-4966-8c93-0290fe1c77e1",
   "metadata": {},
   "outputs": [],
   "source": [
    "crime_dynamics <- subset(dataset,\n",
    "                         geo == 'NO011' & unit == 'NR',\n",
    "                         c(iccs, TIME_PERIOD, values))\n",
    "crime_dynamics <- pivot_wider(crime_dynamics, names_from=iccs, values_from=values)\n",
    "crime_dynamics$ICCS0502 <- crime_dynamics$ICCS0502 - crime_dynamics$ICCS050211  # solution of the same problem with subset\n",
    "all(colnames(crime_dynamics)[-1] == prev_labels)  # justification for the following line of code\n",
    "colnames(crime_dynamics)[-1] <- new_labels"
   ]
  },
  {
   "cell_type": "code",
   "execution_count": null,
   "id": "9dad6a7f-5081-4afd-8829-2c3fdef10095",
   "metadata": {},
   "outputs": [],
   "source": [
    "crime_dynamics"
   ]
  },
  {
   "cell_type": "markdown",
   "id": "ce81fae4-5f87-44e5-aa40-0081a14eee62",
   "metadata": {},
   "source": [
    "As can be seen from the dataframe above there is a downward trend in crime. The following visualization demonstrates this better."
   ]
  },
  {
   "cell_type": "code",
   "execution_count": null,
   "id": "06a5d84b-44d7-48ca-a9d2-c2923ea03caa",
   "metadata": {},
   "outputs": [],
   "source": [
    "options(repr.plot.width=13, repr.plot.height=8)\n",
    "ggplot(crime_dynamics %>% pivot_longer(cols=new_labels,\n",
    "                                       names_to='crime',\n",
    "                                       values_to='values'),\n",
    "       aes(x=TIME_PERIOD, y=values, color=crime)) +\n",
    "    geom_line() +\n",
    "    scale_x_date(breaks=crime_dynamics$TIME_PERIOD, date_labels='%Y') +\n",
    "    scale_y_continuous(trans='log10') +\n",
    "    labs(title='Crimes in the capital region by year',\n",
    "         x='Year',\n",
    "         y='Number of cases (log scale)',\n",
    "         color='Crimes by type') +\n",
    "    theme(plot.title=element_text(hjust=0.5))"
   ]
  },
  {
   "cell_type": "markdown",
   "id": "ba9b58de-9ebf-4939-91f9-edc7079f0d2b",
   "metadata": {},
   "source": [
    "Special attention should be paid to the fact that the y-axis has log scaling. The changes over time are actually impressive. This is confirmed by further examination of $2008$ and $2019$ separately."
   ]
  },
  {
   "cell_type": "code",
   "execution_count": null,
   "id": "3aab8563-e07b-460a-bf82-ec90896d29e8",
   "metadata": {},
   "outputs": [],
   "source": [
    "freq_time_vs_crime_df <- subset(crime_dynamics, TIME_PERIOD %in% c('2008-01-01', '2019-01-01'))\n",
    "freq_time_vs_crime_table <- (freq_time_vs_crime_df %>% column_to_rownames('TIME_PERIOD') %>% as.matrix() %>% as.table())\n",
    "names(dimnames(freq_time_vs_crime_table)) <- c('year', 'crime')"
   ]
  },
  {
   "cell_type": "code",
   "execution_count": null,
   "id": "aca4a0c1-c52e-42f7-a57a-95bd833ef126",
   "metadata": {},
   "outputs": [],
   "source": [
    "dark_grey <- '#555555'"
   ]
  },
  {
   "cell_type": "code",
   "execution_count": null,
   "id": "052390d8-9bcd-4b33-89a8-77990a38bbfa",
   "metadata": {},
   "outputs": [],
   "source": [
    "ggplot(as.data.frame(freq_time_vs_crime_table), aes(x=year, y=Freq, fill=crime)) +\n",
    "    geom_bar(stat='identity', position='dodge') +\n",
    "    scale_x_discrete(labels=format(freq_time_vs_crime_df$TIME_PERIOD, '%Y')) +\n",
    "    scale_y_continuous(trans='log10') +\n",
    "    labs(title='Comparison of crime rates in 2008 and 2019 (capital region)',\n",
    "         x='Year',\n",
    "         y='Number of cases (log scale)',\n",
    "         fill='Crimes by type') +\n",
    "    theme(plot.title=element_text(hjust=0.5)) +\n",
    "    geom_text(aes(label=Freq), position=position_dodge(.9), vjust=1.5, color=dark_grey)"
   ]
  },
  {
   "cell_type": "markdown",
   "id": "0deb9115-b173-40f5-9544-1aeae662f5a5",
   "metadata": {},
   "source": [
    "The number of cases has decreased by times. Let's check the statistical significance of these changes."
   ]
  },
  {
   "cell_type": "markdown",
   "id": "251dae63-b38f-4562-966e-6f4167259e10",
   "metadata": {},
   "source": [
    "#### Statistical significance\n",
    "\n",
    "In this instance, the existence of independence between the two variables **year** and **crime** is investigated. Both are qualitative, so it makes sense to look at the contingency table `freq_time_vs_crime_table` to select a statistical test."
   ]
  },
  {
   "cell_type": "code",
   "execution_count": null,
   "id": "fb61d281-5951-4058-ba94-7b4d11838123",
   "metadata": {},
   "outputs": [],
   "source": [
    "freq_time_vs_crime_table"
   ]
  },
  {
   "cell_type": "code",
   "execution_count": null,
   "id": "fbf7fb6e-4d31-4611-aaa3-d293efa8c77c",
   "metadata": {},
   "outputs": [],
   "source": [
    "sum(freq_time_vs_crime_table)  # N"
   ]
  },
  {
   "cell_type": "markdown",
   "id": "caeb5173-fd5d-479a-bb98-acca14d016b3",
   "metadata": {},
   "source": [
    "Let's start by defining the matrix of **observed** frequencies $\\mathbf O \\in \\mathbb N^{2,4}$ (`freq_time_vs_crime_table`) and the matrix of **expected** frequencies $\\mathbf E \\in \\mathbb N^{2,4}$ as follows$$(\\forall i \\in \\hat n)(\\forall j \\in \\hat m)\\left(\\mathbf E_{ij} = \\frac{f_{i\\cdot} \\cdot f_{\\cdot j}}{N}\\right),$$where $n=2, m=4$ and the expression on the right denotes dividing the **marginal frequencies** by the total number of observations. For example$$\\begin{align*}\\mathbf E_\n",
    "{21} = \\frac{f_{2\\cdot} \\cdot f_{\\cdot 1}}{N} = \\frac{4075 \\cdot 13}{47050} \\approx 1.126 < 5 && (*)\\end{align*}$$\n",
    "\n",
    "The hypotheses will look as follows$$\\begin{align*} H_0: \\ \\mathbf O = \\mathbf E  && \\text{(variables are independent)} \\\\ H_A: \\ \\mathbf O \\ne \\mathbf E \\end{align*}$$\n",
    "\n",
    "*Because of this inequality Pearson's chi-squared test cannot be applied on this data, we use Fisher's exact test instead.\\\n",
    "**An analog in probabilities can be given to the expressions above."
   ]
  },
  {
   "cell_type": "code",
   "execution_count": null,
   "id": "065f6e14-0336-4754-9970-d9da9cc3e268",
   "metadata": {},
   "outputs": [],
   "source": [
    "fisher.test(freq_time_vs_crime_table, alternative='only in the 2x2 case', simulate.p.value=T)"
   ]
  },
  {
   "cell_type": "markdown",
   "id": "c05e6448-c844-4b7a-9e9f-0372e1fc76dc",
   "metadata": {},
   "source": [
    "Fisher's test uses a hypergeometric distribution to accurately calculate the probability of obtaining such data conditional on $H_0$ being true. In our case, this probability is $0.0005$, which is less than the accepted significance level of $0.05$. This means that we reject the null hypothesis in favor of the alternative."
   ]
  },
  {
   "cell_type": "markdown",
   "id": "06a92dca-89ff-4365-85fc-3a1bcfd9289a",
   "metadata": {},
   "source": [
    "## Test #3 (Norway vs Finland)"
   ]
  },
  {
   "cell_type": "markdown",
   "id": "98caa8e7-9615-4c50-9a4e-32754a264196",
   "metadata": {},
   "source": [
    "### Intuition\n",
    "\n",
    "Let's examine the difference in crime rates between Norway and Finland for $2021.$ This can be done on the basis of absolute values, since the populations of these countries are almost equal — $5.408$ million for [Norway](https://www.google.com/search?q=norway+population+2021&sca_esv=6dba56f94bcc106c&sca_upv=1&sxsrf=ACQVn09RNlOaFd8FlhssUGT3EgBV155UgA%3A1711713537425&ei=Aa0GZuK_Gf7bi-gP9Nm6oAI&ved=0ahUKEwiixOvqtZmFAxX-7QIHHfSsDiQQ4dUDCBA&uact=5&oq=norway+population+2021&gs_lp=Egxnd3Mtd2l6LXNlcnAiFm5vcndheSBwb3B1bGF0aW9uIDIwMjEyCBAAGAcYHhgKMgYQABgHGB4yBhAAGAUYHjIGEAAYCBgeMgYQABgIGB5IxxdQwAlYkBZwA3gBkAEAmAFPoAHpA6oBATe4AQPIAQD4AQGYAgqgApUEwgIKEAAYRxjWBBiwA8ICDRAAGIAEGIoFGEMYsAPCAggQABgIGAcYHsICCBAAGAUYBxgewgILEAAYgAQYigUYhgPCAgUQABiABJgDAIgGAZAGCpIHAjEwoAePIw&sclient=gws-wiz-serp) and $5.541$ million for [Finland](https://www.google.com/search?q=finland+population+2021&sca_esv=6dba56f94bcc106c&sca_upv=1&sxsrf=ACQVn09kzkR_WVOdaUguEGXsF7Zm_6H58A%3A1711713567653&ei=H60GZrbAJ6Lbi-gPhvioyAo&ved=0ahUKEwj2y6D5tZmFAxWi7QIHHQY8CqkQ4dUDCBA&uact=5&oq=finland+population+2021&gs_lp=Egxnd3Mtd2l6LXNlcnAiF2ZpbmxhbmQgcG9wdWxhdGlvbiAyMDIxMg8QIxiABBiKBRgnGEYY-wEyBhAAGAgYHjIZEAAYgAQYigUYRhj7ARiXBRiMBRjdBNgBAUieFFD2B1juDnACeAGQAQCYAbUBoAGpBaoBAzYuMbgBA8gBAPgBAZgCCKACqgTCAgoQABhHGNYEGLADwgINEAAYgAQYigUYQxiwA8ICBhAAGAcYHsICCBAAGAgYBxgewgIIEAAYBRgHGB7CAgwQIxiwAhgnGEYY-wHCAhYQABiwAhhGGPsBGJcFGIwFGN0E2AEBmAMAiAYBkAYKugYGCAEQARgTkgcBOKAHkSU&sclient=gws-wiz-serp).\n",
    "\n",
    "We will look at three categories of crimes and will not include theft of a motor vehicle separately, as these data are not available for Finland."
   ]
  },
  {
   "cell_type": "code",
   "execution_count": null,
   "id": "2cace42a-8105-4977-9b1e-5c304a79c69b",
   "metadata": {},
   "outputs": [],
   "source": [
    "freq_no_vs_fi_crime_df <- subset(dataset,\n",
    "                                 geo %in% c('NO', 'FI') &\n",
    "                                 iccs %in% prev_labels[-4] &\n",
    "                                 TIME_PERIOD == '2021-01-01' &\n",
    "                                 unit == 'NR',\n",
    "                                 c(geo, iccs, values))\n",
    "freq_no_vs_fi_crime_df <- pivot_wider(freq_no_vs_fi_crime_df, names_from=iccs, values_from=values)\n",
    "colnames(freq_no_vs_fi_crime_df)[-1] <- c('Int. homicide', 'Robbery', 'Theft')"
   ]
  },
  {
   "cell_type": "code",
   "execution_count": null,
   "id": "00f4a0df-dc4a-4a5a-9828-d67d6f217e5e",
   "metadata": {},
   "outputs": [],
   "source": [
    "freq_no_vs_fi_crime_table <- (freq_no_vs_fi_crime_df %>% column_to_rownames('geo') %>% as.matrix() %>% as.table())\n",
    "names(dimnames(freq_no_vs_fi_crime_table)) <- c('country', 'crime')"
   ]
  },
  {
   "cell_type": "code",
   "execution_count": null,
   "id": "7b5250c3-2c1d-49d0-b603-7ca022950e37",
   "metadata": {},
   "outputs": [],
   "source": [
    "ggplot(as.data.frame(freq_no_vs_fi_crime_table), aes(x=country, y=Freq, fill=crime)) +\n",
    "    geom_bar(stat='identity', position='dodge') +\n",
    "    scale_x_discrete(labels=c('Finland', 'Norway')) +\n",
    "    scale_y_continuous(trans='log10') +\n",
    "    labs(title='Comparison of crime rates in Finland and Norway in 2021',\n",
    "         x='Country',\n",
    "         y='Number of cases (log scale)',\n",
    "         fill='Crimes by type') +\n",
    "    theme(plot.title = element_text(hjust=0.5)) +\n",
    "    geom_text(aes(label=Freq), position=position_dodge(.9), vjust=1.5, color=dark_grey)"
   ]
  },
  {
   "cell_type": "markdown",
   "id": "db46e717-650f-4694-b8da-0bfb8e977fdf",
   "metadata": {},
   "source": [
    "There is a big difference in the crime rate in these two countries. Let's check this statistically."
   ]
  },
  {
   "cell_type": "markdown",
   "id": "26de07ab-3a14-41f5-a2ac-e484a719935d",
   "metadata": {},
   "source": [
    "### Statistical significance\n",
    "\n",
    "The hypotheses will be the same as in the last test$$\\begin{align*} H_0: \\ \\mathbf O = \\mathbf E  && \\text{(variables are independent)} \\\\ H_A: \\ \\mathbf O \\ne \\mathbf E \\end{align*}$$The only difference is that the data will change — $\\mathbf O, \\mathbf E \\in \\mathbb N^{2,3}.$ In addition, we can now apply Pearson's chi-squared test since all elements of matrix $\\mathbf E$ are greater than or equal to $5$."
   ]
  },
  {
   "cell_type": "code",
   "execution_count": null,
   "id": "9c0f7a5f-fb71-49f4-81d5-dc9439564bf5",
   "metadata": {},
   "outputs": [],
   "source": [
    "freq_no_vs_fi_crime_table"
   ]
  },
  {
   "cell_type": "code",
   "execution_count": null,
   "id": "627152f5-eee3-4956-9e48-2a5da170bf06",
   "metadata": {},
   "outputs": [],
   "source": [
    "test_output <- chisq.test(freq_no_vs_fi_crime_table)\n",
    "round(test_output$expected, digits=2)"
   ]
  },
  {
   "cell_type": "code",
   "execution_count": null,
   "id": "d5dc3eec-0437-4ec6-9f45-cc2a9f7b8b64",
   "metadata": {},
   "outputs": [],
   "source": [
    "test_output"
   ]
  },
  {
   "cell_type": "markdown",
   "id": "441b6f1d-c5ca-44c3-98c3-4dd8bf641e10",
   "metadata": {},
   "source": [
    "The p-value allows us to reject the null hypothesis in favor of the alternative. This means that the difference in crime between the two countries is statistically significant."
   ]
  },
  {
   "cell_type": "markdown",
   "id": "edfcfeee-3883-4352-a2f8-158b7c752628",
   "metadata": {},
   "source": [
    "## References\n",
    "\n",
    "1. ***Eurostat, Column description is located in 'About this dataset' section,*** https://ec.europa.eu/eurostat/databrowser/view/crim_gen_reg/default/table?lang=en&category=crim.crim_off\n",
    "2. ***Eurostat, Dataset metadata (Completeness section)***, https://ec.europa.eu/eurostat/cache/metadata/en/crim_gen_reg_esms.htm\n",
    "3. ***Eurostat, Dataset metadata (Unit of measure section)***, https://ec.europa.eu/eurostat/cache/metadata/en/crim_gen_reg_esms.htm\n",
    "4. ***Eurostat, International classification od crime (codes)***, https://ec.europa.eu/eurostat/databrowser/view/crim_gen_reg/default/table?lang=en&category=crim.crim_off\n",
    "5. ***Revolutions, Regulation of the size of a plot***, https://blog.revolutionanalytics.com/2015/09/resizing-plots-in-the-r-kernel-for-jupyter-notebooks.html\n",
    "6. ***EU guidelines for the International Classification of Crime for Statistical Purposes — ICCS***, https://ec.europa.eu/eurostat/documents/3859598/8305054/KS-GQ-17-010-EN-N.pdf/feefb266-becc-441c-8283-3f9f74b29156?t=1507884966000"
   ]
  }
 ],
 "metadata": {
  "kernelspec": {
   "display_name": "R",
   "language": "R",
   "name": "ir"
  },
  "language_info": {
   "codemirror_mode": "r",
   "file_extension": ".r",
   "mimetype": "text/x-r-source",
   "name": "R",
   "pygments_lexer": "r",
   "version": "4.1.2"
  }
 },
 "nbformat": 4,
 "nbformat_minor": 5
}
