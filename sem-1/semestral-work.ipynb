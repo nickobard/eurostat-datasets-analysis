{
 "cells": [
  {
   "cell_type": "markdown",
   "id": "18091f7a9ace2976",
   "metadata": {
    "collapsed": false,
    "jupyter": {
     "outputs_hidden": false
    }
   },
   "source": [
    "## BI-PRS - Semestral Work 1 (samarrik's version)"
   ]
  },
  {
   "cell_type": "markdown",
   "id": "d38929d5-a65b-4d6b-b1e4-8c3929cdbef0",
   "metadata": {},
   "source": [
    "### Country selection according to the representant's data"
   ]
  },
  {
   "cell_type": "code",
   "execution_count": 1,
   "id": "6db1cc594dc88b1c",
   "metadata": {
    "ExecuteTime": {
     "end_time": "2024-02-26T11:54:29.338493Z",
     "start_time": "2024-02-26T11:54:29.324249Z"
    },
    "collapsed": false,
    "jupyter": {
     "outputs_hidden": false
    }
   },
   "outputs": [
    {
     "name": "stdout",
     "output_type": "stream",
     "text": [
      "Parameter M = 2 => Norsko, K.Dedecius"
     ]
    }
   ],
   "source": [
    "K <- 27\n",
    "L <- nchar(\"bardatskii\")\n",
    "M <- ((K + L) * 47) %% 11 + 1\n",
    "\n",
    "cat(\"Parameter M =\", M, \"=> Norsko, K.Dedecius\")"
   ]
  },
  {
   "cell_type": "markdown",
   "id": "b1528caf-c9ef-4483-8a6f-acb46f4cb14c",
   "metadata": {},
   "source": [
    "### Neccessary imports"
   ]
  },
  {
   "cell_type": "code",
   "execution_count": 31,
   "id": "c5dc4eda-f8e7-481d-afd5-9652a97b320f",
   "metadata": {},
   "outputs": [],
   "source": [
    "#.libPaths('~/stats/Rlib') # set up the path to your R library\n",
    "#install.packages('...')   # install missing R packages\n",
    "\n",
    "# Import relevant R packages\n",
    "library(eurostat)"
   ]
  },
  {
   "cell_type": "markdown",
   "id": "b53eb7ed-b672-4354-826e-fd17477df7f8",
   "metadata": {},
   "source": [
    "### Descriptive statistics and exploratory data analysis"
   ]
  },
  {
   "cell_type": "markdown",
   "id": "5a36265d-7a1b-4b4a-8d87-ce4712e2f46f",
   "metadata": {},
   "source": [
    "- Download the dataset\n",
    "- Columns description\n",
    "- Extract only relevant data"
   ]
  },
  {
   "cell_type": "code",
   "execution_count": 32,
   "id": "ef795396-c1ac-4af6-9d23-7b01ca08d8b3",
   "metadata": {},
   "outputs": [
    {
     "name": "stderr",
     "output_type": "stream",
     "text": [
      "Dataset query already saved in cache_list.json...\n",
      "\n",
      "Reading cache file /tmp/Rtmpg1UN22/eurostat/5dbb8eb502ceb230f603aca463f247ce.rds\n",
      "\n",
      "Table  crim_gen_reg  read from cache file:  /tmp/Rtmpg1UN22/eurostat/5dbb8eb502ceb230f603aca463f247ce.rds\n",
      "\n"
     ]
    }
   ],
   "source": [
    "# Downloading the dataset\n",
    "dataset <- get_eurostat(id='crim_gen_reg')"
   ]
  },
  {
   "cell_type": "code",
   "execution_count": 33,
   "id": "7e69faca-a125-4db9-aec1-0bbf2cb46024",
   "metadata": {},
   "outputs": [
    {
     "data": {
      "text/html": [
       "<table class=\"dataframe\">\n",
       "<caption>A tibble: 5 × 6</caption>\n",
       "<thead>\n",
       "\t<tr><th scope=col>freq</th><th scope=col>unit</th><th scope=col>iccs</th><th scope=col>geo</th><th scope=col>TIME_PERIOD</th><th scope=col>values</th></tr>\n",
       "\t<tr><th scope=col>&lt;chr&gt;</th><th scope=col>&lt;chr&gt;</th><th scope=col>&lt;chr&gt;</th><th scope=col>&lt;chr&gt;</th><th scope=col>&lt;date&gt;</th><th scope=col>&lt;dbl&gt;</th></tr>\n",
       "</thead>\n",
       "<tbody>\n",
       "\t<tr><td>A</td><td>NR</td><td>ICCS0101</td><td>AL</td><td>2008-01-01</td><td> 88</td></tr>\n",
       "\t<tr><td>A</td><td>NR</td><td>ICCS0101</td><td>AL</td><td>2009-01-01</td><td> 82</td></tr>\n",
       "\t<tr><td>A</td><td>NR</td><td>ICCS0101</td><td>AL</td><td>2010-01-01</td><td>118</td></tr>\n",
       "\t<tr><td>A</td><td>NR</td><td>ICCS0101</td><td>AL</td><td>2011-01-01</td><td>124</td></tr>\n",
       "\t<tr><td>A</td><td>NR</td><td>ICCS0101</td><td>AL</td><td>2012-01-01</td><td>126</td></tr>\n",
       "</tbody>\n",
       "</table>\n"
      ],
      "text/latex": [
       "A tibble: 5 × 6\n",
       "\\begin{tabular}{llllll}\n",
       " freq & unit & iccs & geo & TIME\\_PERIOD & values\\\\\n",
       " <chr> & <chr> & <chr> & <chr> & <date> & <dbl>\\\\\n",
       "\\hline\n",
       "\t A & NR & ICCS0101 & AL & 2008-01-01 &  88\\\\\n",
       "\t A & NR & ICCS0101 & AL & 2009-01-01 &  82\\\\\n",
       "\t A & NR & ICCS0101 & AL & 2010-01-01 & 118\\\\\n",
       "\t A & NR & ICCS0101 & AL & 2011-01-01 & 124\\\\\n",
       "\t A & NR & ICCS0101 & AL & 2012-01-01 & 126\\\\\n",
       "\\end{tabular}\n"
      ],
      "text/markdown": [
       "\n",
       "A tibble: 5 × 6\n",
       "\n",
       "| freq &lt;chr&gt; | unit &lt;chr&gt; | iccs &lt;chr&gt; | geo &lt;chr&gt; | TIME_PERIOD &lt;date&gt; | values &lt;dbl&gt; |\n",
       "|---|---|---|---|---|---|\n",
       "| A | NR | ICCS0101 | AL | 2008-01-01 |  88 |\n",
       "| A | NR | ICCS0101 | AL | 2009-01-01 |  82 |\n",
       "| A | NR | ICCS0101 | AL | 2010-01-01 | 118 |\n",
       "| A | NR | ICCS0101 | AL | 2011-01-01 | 124 |\n",
       "| A | NR | ICCS0101 | AL | 2012-01-01 | 126 |\n",
       "\n"
      ],
      "text/plain": [
       "  freq unit iccs     geo TIME_PERIOD values\n",
       "1 A    NR   ICCS0101 AL  2008-01-01   88   \n",
       "2 A    NR   ICCS0101 AL  2009-01-01   82   \n",
       "3 A    NR   ICCS0101 AL  2010-01-01  118   \n",
       "4 A    NR   ICCS0101 AL  2011-01-01  124   \n",
       "5 A    NR   ICCS0101 AL  2012-01-01  126   "
      ]
     },
     "metadata": {},
     "output_type": "display_data"
    }
   ],
   "source": [
    "# First glance at the data we've received\n",
    "head(dataset, 5)"
   ]
  },
  {
   "cell_type": "markdown",
   "id": "6907819e-e976-4268-9226-af24df0e84ca",
   "metadata": {},
   "source": [
    "#### Column description:\n",
    "\n",
    "- **geo**: Geopolitical entity (reporting)\n",
    "- **iccs**: International classification of crime for statistical purposes\n",
    "- **time**: Time\n",
    "- **freq**: Frequency\n",
    "- **unit**: Unit of measure\n",
    "\n",
    "[eurostat] https://ec.europa.eu/eurostat/databrowser/view/crim_gen_reg/default/table?lang=en&category=crim.crim_off ( About this dataset)"
   ]
  },
  {
   "cell_type": "markdown",
   "id": "1d455c15-212e-4aa0-8fa0-4b14c6611bff",
   "metadata": {},
   "source": [
    "#### Dataset completeness\n",
    "[metadata] - https://ec.europa.eu/eurostat/cache/metadata/en/crim_gen_reg_esms.htm"
   ]
  },
  {
   "attachments": {},
   "cell_type": "markdown",
   "id": "abe9ca92-c3b9-49ba-bbcb-8ccc6e5f399b",
   "metadata": {},
   "source": [
    "![completeness](src/images/completeness.png)"
   ]
  },
  {
   "attachments": {},
   "cell_type": "markdown",
   "id": "893be8fc-63c6-440f-b249-9784559696d4",
   "metadata": {},
   "source": [
    "#### Data units of measure explanation\n",
    "\n",
    "[metadata] - https://ec.europa.eu/eurostat/cache/metadata/en/crim_gen_reg_esms.htm"
   ]
  },
  {
   "attachments": {},
   "cell_type": "markdown",
   "id": "fce440d5-3a90-4273-bfb0-652c4024f889",
   "metadata": {},
   "source": [
    "![units](src/images/units.png)"
   ]
  },
  {
   "cell_type": "code",
   "execution_count": 36,
   "id": "fb98bfd4-6bb5-494c-89de-e2ac00e6e9ca",
   "metadata": {},
   "outputs": [
    {
     "data": {
      "text/html": [
       "<table class=\"dataframe\">\n",
       "<caption>A tibble: 44 × 5</caption>\n",
       "<thead>\n",
       "\t<tr><th scope=col>unit</th><th scope=col>iccs</th><th scope=col>geo</th><th scope=col>TIME_PERIOD</th><th scope=col>values</th></tr>\n",
       "\t<tr><th scope=col>&lt;chr&gt;</th><th scope=col>&lt;chr&gt;</th><th scope=col>&lt;chr&gt;</th><th scope=col>&lt;date&gt;</th><th scope=col>&lt;dbl&gt;</th></tr>\n",
       "</thead>\n",
       "<tbody>\n",
       "\t<tr><td>P_HTHAB</td><td>ICCS0101  </td><td>NO020</td><td>2021-01-01</td><td>   0.00</td></tr>\n",
       "\t<tr><td>P_HTHAB</td><td>ICCS0101  </td><td>NO060</td><td>2021-01-01</td><td>   0.21</td></tr>\n",
       "\t<tr><td>P_HTHAB</td><td>ICCS0101  </td><td>NO071</td><td>2021-01-01</td><td>   0.00</td></tr>\n",
       "\t<tr><td>P_HTHAB</td><td>ICCS0101  </td><td>NO074</td><td>2021-01-01</td><td>   0.00</td></tr>\n",
       "\t<tr><td>P_HTHAB</td><td>ICCS0101  </td><td>NO081</td><td>2021-01-01</td><td>   1.00</td></tr>\n",
       "\t<tr><td>P_HTHAB</td><td>ICCS0101  </td><td>NO082</td><td>2021-01-01</td><td>   1.04</td></tr>\n",
       "\t<tr><td>P_HTHAB</td><td>ICCS0101  </td><td>NO091</td><td>2021-01-01</td><td>   0.47</td></tr>\n",
       "\t<tr><td>P_HTHAB</td><td>ICCS0101  </td><td>NO092</td><td>2021-01-01</td><td>   0.32</td></tr>\n",
       "\t<tr><td>P_HTHAB</td><td>ICCS0101  </td><td>NO0A1</td><td>2021-01-01</td><td>   0.00</td></tr>\n",
       "\t<tr><td>P_HTHAB</td><td>ICCS0101  </td><td>NO0A2</td><td>2021-01-01</td><td>   0.47</td></tr>\n",
       "\t<tr><td>P_HTHAB</td><td>ICCS0101  </td><td>NO0A3</td><td>2021-01-01</td><td>   0.75</td></tr>\n",
       "\t<tr><td>P_HTHAB</td><td>ICCS0401  </td><td>NO020</td><td>2021-01-01</td><td>   5.13</td></tr>\n",
       "\t<tr><td>P_HTHAB</td><td>ICCS0401  </td><td>NO060</td><td>2021-01-01</td><td>   8.91</td></tr>\n",
       "\t<tr><td>P_HTHAB</td><td>ICCS0401  </td><td>NO071</td><td>2021-01-01</td><td>   1.66</td></tr>\n",
       "\t<tr><td>P_HTHAB</td><td>ICCS0401  </td><td>NO074</td><td>2021-01-01</td><td>   5.78</td></tr>\n",
       "\t<tr><td>P_HTHAB</td><td>ICCS0401  </td><td>NO081</td><td>2021-01-01</td><td>  46.91</td></tr>\n",
       "\t<tr><td>P_HTHAB</td><td>ICCS0401  </td><td>NO082</td><td>2021-01-01</td><td>  10.46</td></tr>\n",
       "\t<tr><td>P_HTHAB</td><td>ICCS0401  </td><td>NO091</td><td>2021-01-01</td><td>  10.43</td></tr>\n",
       "\t<tr><td>P_HTHAB</td><td>ICCS0401  </td><td>NO092</td><td>2021-01-01</td><td>  12.95</td></tr>\n",
       "\t<tr><td>P_HTHAB</td><td>ICCS0401  </td><td>NO0A1</td><td>2021-01-01</td><td>  11.40</td></tr>\n",
       "\t<tr><td>P_HTHAB</td><td>ICCS0401  </td><td>NO0A2</td><td>2021-01-01</td><td>   7.83</td></tr>\n",
       "\t<tr><td>P_HTHAB</td><td>ICCS0401  </td><td>NO0A3</td><td>2021-01-01</td><td>   2.64</td></tr>\n",
       "\t<tr><td>P_HTHAB</td><td>ICCS0502  </td><td>NO020</td><td>2021-01-01</td><td> 821.90</td></tr>\n",
       "\t<tr><td>P_HTHAB</td><td>ICCS0502  </td><td>NO060</td><td>2021-01-01</td><td>1382.86</td></tr>\n",
       "\t<tr><td>P_HTHAB</td><td>ICCS0502  </td><td>NO071</td><td>2021-01-01</td><td> 620.36</td></tr>\n",
       "\t<tr><td>P_HTHAB</td><td>ICCS0502  </td><td>NO074</td><td>2021-01-01</td><td> 775.49</td></tr>\n",
       "\t<tr><td>P_HTHAB</td><td>ICCS0502  </td><td>NO081</td><td>2021-01-01</td><td>3017.17</td></tr>\n",
       "\t<tr><td>P_HTHAB</td><td>ICCS0502  </td><td>NO082</td><td>2021-01-01</td><td>1294.65</td></tr>\n",
       "\t<tr><td>P_HTHAB</td><td>ICCS0502  </td><td>NO091</td><td>2021-01-01</td><td>1451.83</td></tr>\n",
       "\t<tr><td>P_HTHAB</td><td>ICCS0502  </td><td>NO092</td><td>2021-01-01</td><td>1793.14</td></tr>\n",
       "\t<tr><td>P_HTHAB</td><td>ICCS0502  </td><td>NO0A1</td><td>2021-01-01</td><td>1444.75</td></tr>\n",
       "\t<tr><td>P_HTHAB</td><td>ICCS0502  </td><td>NO0A2</td><td>2021-01-01</td><td>1135.84</td></tr>\n",
       "\t<tr><td>P_HTHAB</td><td>ICCS0502  </td><td>NO0A3</td><td>2021-01-01</td><td> 595.00</td></tr>\n",
       "\t<tr><td>P_HTHAB</td><td>ICCS050211</td><td>NO020</td><td>2021-01-01</td><td>  32.92</td></tr>\n",
       "\t<tr><td>P_HTHAB</td><td>ICCS050211</td><td>NO060</td><td>2021-01-01</td><td>  62.40</td></tr>\n",
       "\t<tr><td>P_HTHAB</td><td>ICCS050211</td><td>NO071</td><td>2021-01-01</td><td>  37.03</td></tr>\n",
       "\t<tr><td>P_HTHAB</td><td>ICCS050211</td><td>NO074</td><td>2021-01-01</td><td>  43.77</td></tr>\n",
       "\t<tr><td>P_HTHAB</td><td>ICCS050211</td><td>NO081</td><td>2021-01-01</td><td>  74.32</td></tr>\n",
       "\t<tr><td>P_HTHAB</td><td>ICCS050211</td><td>NO082</td><td>2021-01-01</td><td>  54.62</td></tr>\n",
       "\t<tr><td>P_HTHAB</td><td>ICCS050211</td><td>NO091</td><td>2021-01-01</td><td>  91.97</td></tr>\n",
       "\t<tr><td>P_HTHAB</td><td>ICCS050211</td><td>NO092</td><td>2021-01-01</td><td> 112.35</td></tr>\n",
       "\t<tr><td>P_HTHAB</td><td>ICCS050211</td><td>NO0A1</td><td>2021-01-01</td><td>  55.53</td></tr>\n",
       "\t<tr><td>P_HTHAB</td><td>ICCS050211</td><td>NO0A2</td><td>2021-01-01</td><td>  32.09</td></tr>\n",
       "\t<tr><td>P_HTHAB</td><td>ICCS050211</td><td>NO0A3</td><td>2021-01-01</td><td>  25.23</td></tr>\n",
       "</tbody>\n",
       "</table>\n"
      ],
      "text/latex": [
       "A tibble: 44 × 5\n",
       "\\begin{tabular}{lllll}\n",
       " unit & iccs & geo & TIME\\_PERIOD & values\\\\\n",
       " <chr> & <chr> & <chr> & <date> & <dbl>\\\\\n",
       "\\hline\n",
       "\t P\\_HTHAB & ICCS0101   & NO020 & 2021-01-01 &    0.00\\\\\n",
       "\t P\\_HTHAB & ICCS0101   & NO060 & 2021-01-01 &    0.21\\\\\n",
       "\t P\\_HTHAB & ICCS0101   & NO071 & 2021-01-01 &    0.00\\\\\n",
       "\t P\\_HTHAB & ICCS0101   & NO074 & 2021-01-01 &    0.00\\\\\n",
       "\t P\\_HTHAB & ICCS0101   & NO081 & 2021-01-01 &    1.00\\\\\n",
       "\t P\\_HTHAB & ICCS0101   & NO082 & 2021-01-01 &    1.04\\\\\n",
       "\t P\\_HTHAB & ICCS0101   & NO091 & 2021-01-01 &    0.47\\\\\n",
       "\t P\\_HTHAB & ICCS0101   & NO092 & 2021-01-01 &    0.32\\\\\n",
       "\t P\\_HTHAB & ICCS0101   & NO0A1 & 2021-01-01 &    0.00\\\\\n",
       "\t P\\_HTHAB & ICCS0101   & NO0A2 & 2021-01-01 &    0.47\\\\\n",
       "\t P\\_HTHAB & ICCS0101   & NO0A3 & 2021-01-01 &    0.75\\\\\n",
       "\t P\\_HTHAB & ICCS0401   & NO020 & 2021-01-01 &    5.13\\\\\n",
       "\t P\\_HTHAB & ICCS0401   & NO060 & 2021-01-01 &    8.91\\\\\n",
       "\t P\\_HTHAB & ICCS0401   & NO071 & 2021-01-01 &    1.66\\\\\n",
       "\t P\\_HTHAB & ICCS0401   & NO074 & 2021-01-01 &    5.78\\\\\n",
       "\t P\\_HTHAB & ICCS0401   & NO081 & 2021-01-01 &   46.91\\\\\n",
       "\t P\\_HTHAB & ICCS0401   & NO082 & 2021-01-01 &   10.46\\\\\n",
       "\t P\\_HTHAB & ICCS0401   & NO091 & 2021-01-01 &   10.43\\\\\n",
       "\t P\\_HTHAB & ICCS0401   & NO092 & 2021-01-01 &   12.95\\\\\n",
       "\t P\\_HTHAB & ICCS0401   & NO0A1 & 2021-01-01 &   11.40\\\\\n",
       "\t P\\_HTHAB & ICCS0401   & NO0A2 & 2021-01-01 &    7.83\\\\\n",
       "\t P\\_HTHAB & ICCS0401   & NO0A3 & 2021-01-01 &    2.64\\\\\n",
       "\t P\\_HTHAB & ICCS0502   & NO020 & 2021-01-01 &  821.90\\\\\n",
       "\t P\\_HTHAB & ICCS0502   & NO060 & 2021-01-01 & 1382.86\\\\\n",
       "\t P\\_HTHAB & ICCS0502   & NO071 & 2021-01-01 &  620.36\\\\\n",
       "\t P\\_HTHAB & ICCS0502   & NO074 & 2021-01-01 &  775.49\\\\\n",
       "\t P\\_HTHAB & ICCS0502   & NO081 & 2021-01-01 & 3017.17\\\\\n",
       "\t P\\_HTHAB & ICCS0502   & NO082 & 2021-01-01 & 1294.65\\\\\n",
       "\t P\\_HTHAB & ICCS0502   & NO091 & 2021-01-01 & 1451.83\\\\\n",
       "\t P\\_HTHAB & ICCS0502   & NO092 & 2021-01-01 & 1793.14\\\\\n",
       "\t P\\_HTHAB & ICCS0502   & NO0A1 & 2021-01-01 & 1444.75\\\\\n",
       "\t P\\_HTHAB & ICCS0502   & NO0A2 & 2021-01-01 & 1135.84\\\\\n",
       "\t P\\_HTHAB & ICCS0502   & NO0A3 & 2021-01-01 &  595.00\\\\\n",
       "\t P\\_HTHAB & ICCS050211 & NO020 & 2021-01-01 &   32.92\\\\\n",
       "\t P\\_HTHAB & ICCS050211 & NO060 & 2021-01-01 &   62.40\\\\\n",
       "\t P\\_HTHAB & ICCS050211 & NO071 & 2021-01-01 &   37.03\\\\\n",
       "\t P\\_HTHAB & ICCS050211 & NO074 & 2021-01-01 &   43.77\\\\\n",
       "\t P\\_HTHAB & ICCS050211 & NO081 & 2021-01-01 &   74.32\\\\\n",
       "\t P\\_HTHAB & ICCS050211 & NO082 & 2021-01-01 &   54.62\\\\\n",
       "\t P\\_HTHAB & ICCS050211 & NO091 & 2021-01-01 &   91.97\\\\\n",
       "\t P\\_HTHAB & ICCS050211 & NO092 & 2021-01-01 &  112.35\\\\\n",
       "\t P\\_HTHAB & ICCS050211 & NO0A1 & 2021-01-01 &   55.53\\\\\n",
       "\t P\\_HTHAB & ICCS050211 & NO0A2 & 2021-01-01 &   32.09\\\\\n",
       "\t P\\_HTHAB & ICCS050211 & NO0A3 & 2021-01-01 &   25.23\\\\\n",
       "\\end{tabular}\n"
      ],
      "text/markdown": [
       "\n",
       "A tibble: 44 × 5\n",
       "\n",
       "| unit &lt;chr&gt; | iccs &lt;chr&gt; | geo &lt;chr&gt; | TIME_PERIOD &lt;date&gt; | values &lt;dbl&gt; |\n",
       "|---|---|---|---|---|\n",
       "| P_HTHAB | ICCS0101   | NO020 | 2021-01-01 |    0.00 |\n",
       "| P_HTHAB | ICCS0101   | NO060 | 2021-01-01 |    0.21 |\n",
       "| P_HTHAB | ICCS0101   | NO071 | 2021-01-01 |    0.00 |\n",
       "| P_HTHAB | ICCS0101   | NO074 | 2021-01-01 |    0.00 |\n",
       "| P_HTHAB | ICCS0101   | NO081 | 2021-01-01 |    1.00 |\n",
       "| P_HTHAB | ICCS0101   | NO082 | 2021-01-01 |    1.04 |\n",
       "| P_HTHAB | ICCS0101   | NO091 | 2021-01-01 |    0.47 |\n",
       "| P_HTHAB | ICCS0101   | NO092 | 2021-01-01 |    0.32 |\n",
       "| P_HTHAB | ICCS0101   | NO0A1 | 2021-01-01 |    0.00 |\n",
       "| P_HTHAB | ICCS0101   | NO0A2 | 2021-01-01 |    0.47 |\n",
       "| P_HTHAB | ICCS0101   | NO0A3 | 2021-01-01 |    0.75 |\n",
       "| P_HTHAB | ICCS0401   | NO020 | 2021-01-01 |    5.13 |\n",
       "| P_HTHAB | ICCS0401   | NO060 | 2021-01-01 |    8.91 |\n",
       "| P_HTHAB | ICCS0401   | NO071 | 2021-01-01 |    1.66 |\n",
       "| P_HTHAB | ICCS0401   | NO074 | 2021-01-01 |    5.78 |\n",
       "| P_HTHAB | ICCS0401   | NO081 | 2021-01-01 |   46.91 |\n",
       "| P_HTHAB | ICCS0401   | NO082 | 2021-01-01 |   10.46 |\n",
       "| P_HTHAB | ICCS0401   | NO091 | 2021-01-01 |   10.43 |\n",
       "| P_HTHAB | ICCS0401   | NO092 | 2021-01-01 |   12.95 |\n",
       "| P_HTHAB | ICCS0401   | NO0A1 | 2021-01-01 |   11.40 |\n",
       "| P_HTHAB | ICCS0401   | NO0A2 | 2021-01-01 |    7.83 |\n",
       "| P_HTHAB | ICCS0401   | NO0A3 | 2021-01-01 |    2.64 |\n",
       "| P_HTHAB | ICCS0502   | NO020 | 2021-01-01 |  821.90 |\n",
       "| P_HTHAB | ICCS0502   | NO060 | 2021-01-01 | 1382.86 |\n",
       "| P_HTHAB | ICCS0502   | NO071 | 2021-01-01 |  620.36 |\n",
       "| P_HTHAB | ICCS0502   | NO074 | 2021-01-01 |  775.49 |\n",
       "| P_HTHAB | ICCS0502   | NO081 | 2021-01-01 | 3017.17 |\n",
       "| P_HTHAB | ICCS0502   | NO082 | 2021-01-01 | 1294.65 |\n",
       "| P_HTHAB | ICCS0502   | NO091 | 2021-01-01 | 1451.83 |\n",
       "| P_HTHAB | ICCS0502   | NO092 | 2021-01-01 | 1793.14 |\n",
       "| P_HTHAB | ICCS0502   | NO0A1 | 2021-01-01 | 1444.75 |\n",
       "| P_HTHAB | ICCS0502   | NO0A2 | 2021-01-01 | 1135.84 |\n",
       "| P_HTHAB | ICCS0502   | NO0A3 | 2021-01-01 |  595.00 |\n",
       "| P_HTHAB | ICCS050211 | NO020 | 2021-01-01 |   32.92 |\n",
       "| P_HTHAB | ICCS050211 | NO060 | 2021-01-01 |   62.40 |\n",
       "| P_HTHAB | ICCS050211 | NO071 | 2021-01-01 |   37.03 |\n",
       "| P_HTHAB | ICCS050211 | NO074 | 2021-01-01 |   43.77 |\n",
       "| P_HTHAB | ICCS050211 | NO081 | 2021-01-01 |   74.32 |\n",
       "| P_HTHAB | ICCS050211 | NO082 | 2021-01-01 |   54.62 |\n",
       "| P_HTHAB | ICCS050211 | NO091 | 2021-01-01 |   91.97 |\n",
       "| P_HTHAB | ICCS050211 | NO092 | 2021-01-01 |  112.35 |\n",
       "| P_HTHAB | ICCS050211 | NO0A1 | 2021-01-01 |   55.53 |\n",
       "| P_HTHAB | ICCS050211 | NO0A2 | 2021-01-01 |   32.09 |\n",
       "| P_HTHAB | ICCS050211 | NO0A3 | 2021-01-01 |   25.23 |\n",
       "\n"
      ],
      "text/plain": [
       "   unit    iccs       geo   TIME_PERIOD values \n",
       "1  P_HTHAB ICCS0101   NO020 2021-01-01     0.00\n",
       "2  P_HTHAB ICCS0101   NO060 2021-01-01     0.21\n",
       "3  P_HTHAB ICCS0101   NO071 2021-01-01     0.00\n",
       "4  P_HTHAB ICCS0101   NO074 2021-01-01     0.00\n",
       "5  P_HTHAB ICCS0101   NO081 2021-01-01     1.00\n",
       "6  P_HTHAB ICCS0101   NO082 2021-01-01     1.04\n",
       "7  P_HTHAB ICCS0101   NO091 2021-01-01     0.47\n",
       "8  P_HTHAB ICCS0101   NO092 2021-01-01     0.32\n",
       "9  P_HTHAB ICCS0101   NO0A1 2021-01-01     0.00\n",
       "10 P_HTHAB ICCS0101   NO0A2 2021-01-01     0.47\n",
       "11 P_HTHAB ICCS0101   NO0A3 2021-01-01     0.75\n",
       "12 P_HTHAB ICCS0401   NO020 2021-01-01     5.13\n",
       "13 P_HTHAB ICCS0401   NO060 2021-01-01     8.91\n",
       "14 P_HTHAB ICCS0401   NO071 2021-01-01     1.66\n",
       "15 P_HTHAB ICCS0401   NO074 2021-01-01     5.78\n",
       "16 P_HTHAB ICCS0401   NO081 2021-01-01    46.91\n",
       "17 P_HTHAB ICCS0401   NO082 2021-01-01    10.46\n",
       "18 P_HTHAB ICCS0401   NO091 2021-01-01    10.43\n",
       "19 P_HTHAB ICCS0401   NO092 2021-01-01    12.95\n",
       "20 P_HTHAB ICCS0401   NO0A1 2021-01-01    11.40\n",
       "21 P_HTHAB ICCS0401   NO0A2 2021-01-01     7.83\n",
       "22 P_HTHAB ICCS0401   NO0A3 2021-01-01     2.64\n",
       "23 P_HTHAB ICCS0502   NO020 2021-01-01   821.90\n",
       "24 P_HTHAB ICCS0502   NO060 2021-01-01  1382.86\n",
       "25 P_HTHAB ICCS0502   NO071 2021-01-01   620.36\n",
       "26 P_HTHAB ICCS0502   NO074 2021-01-01   775.49\n",
       "27 P_HTHAB ICCS0502   NO081 2021-01-01  3017.17\n",
       "28 P_HTHAB ICCS0502   NO082 2021-01-01  1294.65\n",
       "29 P_HTHAB ICCS0502   NO091 2021-01-01  1451.83\n",
       "30 P_HTHAB ICCS0502   NO092 2021-01-01  1793.14\n",
       "31 P_HTHAB ICCS0502   NO0A1 2021-01-01  1444.75\n",
       "32 P_HTHAB ICCS0502   NO0A2 2021-01-01  1135.84\n",
       "33 P_HTHAB ICCS0502   NO0A3 2021-01-01   595.00\n",
       "34 P_HTHAB ICCS050211 NO020 2021-01-01    32.92\n",
       "35 P_HTHAB ICCS050211 NO060 2021-01-01    62.40\n",
       "36 P_HTHAB ICCS050211 NO071 2021-01-01    37.03\n",
       "37 P_HTHAB ICCS050211 NO074 2021-01-01    43.77\n",
       "38 P_HTHAB ICCS050211 NO081 2021-01-01    74.32\n",
       "39 P_HTHAB ICCS050211 NO082 2021-01-01    54.62\n",
       "40 P_HTHAB ICCS050211 NO091 2021-01-01    91.97\n",
       "41 P_HTHAB ICCS050211 NO092 2021-01-01   112.35\n",
       "42 P_HTHAB ICCS050211 NO0A1 2021-01-01    55.53\n",
       "43 P_HTHAB ICCS050211 NO0A2 2021-01-01    32.09\n",
       "44 P_HTHAB ICCS050211 NO0A3 2021-01-01    25.23"
      ]
     },
     "metadata": {},
     "output_type": "display_data"
    }
   ],
   "source": [
    "# Select only relevant data\n",
    "norway_data <- dataset[startsWith(dataset$geo, 'NO') & (nchar(dataset$geo) == 5),] # NO (Norway), 5 chars = NO*** (3x * == NUTS3 region)\n",
    "norway_data <- norway_data[norway_data$TIME_PERIOD >= '2021-01-01' & norway_data$TIME_PERIOD <= '2021-12-31',] # data for 2021\n",
    "norway_data <- norway_data[norway_data$unit == 'P_HTHAB',] # it's better to work with relative P_HTHAB (Per hundred thousand inhabitants) numbers than with raw numbers\n",
    "norway_data$freq <- NULL\n",
    "norway_data"
   ]
  }
 ],
 "metadata": {
  "kernelspec": {
   "display_name": "R",
   "language": "R",
   "name": "ir"
  },
  "language_info": {
   "codemirror_mode": "r",
   "file_extension": ".r",
   "mimetype": "text/x-r-source",
   "name": "R",
   "pygments_lexer": "r",
   "version": "4.3.3"
  }
 },
 "nbformat": 4,
 "nbformat_minor": 5
}
