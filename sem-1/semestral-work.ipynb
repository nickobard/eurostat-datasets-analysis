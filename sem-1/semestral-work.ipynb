{
 "cells": [
  {
   "cell_type": "markdown",
   "id": "18091f7a9ace2976",
   "metadata": {
    "collapsed": false,
    "jupyter": {
     "outputs_hidden": false
    }
   },
   "source": [
    "## BI-PRS - Semestral Work 1 (samarrik's version)"
   ]
  },
  {
   "cell_type": "markdown",
   "id": "219cdb25-f622-42d3-ad11-df280f7d789a",
   "metadata": {},
   "source": [
    "### Code style & additional information (to be deleted)\n",
    "\n",
    "**Headers:**\n",
    "- # Work header\n",
    "- ## The section, task\n",
    "- ### Subtask\n",
    "\n",
    "**Comments:**\n",
    "- Major comments/descriptions are made in **markdown cells** with subtask definitions\n",
    "- Smaller code-related comments are made directly in the code\n",
    "\n",
    "**Images:**\n",
    "- All images saved in the **./src/images** folder inside the project\n",
    "\n",
    "**References:**\n",
    "- References are made in text using [x], where **x** is a sequential number of a reference\n",
    "- In the bottom of the notebook references are explained and specified using following template:\n",
    "\n",
    "x. ***Source, Additional info, url***"
   ]
  },
  {
   "cell_type": "markdown",
   "id": "d38929d5-a65b-4d6b-b1e4-8c3929cdbef0",
   "metadata": {},
   "source": [
    "### Country selection according to the representant's data"
   ]
  },
  {
   "cell_type": "code",
   "execution_count": 92,
   "id": "6db1cc594dc88b1c",
   "metadata": {
    "ExecuteTime": {
     "end_time": "2024-02-26T11:54:29.338493Z",
     "start_time": "2024-02-26T11:54:29.324249Z"
    },
    "collapsed": false,
    "jupyter": {
     "outputs_hidden": false
    }
   },
   "outputs": [
    {
     "name": "stdout",
     "output_type": "stream",
     "text": [
      "Parameter M = 2 => Norsko, K.Dedecius"
     ]
    }
   ],
   "source": [
    "K <- 27\n",
    "L <- nchar('bardatskii')\n",
    "M <- ((K + L) * 47) %% 11 + 1\n",
    "\n",
    "cat('Parameter M =', M, '=> Norsko, K.Dedecius')"
   ]
  },
  {
   "cell_type": "markdown",
   "id": "b1528caf-c9ef-4483-8a6f-acb46f4cb14c",
   "metadata": {},
   "source": [
    "### Neccessary imports"
   ]
  },
  {
   "cell_type": "code",
   "execution_count": 93,
   "id": "c5dc4eda-f8e7-481d-afd5-9652a97b320f",
   "metadata": {},
   "outputs": [],
   "source": [
    ".libPaths('~/stats/Rlib') # set up the path to your R library\n",
    "#install.packages('...')   # install missing R packages\n",
    "\n",
    "# Import relevant R packages\n",
    "library(eurostat)\n",
    "library(ggplot2)\n",
    "library(tidyr)\n",
    "library(tibble)\n",
    "library(gridExtra)\n",
    "library(cowplot)\n",
    "library(repr)\n",
    "library(vtable)"
   ]
  },
  {
   "cell_type": "markdown",
   "id": "b53eb7ed-b672-4354-826e-fd17477df7f8",
   "metadata": {},
   "source": [
    "## Dataset preparation\n",
    "\n",
    "- Download the dataset\n",
    "- Describe the columns\n",
    "- Extract relevant data"
   ]
  },
  {
   "cell_type": "code",
   "execution_count": 94,
   "id": "ef795396-c1ac-4af6-9d23-7b01ca08d8b3",
   "metadata": {},
   "outputs": [
    {
     "name": "stderr",
     "output_type": "stream",
     "text": [
      "Dataset query already saved in cache_list.json...\n",
      "\n",
      "Reading cache file /tmp/Rtmp52SmTC/eurostat/4ca88c492d9dacd6a9215347576d99fe.rds\n",
      "\n",
      "Table  crim_gen_reg  read from cache file:  /tmp/Rtmp52SmTC/eurostat/4ca88c492d9dacd6a9215347576d99fe.rds\n",
      "\n"
     ]
    }
   ],
   "source": [
    "# Downloading the dataset\n",
    "dataset <- get_eurostat(id='crim_gen_reg')"
   ]
  },
  {
   "cell_type": "code",
   "execution_count": 95,
   "id": "7e69faca-a125-4db9-aec1-0bbf2cb46024",
   "metadata": {},
   "outputs": [
    {
     "data": {
      "text/html": [
       "<table class=\"dataframe\">\n",
       "<caption>A tibble: 2 × 6</caption>\n",
       "<thead>\n",
       "\t<tr><th scope=col>freq</th><th scope=col>unit</th><th scope=col>iccs</th><th scope=col>geo</th><th scope=col>TIME_PERIOD</th><th scope=col>values</th></tr>\n",
       "\t<tr><th scope=col>&lt;chr&gt;</th><th scope=col>&lt;chr&gt;</th><th scope=col>&lt;chr&gt;</th><th scope=col>&lt;chr&gt;</th><th scope=col>&lt;date&gt;</th><th scope=col>&lt;dbl&gt;</th></tr>\n",
       "</thead>\n",
       "<tbody>\n",
       "\t<tr><td>A</td><td>NR</td><td>ICCS0101</td><td>AL</td><td>2008-01-01</td><td>88</td></tr>\n",
       "\t<tr><td>A</td><td>NR</td><td>ICCS0101</td><td>AL</td><td>2009-01-01</td><td>82</td></tr>\n",
       "</tbody>\n",
       "</table>\n"
      ],
      "text/latex": [
       "A tibble: 2 × 6\n",
       "\\begin{tabular}{llllll}\n",
       " freq & unit & iccs & geo & TIME\\_PERIOD & values\\\\\n",
       " <chr> & <chr> & <chr> & <chr> & <date> & <dbl>\\\\\n",
       "\\hline\n",
       "\t A & NR & ICCS0101 & AL & 2008-01-01 & 88\\\\\n",
       "\t A & NR & ICCS0101 & AL & 2009-01-01 & 82\\\\\n",
       "\\end{tabular}\n"
      ],
      "text/markdown": [
       "\n",
       "A tibble: 2 × 6\n",
       "\n",
       "| freq &lt;chr&gt; | unit &lt;chr&gt; | iccs &lt;chr&gt; | geo &lt;chr&gt; | TIME_PERIOD &lt;date&gt; | values &lt;dbl&gt; |\n",
       "|---|---|---|---|---|---|\n",
       "| A | NR | ICCS0101 | AL | 2008-01-01 | 88 |\n",
       "| A | NR | ICCS0101 | AL | 2009-01-01 | 82 |\n",
       "\n"
      ],
      "text/plain": [
       "  freq unit iccs     geo TIME_PERIOD values\n",
       "1 A    NR   ICCS0101 AL  2008-01-01  88    \n",
       "2 A    NR   ICCS0101 AL  2009-01-01  82    "
      ]
     },
     "metadata": {},
     "output_type": "display_data"
    }
   ],
   "source": [
    "# First glance at the data we've received\n",
    "head(dataset, 2)"
   ]
  },
  {
   "cell_type": "markdown",
   "id": "6907819e-e976-4268-9226-af24df0e84ca",
   "metadata": {},
   "source": [
    "#### Column description:\n",
    "\n",
    "- **freq**: Frequency\n",
    "- **unit**: Unit of measure\n",
    "- **iccs**: International classification of crime for statistical purposes\n",
    "- **geo**: Geopolitical entity (reporting)\n",
    "- **TIME_PERIOD**: Time\n",
    " \n",
    "[1]\n",
    "\n",
    "#### Dataset completeness\n",
    "\n",
    "There are no problems with the completeness of the data for the year 2021 from Norway.\n",
    "\n",
    "![completeness](src/images/completeness.png)\n",
    "[2]"
   ]
  },
  {
   "attachments": {},
   "cell_type": "markdown",
   "id": "893be8fc-63c6-440f-b249-9784559696d4",
   "metadata": {},
   "source": [
    "#### Data units of measure explanation\n",
    "\n",
    "We have multiple units of measure in this dataset. Let's clarify which ones we have here.\n",
    "\n",
    "![units](src/images/units.png)\n",
    "[3]"
   ]
  },
  {
   "cell_type": "markdown",
   "id": "de52bf75-f92c-46de-b111-c16466890cb0",
   "metadata": {},
   "source": [
    "#### Relevant data selection and dataset transformations\n",
    "- Norway NUTS3 regions\n",
    "- Records for the year 2021\n",
    "- Make separate columns for relative and absolute values\n",
    "- Make columns iccs and geo factors"
   ]
  },
  {
   "cell_type": "code",
   "execution_count": 96,
   "id": "fb98bfd4-6bb5-494c-89de-e2ac00e6e9ca",
   "metadata": {},
   "outputs": [
    {
     "data": {
      "text/html": [
       "<table class=\"dataframe\">\n",
       "<caption>A data.frame: 3 × 4</caption>\n",
       "<thead>\n",
       "\t<tr><th></th><th scope=col>iccs</th><th scope=col>geo</th><th scope=col>rel</th><th scope=col>abs</th></tr>\n",
       "\t<tr><th></th><th scope=col>&lt;fct&gt;</th><th scope=col>&lt;fct&gt;</th><th scope=col>&lt;dbl&gt;</th><th scope=col>&lt;dbl&gt;</th></tr>\n",
       "</thead>\n",
       "<tbody>\n",
       "\t<tr><th scope=row>1</th><td>ICCS0101</td><td>NO020</td><td>0.00</td><td>0</td></tr>\n",
       "\t<tr><th scope=row>2</th><td>ICCS0101</td><td>NO060</td><td>0.21</td><td>1</td></tr>\n",
       "\t<tr><th scope=row>3</th><td>ICCS0101</td><td>NO071</td><td>0.00</td><td>0</td></tr>\n",
       "</tbody>\n",
       "</table>\n"
      ],
      "text/latex": [
       "A data.frame: 3 × 4\n",
       "\\begin{tabular}{r|llll}\n",
       "  & iccs & geo & rel & abs\\\\\n",
       "  & <fct> & <fct> & <dbl> & <dbl>\\\\\n",
       "\\hline\n",
       "\t1 & ICCS0101 & NO020 & 0.00 & 0\\\\\n",
       "\t2 & ICCS0101 & NO060 & 0.21 & 1\\\\\n",
       "\t3 & ICCS0101 & NO071 & 0.00 & 0\\\\\n",
       "\\end{tabular}\n"
      ],
      "text/markdown": [
       "\n",
       "A data.frame: 3 × 4\n",
       "\n",
       "| <!--/--> | iccs &lt;fct&gt; | geo &lt;fct&gt; | rel &lt;dbl&gt; | abs &lt;dbl&gt; |\n",
       "|---|---|---|---|---|\n",
       "| 1 | ICCS0101 | NO020 | 0.00 | 0 |\n",
       "| 2 | ICCS0101 | NO060 | 0.21 | 1 |\n",
       "| 3 | ICCS0101 | NO071 | 0.00 | 0 |\n",
       "\n"
      ],
      "text/plain": [
       "  iccs     geo   rel  abs\n",
       "1 ICCS0101 NO020 0.00 0  \n",
       "2 ICCS0101 NO060 0.21 1  \n",
       "3 ICCS0101 NO071 0.00 0  "
      ]
     },
     "metadata": {},
     "output_type": "display_data"
    }
   ],
   "source": [
    "# Relative data selection\n",
    "data <- dataset[startsWith(dataset$geo, 'NO') & (nchar(dataset$geo)==5),]\n",
    "data <- data[data$TIME_PERIOD=='2021-01-01',]\n",
    "data$freq <- NULL\n",
    "data$TIME_PERIOD <- NULL\n",
    "\n",
    "# Dataset transformation\n",
    "data_by_unit <- split(data[,-1], data$unit)\n",
    "data <- merge(x=data_by_unit$P_HTHAB, y=data_by_unit$NR, by=c('iccs', 'geo'), all=TRUE)  # Outer join\n",
    "colnames(data)[3] <- 'rel'\n",
    "colnames(data)[4] <- 'abs'\n",
    "\n",
    "# Datatype transformations\n",
    "data$iccs <- as.factor(data$iccs)\n",
    "data$geo <- as.factor(data$geo)\n",
    "\n",
    "head(data, 3)"
   ]
  },
  {
   "cell_type": "markdown",
   "id": "58e24a60-61ca-4d1c-8f7a-fcb51c3de534",
   "metadata": {},
   "source": [
    "#### Rename factor categories"
   ]
  },
  {
   "cell_type": "markdown",
   "id": "0ce75ff6-19d1-4f73-993c-a5bb7f637cb1",
   "metadata": {},
   "source": [
    "![iccs_codes](src/images/iccs_codes.png)\n",
    "\n",
    "[4] \n",
    "\n",
    "**Not provided in the dataset**:\n",
    "- Assault (ICCS02011)\n",
    "- Burglary (ICCS0501)\n",
    "- Burglary of private residential premises (ICCS05012)\n",
    "\n",
    "[2]"
   ]
  },
  {
   "cell_type": "code",
   "execution_count": 97,
   "id": "8dc8c7e9-95a8-4916-b2da-8b522007c925",
   "metadata": {},
   "outputs": [
    {
     "data": {
      "text/html": [
       "<table class=\"dataframe\">\n",
       "<caption>A data.frame: 3 × 4</caption>\n",
       "<thead>\n",
       "\t<tr><th></th><th scope=col>iccs</th><th scope=col>geo</th><th scope=col>rel</th><th scope=col>abs</th></tr>\n",
       "\t<tr><th></th><th scope=col>&lt;fct&gt;</th><th scope=col>&lt;fct&gt;</th><th scope=col>&lt;dbl&gt;</th><th scope=col>&lt;dbl&gt;</th></tr>\n",
       "</thead>\n",
       "<tbody>\n",
       "\t<tr><th scope=row>1</th><td>Int. homicide</td><td>NO020</td><td>0.00</td><td>0</td></tr>\n",
       "\t<tr><th scope=row>2</th><td>Int. homicide</td><td>NO060</td><td>0.21</td><td>1</td></tr>\n",
       "\t<tr><th scope=row>3</th><td>Int. homicide</td><td>NO071</td><td>0.00</td><td>0</td></tr>\n",
       "</tbody>\n",
       "</table>\n"
      ],
      "text/latex": [
       "A data.frame: 3 × 4\n",
       "\\begin{tabular}{r|llll}\n",
       "  & iccs & geo & rel & abs\\\\\n",
       "  & <fct> & <fct> & <dbl> & <dbl>\\\\\n",
       "\\hline\n",
       "\t1 & Int. homicide & NO020 & 0.00 & 0\\\\\n",
       "\t2 & Int. homicide & NO060 & 0.21 & 1\\\\\n",
       "\t3 & Int. homicide & NO071 & 0.00 & 0\\\\\n",
       "\\end{tabular}\n"
      ],
      "text/markdown": [
       "\n",
       "A data.frame: 3 × 4\n",
       "\n",
       "| <!--/--> | iccs &lt;fct&gt; | geo &lt;fct&gt; | rel &lt;dbl&gt; | abs &lt;dbl&gt; |\n",
       "|---|---|---|---|---|\n",
       "| 1 | Int. homicide | NO020 | 0.00 | 0 |\n",
       "| 2 | Int. homicide | NO060 | 0.21 | 1 |\n",
       "| 3 | Int. homicide | NO071 | 0.00 | 0 |\n",
       "\n"
      ],
      "text/plain": [
       "  iccs          geo   rel  abs\n",
       "1 Int. homicide NO020 0.00 0  \n",
       "2 Int. homicide NO060 0.21 1  \n",
       "3 Int. homicide NO071 0.00 0  "
      ]
     },
     "metadata": {},
     "output_type": "display_data"
    }
   ],
   "source": [
    "prev_labels <- c('ICCS0101', 'ICCS0401', 'ICCS0502', 'ICCS050211')\n",
    "new_labels <- c('Int. homicide', 'Robbery', 'Theft', 'Theft of a m. l. vehicle')\n",
    "data$iccs <- factor(data$iccs, levels=prev_labels, labels=new_labels)\n",
    "head(data, 3)"
   ]
  },
  {
   "cell_type": "markdown",
   "id": "25e0b0a6-363b-492c-aced-4e09dcc00edd",
   "metadata": {},
   "source": [
    "## Exploratory data analysis & descriptive statistics"
   ]
  },
  {
   "cell_type": "markdown",
   "id": "2b862de9-fe6a-4987-be96-20e69f1dc408",
   "metadata": {},
   "source": [
    "The data we have represent a number of crimes of each specific type for each NUTS3 Norway region represented in P_HTHAB (Per hundred thousand inhabitants) units. To analyse the following data, statistical measures and graphs will be used. As a result, we want to get insights about the criminality in different NUTS3 regions of Norway."
   ]
  },
  {
   "cell_type": "code",
   "execution_count": 98,
   "id": "33dd137c-d584-498e-a750-a774c2901ee8",
   "metadata": {},
   "outputs": [],
   "source": [
    "freq_table <- pivot_wider(data[, -4], names_from=iccs, values_from=rel) %>%\n",
    "    column_to_rownames('geo') %>%\n",
    "    as.matrix() %>%\n",
    "    as.table()\n",
    "names(dimnames(freq_table)) <- c('geo', 'iccs')\n",
    "prob_table.row_cond <- prop.table(freq_table, margin=1)\n",
    "prob_table.col_cond <- prop.table(freq_table, margin=2)"
   ]
  },
  {
   "cell_type": "code",
   "execution_count": null,
   "id": "3d1b8843-326a-4abd-afef-c40e0bd77643",
   "metadata": {},
   "outputs": [],
   "source": []
  },
  {
   "cell_type": "code",
   "execution_count": 99,
   "id": "a19624c4-6cdd-4a5c-9590-407030b4bf44",
   "metadata": {},
   "outputs": [
    {
     "data": {
      "image/png": "[encoded data removed]",
      "text/plain": [
       "plot without title"
      ]
     },
     "metadata": {
      "image/png": {
       "height": 360,
       "width": 1020
      }
     },
     "output_type": "display_data"
    }
   ],
   "source": [
    "options(repr.plot.width=17, repr.plot.height=6) # Regulates the size of a plot [5]\n",
    "ggplot(as.data.frame(prob_table.row_cond), aes(x=geo, y=Freq, fill=iccs)) +\n",
    "    geom_bar(stat='identity', position='dodge') +\n",
    "    labs( title='Relative probabilities of crimes in Norway by regions', x='', y='NUTS3 codes of regions', # Changes a title & axes of a plot\n",
    "         fill=\"Crimes by type\" ) + # Changes a title of a legend\n",
    "    theme(plot.title = element_text(hjust=0.5)) # Centers a title of a plot"
   ]
  },
  {
   "cell_type": "markdown",
   "id": "1609264c-6f9b-44d4-9706-83b2f5871aa4",
   "metadata": {},
   "source": [
    "What we see from the plot upwards is that **without taking into account the criminality** of a particular NUTS3 region in Norway,\n",
    "the **distribution of crimes by types** in all regions is **very similar**. That gives us an intuition (tests weren't conducted yet) that\n",
    "**all crime types** are similarly distributed **in all regions.** We can see that **theft is the most likely-to-happen crime in all regions and an int. homicide is the most rare crime**."
   ]
  },
  {
   "cell_type": "code",
   "execution_count": 100,
   "id": "104e41cf-1e0c-46d5-a5d2-e13fb5a7277f",
   "metadata": {},
   "outputs": [
    {
     "data": {
      "image/png": "[encoded data removed]",
      "text/plain": [
       "plot without title"
      ]
     },
     "metadata": {
      "image/png": {
       "height": 780,
       "width": 720
      }
     },
     "output_type": "display_data"
    }
   ],
   "source": [
    "options(repr.plot.width=12, repr.plot.height=13) # Regulates the size of a plot [5]\n",
    "ggplot(as.data.frame(prob_table.col_cond), aes(x=iccs, y=Freq, fill=geo)) +\n",
    "    geom_bar(stat='identity', position='dodge') +\n",
    "    labs( title='Relative probabilities of crimes in Norway by types', y='', x = 'Crime types', # Changes a title & axes of a plot\n",
    "         fill=\"Regions\" ) + # Changes a title of a legend\n",
    "    theme(plot.title=element_text(hjust=0.5)) # Centers a title of a plot"
   ]
  },
  {
   "cell_type": "markdown",
   "id": "a89e0d76-882c-49d7-bea8-747d94c669d0",
   "metadata": {},
   "source": [
    "This plot depicts a **distribution of probability** of crimes by types in regions of Norway. Looking at the probabilities of each crime happening in a specific region, we can highlight these facts which immediately catch the eye:\n",
    "\n",
    "- **A robbery, a theft** is most likely to happen in **NO081**\n",
    "- **An int. homicide** is most likely to happen in **NO082**\n",
    "- **A theft of a vehicle** is most likely to happen in **NO092**\n",
    "\n",
    "\\* all statements are related to the year of 2021"
   ]
  },
  {
   "cell_type": "markdown",
   "id": "0348c4a7-9d3a-492d-a10d-5bf5c9fb074f",
   "metadata": {},
   "source": [
    "## Contingency table"
   ]
  },
  {
   "cell_type": "code",
   "execution_count": 101,
   "id": "c859531e-34da-4e6a-a1e4-bdff67e7f94e",
   "metadata": {},
   "outputs": [],
   "source": [
    "# TODO: Here it's time to say which region is the most criminal and which is the lest criminal one"
   ]
  },
  {
   "cell_type": "markdown",
   "id": "50bdf0f2-de01-44fe-b7a5-b7809d34b2bc",
   "metadata": {},
   "source": [
    "## Hypotheses and tests"
   ]
  },
  {
   "cell_type": "code",
   "execution_count": null,
   "id": "9d8b1b6a-c7c8-4ea3-b196-800c90e1fb48",
   "metadata": {},
   "outputs": [],
   "source": []
  },
  {
   "cell_type": "markdown",
   "id": "ef649948-f1e8-4ad7-a441-6a9517de3a18",
   "metadata": {},
   "source": [
    "## References\n",
    "\n",
    "1. ***Eurostat, Column description is located in 'About this dataset' section,*** https://ec.europa.eu/eurostat/databrowser/view/crim_gen_reg/default/table?lang=en&category=crim.crim_off\n",
    "2. ***Eurostat, Dataset metadata (Completeness section)***, https://ec.europa.eu/eurostat/cache/metadata/en/crim_gen_reg_esms.htm\n",
    "3. ***Eurostat, Dataset metadata (Unit of measure section)***, https://ec.europa.eu/eurostat/cache/metadata/en/crim_gen_reg_esms.htm\n",
    "4. ***Eurostat, International classification od crime (codes)***, https://ec.europa.eu/eurostat/databrowser/view/crim_gen_reg/default/table?lang=en&category=crim.crim_off\n",
    "5. ***Revolutions, Regulation of the size of a plot***, https://blog.revolutionanalytics.com/2015/09/resizing-plots-in-the-r-kernel-for-jupyter-notebooks.html\n",
    "6.  \n",
    "7.  \n",
    "8.  \n",
    "9.  \n",
    "10.  "
   ]
  }
 ],
 "metadata": {
  "kernelspec": {
   "display_name": "R",
   "language": "R",
   "name": "ir"
  },
  "language_info": {
   "codemirror_mode": "r",
   "file_extension": ".r",
   "mimetype": "text/x-r-source",
   "name": "R",
   "pygments_lexer": "r",
   "version": "4.3.3"
  }
 },
 "nbformat": 4,
 "nbformat_minor": 5
}
