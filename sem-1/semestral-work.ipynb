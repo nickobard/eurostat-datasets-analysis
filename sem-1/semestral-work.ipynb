{
 "cells": [
  {
   "cell_type": "markdown",
   "id": "18091f7a9ace2976",
   "metadata": {
    "collapsed": false,
    "jupyter": {
     "outputs_hidden": false
    }
   },
   "source": [
    "## BI-PRS - Semestral Work 1 (samarrik's version)"
   ]
  },
  {
   "cell_type": "markdown",
   "id": "d38929d5-a65b-4d6b-b1e4-8c3929cdbef0",
   "metadata": {},
   "source": [
    "### Country selection according to the representant's data"
   ]
  },
  {
   "cell_type": "code",
   "execution_count": 1,
   "id": "6db1cc594dc88b1c",
   "metadata": {
    "ExecuteTime": {
     "end_time": "2024-02-26T11:54:29.338493Z",
     "start_time": "2024-02-26T11:54:29.324249Z"
    },
    "collapsed": false,
    "jupyter": {
     "outputs_hidden": false
    }
   },
   "outputs": [
    {
     "name": "stdout",
     "output_type": "stream",
     "text": [
      "Parameter M = 2 => Norsko, K.Dedecius"
     ]
    }
   ],
   "source": [
    "K <- 27\n",
    "L <- nchar(\"bardatskii\")\n",
    "M <- ((K + L) * 47) %% 11 + 1\n",
    "\n",
    "cat(\"Parameter M =\", M, \"=> Norsko, K.Dedecius\")"
   ]
  },
  {
   "cell_type": "markdown",
   "id": "b1528caf-c9ef-4483-8a6f-acb46f4cb14c",
   "metadata": {},
   "source": [
    "### Neccessary imports"
   ]
  },
  {
   "cell_type": "code",
   "execution_count": 138,
   "id": "c5dc4eda-f8e7-481d-afd5-9652a97b320f",
   "metadata": {},
   "outputs": [],
   "source": [
    "#.libPaths('~/stats/Rlib') # set up the path to your R library\n",
    "#install.packages('...')   # install missing R packages\n",
    "\n",
    "# Import relevant R packages\n",
    "library(eurostat)\n",
    "library(ggplot2)\n",
    "library(gridExtra)\n",
    "library(cowplot)"
   ]
  },
  {
   "cell_type": "markdown",
   "id": "b53eb7ed-b672-4354-826e-fd17477df7f8",
   "metadata": {},
   "source": [
    "## Dataset preparation"
   ]
  },
  {
   "cell_type": "markdown",
   "id": "5a36265d-7a1b-4b4a-8d87-ce4712e2f46f",
   "metadata": {},
   "source": [
    "- Download the dataset\n",
    "- Columns description\n",
    "- Extract only relevant data"
   ]
  },
  {
   "cell_type": "code",
   "execution_count": 32,
   "id": "ef795396-c1ac-4af6-9d23-7b01ca08d8b3",
   "metadata": {},
   "outputs": [
    {
     "name": "stderr",
     "output_type": "stream",
     "text": [
      "Dataset query already saved in cache_list.json...\n",
      "\n",
      "Reading cache file /tmp/Rtmpg1UN22/eurostat/5dbb8eb502ceb230f603aca463f247ce.rds\n",
      "\n",
      "Table  crim_gen_reg  read from cache file:  /tmp/Rtmpg1UN22/eurostat/5dbb8eb502ceb230f603aca463f247ce.rds\n",
      "\n"
     ]
    }
   ],
   "source": [
    "# Downloading the dataset\n",
    "dataset <- get_eurostat(id='crim_gen_reg')"
   ]
  },
  {
   "cell_type": "code",
   "execution_count": 33,
   "id": "7e69faca-a125-4db9-aec1-0bbf2cb46024",
   "metadata": {},
   "outputs": [
    {
     "data": {
      "text/html": [
       "<table class=\"dataframe\">\n",
       "<caption>A tibble: 5 × 6</caption>\n",
       "<thead>\n",
       "\t<tr><th scope=col>freq</th><th scope=col>unit</th><th scope=col>iccs</th><th scope=col>geo</th><th scope=col>TIME_PERIOD</th><th scope=col>values</th></tr>\n",
       "\t<tr><th scope=col>&lt;chr&gt;</th><th scope=col>&lt;chr&gt;</th><th scope=col>&lt;chr&gt;</th><th scope=col>&lt;chr&gt;</th><th scope=col>&lt;date&gt;</th><th scope=col>&lt;dbl&gt;</th></tr>\n",
       "</thead>\n",
       "<tbody>\n",
       "\t<tr><td>A</td><td>NR</td><td>ICCS0101</td><td>AL</td><td>2008-01-01</td><td> 88</td></tr>\n",
       "\t<tr><td>A</td><td>NR</td><td>ICCS0101</td><td>AL</td><td>2009-01-01</td><td> 82</td></tr>\n",
       "\t<tr><td>A</td><td>NR</td><td>ICCS0101</td><td>AL</td><td>2010-01-01</td><td>118</td></tr>\n",
       "\t<tr><td>A</td><td>NR</td><td>ICCS0101</td><td>AL</td><td>2011-01-01</td><td>124</td></tr>\n",
       "\t<tr><td>A</td><td>NR</td><td>ICCS0101</td><td>AL</td><td>2012-01-01</td><td>126</td></tr>\n",
       "</tbody>\n",
       "</table>\n"
      ],
      "text/latex": [
       "A tibble: 5 × 6\n",
       "\\begin{tabular}{llllll}\n",
       " freq & unit & iccs & geo & TIME\\_PERIOD & values\\\\\n",
       " <chr> & <chr> & <chr> & <chr> & <date> & <dbl>\\\\\n",
       "\\hline\n",
       "\t A & NR & ICCS0101 & AL & 2008-01-01 &  88\\\\\n",
       "\t A & NR & ICCS0101 & AL & 2009-01-01 &  82\\\\\n",
       "\t A & NR & ICCS0101 & AL & 2010-01-01 & 118\\\\\n",
       "\t A & NR & ICCS0101 & AL & 2011-01-01 & 124\\\\\n",
       "\t A & NR & ICCS0101 & AL & 2012-01-01 & 126\\\\\n",
       "\\end{tabular}\n"
      ],
      "text/markdown": [
       "\n",
       "A tibble: 5 × 6\n",
       "\n",
       "| freq &lt;chr&gt; | unit &lt;chr&gt; | iccs &lt;chr&gt; | geo &lt;chr&gt; | TIME_PERIOD &lt;date&gt; | values &lt;dbl&gt; |\n",
       "|---|---|---|---|---|---|\n",
       "| A | NR | ICCS0101 | AL | 2008-01-01 |  88 |\n",
       "| A | NR | ICCS0101 | AL | 2009-01-01 |  82 |\n",
       "| A | NR | ICCS0101 | AL | 2010-01-01 | 118 |\n",
       "| A | NR | ICCS0101 | AL | 2011-01-01 | 124 |\n",
       "| A | NR | ICCS0101 | AL | 2012-01-01 | 126 |\n",
       "\n"
      ],
      "text/plain": [
       "  freq unit iccs     geo TIME_PERIOD values\n",
       "1 A    NR   ICCS0101 AL  2008-01-01   88   \n",
       "2 A    NR   ICCS0101 AL  2009-01-01   82   \n",
       "3 A    NR   ICCS0101 AL  2010-01-01  118   \n",
       "4 A    NR   ICCS0101 AL  2011-01-01  124   \n",
       "5 A    NR   ICCS0101 AL  2012-01-01  126   "
      ]
     },
     "metadata": {},
     "output_type": "display_data"
    }
   ],
   "source": [
    "# First glance at the data we've received\n",
    "head(dataset, 5)"
   ]
  },
  {
   "cell_type": "markdown",
   "id": "6907819e-e976-4268-9226-af24df0e84ca",
   "metadata": {},
   "source": [
    "#### Column description:\n",
    "\n",
    "- **geo**: Geopolitical entity (reporting)\n",
    "- **iccs**: International classification of crime for statistical purposes\n",
    "- **time**: Time\n",
    "- **freq**: Frequency\n",
    "- **unit**: Unit of measure\n",
    "\n",
    "[eurostat] https://ec.europa.eu/eurostat/databrowser/view/crim_gen_reg/default/table?lang=en&category=crim.crim_off ( About this dataset)"
   ]
  },
  {
   "cell_type": "markdown",
   "id": "1d455c15-212e-4aa0-8fa0-4b14c6611bff",
   "metadata": {},
   "source": [
    "#### Dataset completeness\n",
    "\n",
    "There are no problems with the completeness of the data for the year 2021 from Norway.\n",
    "\n",
    "[metadata] - https://ec.europa.eu/eurostat/cache/metadata/en/crim_gen_reg_esms.htm"
   ]
  },
  {
   "attachments": {},
   "cell_type": "markdown",
   "id": "abe9ca92-c3b9-49ba-bbcb-8ccc6e5f399b",
   "metadata": {},
   "source": [
    "![completeness](src/images/completeness.png)"
   ]
  },
  {
   "attachments": {},
   "cell_type": "markdown",
   "id": "893be8fc-63c6-440f-b249-9784559696d4",
   "metadata": {},
   "source": [
    "#### Data units of measure explanation\n",
    "\n",
    "We have multiple units of measure in this dataset. Let's clarify which ones we have here.\n",
    "\n",
    "[metadata] - https://ec.europa.eu/eurostat/cache/metadata/en/crim_gen_reg_esms.htm"
   ]
  },
  {
   "attachments": {},
   "cell_type": "markdown",
   "id": "fce440d5-3a90-4273-bfb0-652c4024f889",
   "metadata": {},
   "source": [
    "![units](src/images/units.png)"
   ]
  },
  {
   "cell_type": "markdown",
   "id": "de52bf75-f92c-46de-b111-c16466890cb0",
   "metadata": {},
   "source": [
    "#### Relevant data selection\n",
    "- Norway NUTS3 regions\n",
    "- Records for the year 2021\n",
    "- P_HTHAB (Per hundred thousand inhabitants) units*\n",
    "\n",
    "\\* - We will use relative units, not exact ones because relative units better show amount of crimes according to the number of people\n",
    "living there"
   ]
  },
  {
   "cell_type": "code",
   "execution_count": 99,
   "id": "fb98bfd4-6bb5-494c-89de-e2ac00e6e9ca",
   "metadata": {},
   "outputs": [
    {
     "data": {
      "text/html": [
       "<table class=\"dataframe\">\n",
       "<caption>A tibble: 3 × 3</caption>\n",
       "<thead>\n",
       "\t<tr><th scope=col>iccs</th><th scope=col>geo</th><th scope=col>values</th></tr>\n",
       "\t<tr><th scope=col>&lt;chr&gt;</th><th scope=col>&lt;chr&gt;</th><th scope=col>&lt;dbl&gt;</th></tr>\n",
       "</thead>\n",
       "<tbody>\n",
       "\t<tr><td>ICCS0101</td><td>NO020</td><td>0.00</td></tr>\n",
       "\t<tr><td>ICCS0101</td><td>NO060</td><td>0.21</td></tr>\n",
       "\t<tr><td>ICCS0101</td><td>NO071</td><td>0.00</td></tr>\n",
       "</tbody>\n",
       "</table>\n"
      ],
      "text/latex": [
       "A tibble: 3 × 3\n",
       "\\begin{tabular}{lll}\n",
       " iccs & geo & values\\\\\n",
       " <chr> & <chr> & <dbl>\\\\\n",
       "\\hline\n",
       "\t ICCS0101 & NO020 & 0.00\\\\\n",
       "\t ICCS0101 & NO060 & 0.21\\\\\n",
       "\t ICCS0101 & NO071 & 0.00\\\\\n",
       "\\end{tabular}\n"
      ],
      "text/markdown": [
       "\n",
       "A tibble: 3 × 3\n",
       "\n",
       "| iccs &lt;chr&gt; | geo &lt;chr&gt; | values &lt;dbl&gt; |\n",
       "|---|---|---|\n",
       "| ICCS0101 | NO020 | 0.00 |\n",
       "| ICCS0101 | NO060 | 0.21 |\n",
       "| ICCS0101 | NO071 | 0.00 |\n",
       "\n"
      ],
      "text/plain": [
       "  iccs     geo   values\n",
       "1 ICCS0101 NO020 0.00  \n",
       "2 ICCS0101 NO060 0.21  \n",
       "3 ICCS0101 NO071 0.00  "
      ]
     },
     "metadata": {},
     "output_type": "display_data"
    }
   ],
   "source": [
    "data <- dataset[startsWith(dataset$geo, 'NO') & (nchar(dataset$geo) == 5),]\n",
    "data <- data[data$TIME_PERIOD == '2021-01-01',]\n",
    "data <- data[data$unit == 'P_HTHAB',]\n",
    "data$unit <- NULL\n",
    "data$freq <- NULL\n",
    "data$TIME_PERIOD <- NULL\n",
    "head(data, 3)"
   ]
  },
  {
   "cell_type": "markdown",
   "id": "7b6c0f3a-c22d-42bf-bd22-28c9116985ea",
   "metadata": {},
   "source": [
    "#### Suitable column types transformations\n",
    "\n",
    "- iccs - should be factor\n",
    "- geo - should be factor"
   ]
  },
  {
   "cell_type": "code",
   "execution_count": 100,
   "id": "b35f40e6-ce76-4788-bcd0-51c84bfba65c",
   "metadata": {},
   "outputs": [
    {
     "data": {
      "text/html": [
       "<table class=\"dataframe\">\n",
       "<caption>A tibble: 3 × 3</caption>\n",
       "<thead>\n",
       "\t<tr><th scope=col>iccs</th><th scope=col>geo</th><th scope=col>values</th></tr>\n",
       "\t<tr><th scope=col>&lt;fct&gt;</th><th scope=col>&lt;fct&gt;</th><th scope=col>&lt;dbl&gt;</th></tr>\n",
       "</thead>\n",
       "<tbody>\n",
       "\t<tr><td>ICCS0101</td><td>NO020</td><td>0.00</td></tr>\n",
       "\t<tr><td>ICCS0101</td><td>NO060</td><td>0.21</td></tr>\n",
       "\t<tr><td>ICCS0101</td><td>NO071</td><td>0.00</td></tr>\n",
       "</tbody>\n",
       "</table>\n"
      ],
      "text/latex": [
       "A tibble: 3 × 3\n",
       "\\begin{tabular}{lll}\n",
       " iccs & geo & values\\\\\n",
       " <fct> & <fct> & <dbl>\\\\\n",
       "\\hline\n",
       "\t ICCS0101 & NO020 & 0.00\\\\\n",
       "\t ICCS0101 & NO060 & 0.21\\\\\n",
       "\t ICCS0101 & NO071 & 0.00\\\\\n",
       "\\end{tabular}\n"
      ],
      "text/markdown": [
       "\n",
       "A tibble: 3 × 3\n",
       "\n",
       "| iccs &lt;fct&gt; | geo &lt;fct&gt; | values &lt;dbl&gt; |\n",
       "|---|---|---|\n",
       "| ICCS0101 | NO020 | 0.00 |\n",
       "| ICCS0101 | NO060 | 0.21 |\n",
       "| ICCS0101 | NO071 | 0.00 |\n",
       "\n"
      ],
      "text/plain": [
       "  iccs     geo   values\n",
       "1 ICCS0101 NO020 0.00  \n",
       "2 ICCS0101 NO060 0.21  \n",
       "3 ICCS0101 NO071 0.00  "
      ]
     },
     "metadata": {},
     "output_type": "display_data"
    }
   ],
   "source": [
    "data$iccs <- as.factor(data$iccs)\n",
    "data$geo <- as.factor(data$geo)\n",
    "head(data, 3)"
   ]
  },
  {
   "cell_type": "markdown",
   "id": "58e24a60-61ca-4d1c-8f7a-fcb51c3de534",
   "metadata": {},
   "source": [
    "#### Rename factor categories"
   ]
  },
  {
   "cell_type": "markdown",
   "id": "0ce75ff6-19d1-4f73-993c-a5bb7f637cb1",
   "metadata": {},
   "source": [
    "![iccs_codes](src/images/iccs_codes.png)\n",
    "\n",
    "**Not provided in the dataset**:\n",
    "- Assault (ICCS02011)\n",
    "- Burglary (ICCS0501)\n",
    "- Burglary of private residential premises (ICCS05012)\n",
    "\n",
    "[iccs_codes] - https://ec.europa.eu/eurostat/databrowser/view/crim_gen_reg/default/table?lang=en&category=crim.crim_off"
   ]
  },
  {
   "cell_type": "code",
   "execution_count": 101,
   "id": "8dc8c7e9-95a8-4916-b2da-8b522007c925",
   "metadata": {},
   "outputs": [
    {
     "data": {
      "text/html": [
       "<table class=\"dataframe\">\n",
       "<caption>A tibble: 3 × 3</caption>\n",
       "<thead>\n",
       "\t<tr><th scope=col>iccs</th><th scope=col>geo</th><th scope=col>values</th></tr>\n",
       "\t<tr><th scope=col>&lt;fct&gt;</th><th scope=col>&lt;fct&gt;</th><th scope=col>&lt;dbl&gt;</th></tr>\n",
       "</thead>\n",
       "<tbody>\n",
       "\t<tr><td>Intentional homicide</td><td>NO020</td><td>0.00</td></tr>\n",
       "\t<tr><td>Intentional homicide</td><td>NO060</td><td>0.21</td></tr>\n",
       "\t<tr><td>Intentional homicide</td><td>NO071</td><td>0.00</td></tr>\n",
       "</tbody>\n",
       "</table>\n"
      ],
      "text/latex": [
       "A tibble: 3 × 3\n",
       "\\begin{tabular}{lll}\n",
       " iccs & geo & values\\\\\n",
       " <fct> & <fct> & <dbl>\\\\\n",
       "\\hline\n",
       "\t Intentional homicide & NO020 & 0.00\\\\\n",
       "\t Intentional homicide & NO060 & 0.21\\\\\n",
       "\t Intentional homicide & NO071 & 0.00\\\\\n",
       "\\end{tabular}\n"
      ],
      "text/markdown": [
       "\n",
       "A tibble: 3 × 3\n",
       "\n",
       "| iccs &lt;fct&gt; | geo &lt;fct&gt; | values &lt;dbl&gt; |\n",
       "|---|---|---|\n",
       "| Intentional homicide | NO020 | 0.00 |\n",
       "| Intentional homicide | NO060 | 0.21 |\n",
       "| Intentional homicide | NO071 | 0.00 |\n",
       "\n"
      ],
      "text/plain": [
       "  iccs                 geo   values\n",
       "1 Intentional homicide NO020 0.00  \n",
       "2 Intentional homicide NO060 0.21  \n",
       "3 Intentional homicide NO071 0.00  "
      ]
     },
     "metadata": {},
     "output_type": "display_data"
    }
   ],
   "source": [
    "prev_labels = c('ICCS0101', 'ICCS0401', 'ICCS0502', 'ICCS050211')\n",
    "new_labels = c('Intentional homicide', 'Robbery', 'Theft', 'Theft of a motorized land vehicle')\n",
    "data$iccs <- factor(data$iccs, levels=prev_labels, labels = new_labels)\n",
    "head(data, 3)"
   ]
  },
  {
   "cell_type": "markdown",
   "id": "25e0b0a6-363b-492c-aced-4e09dcc00edd",
   "metadata": {},
   "source": [
    "## Exploratory data analysis & descriptive statistics"
   ]
  },
  {
   "cell_type": "markdown",
   "id": "2b862de9-fe6a-4987-be96-20e69f1dc408",
   "metadata": {},
   "source": [
    "The data we have represent a number of crimes of each specific type for each NUTS3 Norway region represented in P_HTHAB (Per hundred thousand inhabitants) units. To analyse the following data, statistical measures and graphs will be used. As a result, we want to get insights about the criminality in different NUTS3 regions of Norway.\n",
    "\n",
    "**For each region:**\n",
    "\n",
    "- Crime type distribution\n",
    "- ????\n",
    "\n",
    "\n",
    "**For the whole country:**\n",
    "\n",
    "- (selection) Mean / Min / Max for each crime\n",
    "- ????"
   ]
  },
  {
   "cell_type": "code",
   "execution_count": 159,
   "id": "33dd137c-d584-498e-a750-a774c2901ee8",
   "metadata": {},
   "outputs": [
    {
     "name": "stderr",
     "output_type": "stream",
     "text": [
      "Warning message in as_grob.default(plot):\n",
      "“Cannot convert object of class numeric into a grob.”\n"
     ]
    },
    {
     "data": {
      "image/png": "[encoded data removed]",
      "text/plain": [
       "plot without title"
      ]
     },
     "metadata": {
      "image/png": {
       "height": 420,
       "width": 420
      }
     },
     "output_type": "display_data"
    }
   ],
   "source": [
    "# Get all Norway NUTS3 region codes\n",
    "norway_nuts3_regions = unique(data$geo)\n",
    "\n",
    "# Prepare a function which plots a bar plot for each region\n",
    "region_bar_plot <- function(region){\n",
    "    # Select data by the region\n",
    "    data_region = data[data$geo == region,]\n",
    "    # Make a single bar plot\n",
    "    plot <- ggplot( data = data_region, mapping = aes(x = iccs, y= values)) +\n",
    "           geom_bar(stat=\"identity\") +   # stat=\"identity\" allows us to use y = values\n",
    "           labs(title = paste(\"Crimes per hundred thousand inhabitants in \", region), x = \"Crime type\", y = \"Per hundred thousand inhabitants\")\n",
    "    return(plot)\n",
    "}\n",
    "\n",
    "plots <- list()\n",
    "for ( region in norway_nuts3_regions ) {\n",
    "  # Create the plot\n",
    "  region_plot <- region_bar_plot(region)\n",
    "  # Add the plot to the list\n",
    "  plots <- c(plots, list(region_plot))\n",
    "}\n",
    "\n",
    "final_plot <- plot_grid(plotlist = plots, ncols = 4)\n",
    "final_plot"
   ]
  },
  {
   "cell_type": "code",
   "execution_count": 160,
   "id": "2138f74c-17ea-4b0a-ad58-bfb59dc6aae7",
   "metadata": {},
   "outputs": [
    {
     "ename": "ERROR",
     "evalue": "Error in eval(expr, envir, enclos): '...' used in an incorrect context\n",
     "output_type": "error",
     "traceback": [
      "Error in eval(expr, envir, enclos): '...' used in an incorrect context\nTraceback:\n"
     ]
    }
   ],
   "source": [
    "..."
   ]
  },
  {
   "cell_type": "markdown",
   "id": "0348c4a7-9d3a-492d-a10d-5bf5c9fb074f",
   "metadata": {},
   "source": [
    "## Contingency table"
   ]
  },
  {
   "cell_type": "code",
   "execution_count": null,
   "id": "c859531e-34da-4e6a-a1e4-bdff67e7f94e",
   "metadata": {},
   "outputs": [],
   "source": []
  },
  {
   "cell_type": "markdown",
   "id": "50bdf0f2-de01-44fe-b7a5-b7809d34b2bc",
   "metadata": {},
   "source": [
    "## Hypotheses and tests"
   ]
  },
  {
   "cell_type": "code",
   "execution_count": null,
   "id": "9d8b1b6a-c7c8-4ea3-b196-800c90e1fb48",
   "metadata": {},
   "outputs": [],
   "source": []
  }
 ],
 "metadata": {
  "kernelspec": {
   "display_name": "R",
   "language": "R",
   "name": "ir"
  },
  "language_info": {
   "codemirror_mode": "r",
   "file_extension": ".r",
   "mimetype": "text/x-r-source",
   "name": "R",
   "pygments_lexer": "r",
   "version": "4.3.3"
  }
 },
 "nbformat": 4,
 "nbformat_minor": 5
}
