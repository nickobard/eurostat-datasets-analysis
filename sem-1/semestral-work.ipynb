{
 "cells": [
  {
   "cell_type": "markdown",
   "id": "18091f7a9ace2976",
   "metadata": {
    "collapsed": false,
    "jupyter": {
     "outputs_hidden": false
    }
   },
   "source": [
    "# BI-PRS - Semestral Work 1 (samarrik's version)"
   ]
  },
  {
   "cell_type": "code",
   "execution_count": 3,
   "id": "6db1cc594dc88b1c",
   "metadata": {
    "ExecuteTime": {
     "end_time": "2024-02-26T11:54:29.338493Z",
     "start_time": "2024-02-26T11:54:29.324249Z"
    },
    "collapsed": false,
    "jupyter": {
     "outputs_hidden": false
    }
   },
   "outputs": [],
   "source": [
    "K <- 27\n",
    "L <- nchar(\"bardatskii\")\n",
    "M <- ((K + L) * 47) %% 11 + 1"
   ]
  },
  {
   "cell_type": "code",
   "execution_count": 11,
   "id": "06cca225-7379-428d-8195-147cd518fd8e",
   "metadata": {
    "ExecuteTime": {
     "end_time": "2024-02-26T11:58:02.454686Z",
     "start_time": "2024-02-26T11:58:02.442204Z"
    }
   },
   "outputs": [
    {
     "name": "stdout",
     "output_type": "stream",
     "text": [
      "Parameter M = 2 => Norsko, K.Dedecius"
     ]
    }
   ],
   "source": [
    "cat(\"Parameter M =\", M, \"=> Norsko, K.Dedecius\")"
   ]
  }
 ],
 "metadata": {
  "kernelspec": {
   "display_name": "R",
   "language": "R",
   "name": "ir"
  },
  "language_info": {
   "codemirror_mode": "r",
   "file_extension": ".r",
   "mimetype": "text/x-r-source",
   "name": "R",
   "pygments_lexer": "r",
   "version": "4.3.3"
  }
 },
 "nbformat": 4,
 "nbformat_minor": 5
}
