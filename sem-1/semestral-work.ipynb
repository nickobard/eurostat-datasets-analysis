{
 "cells": [
  {
   "cell_type": "code",
   "execution_count": 112,
   "id": "c5dc4eda-f8e7-481d-afd5-9652a97b320f",
   "metadata": {
    "ExecuteTime": {
     "end_time": "2024-03-23T23:52:06.853413Z",
     "start_time": "2024-03-23T23:52:06.732674Z"
    }
   },
   "outputs": [
    {
     "name": "stderr",
     "output_type": "stream",
     "text": [
      "Loading required package: grid\n",
      "\n"
     ]
    }
   ],
   "source": [
    "# TODO: manage imports\n",
    "library(eurostat)\n",
    "library(ggplot2)\n",
    "library(gridExtra)\n",
    "library(cowplot)\n",
    "library(repr)\n",
    "library(vtable)\n",
    "library(tidyr)\n",
    "library(tibble)"
   ]
  },
  {
   "cell_type": "code",
   "outputs": [
    {
     "data": {
      "text/html": "<table class=\"dataframe\">\n<caption>A data.frame: 1 × 2</caption>\n<thead>\n\t<tr><th></th><th scope=col>country</th><th scope=col>examiner</th></tr>\n\t<tr><th></th><th scope=col>&lt;chr&gt;</th><th scope=col>&lt;chr&gt;</th></tr>\n</thead>\n<tbody>\n\t<tr><th scope=row>2</th><td>Norsko</td><td>K. Dedecius</td></tr>\n</tbody>\n</table>\n",
      "text/markdown": "\nA data.frame: 1 × 2\n\n| <!--/--> | country &lt;chr&gt; | examiner &lt;chr&gt; |\n|---|---|---|\n| 2 | Norsko | K. Dedecius |\n\n",
      "text/latex": "A data.frame: 1 × 2\n\\begin{tabular}{r|ll}\n  & country & examiner\\\\\n  & <chr> & <chr>\\\\\n\\hline\n\t2 & Norsko & K. Dedecius\\\\\n\\end{tabular}\n",
      "text/plain": "  country examiner   \n2 Norsko  K. Dedecius"
     },
     "metadata": {},
     "output_type": "display_data"
    }
   ],
   "source": [
    "K <- 27\n",
    "L <- nchar('bardatskii')\n",
    "M <- ((K + L) * 47) %% 11 + 1\n",
    "data.frame(\n",
    "  country=c('ČR', 'Norsko', 'Rakousko', 'Belgie', 'Řecko', 'Španělsko', \n",
    "            'Nizozemsko', 'Portugalsko', 'Švýcarsko\t', 'Finsko', 'Irsko'),\n",
    "  examiner=c(rep('K. Dedecius', 6), rep('P. Novák', 5))\n",
    ")[M,]"
   ],
   "metadata": {
    "collapsed": false,
    "ExecuteTime": {
     "end_time": "2024-03-23T21:56:24.289162Z",
     "start_time": "2024-03-23T21:56:24.256426Z"
    }
   },
   "id": "6db1cc594dc88b1c",
   "execution_count": 12
  },
  {
   "cell_type": "code",
   "execution_count": 13,
   "id": "ef795396-c1ac-4af6-9d23-7b01ca08d8b3",
   "metadata": {
    "ExecuteTime": {
     "end_time": "2024-03-23T21:56:24.695345Z",
     "start_time": "2024-03-23T21:56:24.293394Z"
    }
   },
   "outputs": [
    {
     "name": "stderr",
     "output_type": "stream",
     "text": [
      "Dataset query already saved in cache_list.json...\n",
      "\n",
      "Reading cache file /tmp/Rtmp46bToz/eurostat/a2939e209a7e6021da51fe52fa89a065.rds\n",
      "\n",
      "Table  crim_gen_reg  read from cache file:  /tmp/Rtmp46bToz/eurostat/a2939e209a7e6021da51fe52fa89a065.rds\n",
      "\n"
     ]
    }
   ],
   "source": [
    "dataset <- get_eurostat(id ='crim_gen_reg')"
   ]
  },
  {
   "cell_type": "code",
   "outputs": [
    {
     "name": "stdout",
     "output_type": "stream",
     "text": [
      "tibble [216,947 × 6] (S3: tbl_df/tbl/data.frame)\n",
      " $ freq       : chr [1:216947] \"A\" \"A\" \"A\" \"A\" ...\n",
      " $ unit       : chr [1:216947] \"NR\" \"NR\" \"NR\" \"NR\" ...\n",
      " $ iccs       : chr [1:216947] \"ICCS0101\" \"ICCS0101\" \"ICCS0101\" \"ICCS0101\" ...\n",
      " $ geo        : chr [1:216947] \"AL\" \"AL\" \"AL\" \"AL\" ...\n",
      " $ TIME_PERIOD: Date[1:216947], format: \"2008-01-01\" \"2009-01-01\" ...\n",
      " $ values     : num [1:216947] 88 82 118 124 126 107 98 54 71 52 ...\n"
     ]
    }
   ],
   "source": [
    "str(dataset)"
   ],
   "metadata": {
    "collapsed": false,
    "ExecuteTime": {
     "end_time": "2024-03-23T21:56:24.711301Z",
     "start_time": "2024-03-23T21:56:24.698487Z"
    }
   },
   "id": "585476e37262710c",
   "execution_count": 14
  },
  {
   "cell_type": "code",
   "outputs": [
    {
     "data": {
      "text/html": "<style>\n.list-inline {list-style: none; margin:0; padding: 0}\n.list-inline>li {display: inline-block}\n.list-inline>li:not(:last-child)::after {content: \"\\00b7\"; padding: 0 .5ex}\n</style>\n<ol class=list-inline><li><time datetime=\"2008-01-01\">2008-01-01</time></li><li><time datetime=\"2009-01-01\">2009-01-01</time></li><li><time datetime=\"2010-01-01\">2010-01-01</time></li><li><time datetime=\"2011-01-01\">2011-01-01</time></li><li><time datetime=\"2012-01-01\">2012-01-01</time></li><li><time datetime=\"2013-01-01\">2013-01-01</time></li><li><time datetime=\"2014-01-01\">2014-01-01</time></li><li><time datetime=\"2015-01-01\">2015-01-01</time></li><li><time datetime=\"2016-01-01\">2016-01-01</time></li><li><time datetime=\"2017-01-01\">2017-01-01</time></li><li><time datetime=\"2018-01-01\">2018-01-01</time></li><li><time datetime=\"2019-01-01\">2019-01-01</time></li><li><time datetime=\"2020-01-01\">2020-01-01</time></li><li><time datetime=\"2021-01-01\">2021-01-01</time></li></ol>\n",
      "text/markdown": "1. 2008-01-01\n2. 2009-01-01\n3. 2010-01-01\n4. 2011-01-01\n5. 2012-01-01\n6. 2013-01-01\n7. 2014-01-01\n8. 2015-01-01\n9. 2016-01-01\n10. 2017-01-01\n11. 2018-01-01\n12. 2019-01-01\n13. 2020-01-01\n14. 2021-01-01\n\n\n",
      "text/latex": "\\begin{enumerate*}\n\\item 2008-01-01\n\\item 2009-01-01\n\\item 2010-01-01\n\\item 2011-01-01\n\\item 2012-01-01\n\\item 2013-01-01\n\\item 2014-01-01\n\\item 2015-01-01\n\\item 2016-01-01\n\\item 2017-01-01\n\\item 2018-01-01\n\\item 2019-01-01\n\\item 2020-01-01\n\\item 2021-01-01\n\\end{enumerate*}\n",
      "text/plain": " [1] \"2008-01-01\" \"2009-01-01\" \"2010-01-01\" \"2011-01-01\" \"2012-01-01\"\n [6] \"2013-01-01\" \"2014-01-01\" \"2015-01-01\" \"2016-01-01\" \"2017-01-01\"\n[11] \"2018-01-01\" \"2019-01-01\" \"2020-01-01\" \"2021-01-01\""
     },
     "metadata": {},
     "output_type": "display_data"
    }
   ],
   "source": [
    "unique(dataset$TIME_PERIOD)"
   ],
   "metadata": {
    "collapsed": false,
    "ExecuteTime": {
     "end_time": "2024-03-23T21:56:24.727098Z",
     "start_time": "2024-03-23T21:56:24.714387Z"
    }
   },
   "id": "d0e026be9a2c8349",
   "execution_count": 15
  },
  {
   "cell_type": "code",
   "execution_count": 16,
   "id": "fb98bfd4-6bb5-494c-89de-e2ac00e6e9ca",
   "metadata": {
    "ExecuteTime": {
     "end_time": "2024-03-23T21:56:24.760840Z",
     "start_time": "2024-03-23T21:56:24.730389Z"
    }
   },
   "outputs": [],
   "source": [
    "data <- subset(dataset, \n",
    "    startsWith(geo, 'NO') &\n",
    "    nchar(geo) == 5 &\n",
    "    TIME_PERIOD == '2021-01-01'\n",
    ")\n",
    "data$TIME_PERIOD <- NULL\n",
    "data$freq <- NULL\n",
    "\n",
    "prev_labels <- c('ICCS0101', 'ICCS0401', 'ICCS0502', 'ICCS050211')\n",
    "new_labels <- c('Int. homicide', 'Robbery', 'Theft', 'Theft of a m. l. vehicle')\n",
    "data$iccs <- factor(data$iccs, levels=prev_labels, labels=new_labels)"
   ]
  },
  {
   "cell_type": "code",
   "outputs": [
    {
     "data": {
      "text/html": "TRUE",
      "text/markdown": "TRUE",
      "text/latex": "TRUE",
      "text/plain": "[1] TRUE"
     },
     "metadata": {},
     "output_type": "display_data"
    }
   ],
   "source": [
    "data_by_unit <- split(data[,-1], data$unit)\n",
    "all.equal(data_by_unit$P_HTHAB[,1:2], data_by_unit$NR[,1:2])"
   ],
   "metadata": {
    "collapsed": false,
    "ExecuteTime": {
     "end_time": "2024-03-23T21:56:24.775518Z",
     "start_time": "2024-03-23T21:56:24.763763Z"
    }
   },
   "id": "7a4cd7db6d6687aa",
   "execution_count": 17
  },
  {
   "cell_type": "code",
   "outputs": [],
   "source": [
    "data <- merge(x=data_by_unit$P_HTHAB, y=data_by_unit$NR, by=c('iccs', 'geo'), all=TRUE)  # outer join\n",
    "colnames(data)[3] <- 'rel'\n",
    "colnames(data)[4] <- 'abs'"
   ],
   "metadata": {
    "collapsed": false,
    "ExecuteTime": {
     "end_time": "2024-03-23T21:56:24.790249Z",
     "start_time": "2024-03-23T21:56:24.778551Z"
    }
   },
   "id": "56f0f494631cc112",
   "execution_count": 18
  },
  {
   "cell_type": "code",
   "outputs": [
    {
     "data": {
      "text/html": "FALSE",
      "text/markdown": "FALSE",
      "text/latex": "FALSE",
      "text/plain": "[1] FALSE"
     },
     "metadata": {},
     "output_type": "display_data"
    }
   ],
   "source": [
    "any(is.na(data))"
   ],
   "metadata": {
    "collapsed": false,
    "ExecuteTime": {
     "end_time": "2024-03-23T21:56:24.803337Z",
     "start_time": "2024-03-23T21:56:24.793299Z"
    }
   },
   "id": "aac84fa4291db229",
   "execution_count": 19
  },
  {
   "cell_type": "code",
   "outputs": [],
   "source": [
    "freq_table <- pivot_wider(data[, -4], names_from=iccs, values_from=rel) %>%\n",
    "    column_to_rownames('geo') %>%\n",
    "    as.matrix() %>%\n",
    "    as.table()\n",
    "names(dimnames(freq_table)) <- c('geo', 'iccs')"
   ],
   "metadata": {
    "collapsed": false,
    "ExecuteTime": {
     "end_time": "2024-03-23T23:42:00.801220Z",
     "start_time": "2024-03-23T23:42:00.781929Z"
    }
   },
   "id": "663aab3a188ad402",
   "execution_count": 96
  },
  {
   "cell_type": "code",
   "outputs": [
    {
     "data": {
      "text/plain": "       iccs\ngeo     Int. homicide Robbery   Theft Theft of a m. l. vehicle\n  NO020          0.00    5.13  821.90                    32.92\n  NO060          0.21    8.91 1382.86                    62.40\n  NO071          0.00    1.66  620.36                    37.03\n  NO074          0.00    5.78  775.49                    43.77\n  NO081          1.00   46.91 3017.17                    74.32\n  NO082          1.04   10.46 1294.65                    54.62\n  NO091          0.47   10.43 1451.83                    91.97\n  NO092          0.32   12.95 1793.14                   112.35\n  NO0A1          0.00   11.40 1444.75                    55.53\n  NO0A2          0.47    7.83 1135.84                    32.09\n  NO0A3          0.75    2.64  595.00                    25.23"
     },
     "metadata": {},
     "output_type": "display_data"
    }
   ],
   "source": [
    "freq_table"
   ],
   "metadata": {
    "collapsed": false,
    "ExecuteTime": {
     "end_time": "2024-03-23T23:54:19.489354Z",
     "start_time": "2024-03-23T23:54:19.478116Z"
    }
   },
   "id": "efcecc02cbd507e6",
   "execution_count": 117
  },
  {
   "cell_type": "code",
   "outputs": [],
   "source": [
    "prob_table.row_cond <- prop.table(freq_table, margin=1)\n",
    "prob_table.col_cond <- prop.table(freq_table, margin=2)"
   ],
   "metadata": {
    "collapsed": false,
    "ExecuteTime": {
     "end_time": "2024-03-23T23:43:30.875343Z",
     "start_time": "2024-03-23T23:43:30.855802Z"
    }
   },
   "id": "76a732eaaf0f91db",
   "execution_count": 99
  },
  {
   "cell_type": "code",
   "outputs": [
    {
     "data": {
      "text/plain": "plot without title",
      "image/png": "[encoded data removed]"
     },
     "metadata": {
      "image/png": {
       "width": 420,
       "height": 420
      }
     },
     "output_type": "display_data"
    }
   ],
   "source": [
    "# TODO: rename axes\n",
    "ggplot(as.data.frame(prob_table.row_cond), aes(x=geo, y=Freq, fill=iccs)) +\n",
    "  geom_bar(stat='identity', position='dodge')"
   ],
   "metadata": {
    "collapsed": false,
    "ExecuteTime": {
     "end_time": "2024-03-23T23:44:23.539796Z",
     "start_time": "2024-03-23T23:44:23.341125Z"
    }
   },
   "id": "dbffe902bff274e3",
   "execution_count": 103
  },
  {
   "cell_type": "code",
   "outputs": [
    {
     "data": {
      "text/plain": "plot without title",
      "image/png": "[encoded data removed]"
     },
     "metadata": {
      "image/png": {
       "width": 420,
       "height": 420
      }
     },
     "output_type": "display_data"
    }
   ],
   "source": [
    "# TODO: rename axes\n",
    "ggplot(as.data.frame(prob_table.col_cond), aes(x=iccs, y=Freq, fill=geo)) +\n",
    "    geom_bar(stat='identity', position='dodge')"
   ],
   "metadata": {
    "collapsed": false,
    "ExecuteTime": {
     "end_time": "2024-03-23T23:46:35.270209Z",
     "start_time": "2024-03-23T23:46:35.033340Z"
    }
   },
   "id": "ca896d663fa6078c",
   "execution_count": 107
  },
  {
   "cell_type": "code",
   "outputs": [],
   "source": [],
   "metadata": {
    "collapsed": false
   },
   "id": "d9ffeea1762d586a"
  }
 ],
 "metadata": {
  "kernelspec": {
   "display_name": "R",
   "language": "R",
   "name": "ir"
  },
  "language_info": {
   "codemirror_mode": "r",
   "file_extension": ".r",
   "mimetype": "text/x-r-source",
   "name": "R",
   "pygments_lexer": "r",
   "version": "4.3.3"
  }
 },
 "nbformat": 4,
 "nbformat_minor": 5
}
